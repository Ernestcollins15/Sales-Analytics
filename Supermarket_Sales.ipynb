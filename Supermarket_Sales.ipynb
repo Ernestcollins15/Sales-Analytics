{
 "cells": [
  {
   "cell_type": "code",
   "execution_count": 1,
   "metadata": {},
   "outputs": [],
   "source": [
    "import os\n",
    "import numpy as np\n",
    "import pandas as pd    \n",
    "import seaborn as sns  \n",
    "import matplotlib.pyplot as plt \n",
    "import plotly.express as px"
   ]
  },
  {
   "cell_type": "code",
   "execution_count": 2,
   "metadata": {},
   "outputs": [
    {
     "data": {
      "text/plain": [
       "'c:\\\\Users\\\\Ernest\\\\Desktop\\\\Python\\\\Sales Analysis\\\\supermarket_sales.csv'"
      ]
     },
     "execution_count": 2,
     "metadata": {},
     "output_type": "execute_result"
    }
   ],
   "source": [
    "pwd = os.getcwd()\n",
    "filepath = os.path.join(pwd,\"supermarket_sales.csv\")\n",
    "filepath"
   ]
  },
  {
   "cell_type": "code",
   "execution_count": 3,
   "metadata": {},
   "outputs": [
    {
     "data": {
      "text/html": [
       "<div>\n",
       "<style scoped>\n",
       "    .dataframe tbody tr th:only-of-type {\n",
       "        vertical-align: middle;\n",
       "    }\n",
       "\n",
       "    .dataframe tbody tr th {\n",
       "        vertical-align: top;\n",
       "    }\n",
       "\n",
       "    .dataframe thead th {\n",
       "        text-align: right;\n",
       "    }\n",
       "</style>\n",
       "<table border=\"1\" class=\"dataframe\">\n",
       "  <thead>\n",
       "    <tr style=\"text-align: right;\">\n",
       "      <th></th>\n",
       "      <th>Invoice_ID</th>\n",
       "      <th>Branch</th>\n",
       "      <th>City</th>\n",
       "      <th>Customer_type</th>\n",
       "      <th>Gender</th>\n",
       "      <th>Product_line</th>\n",
       "      <th>Unit_price</th>\n",
       "      <th>Quantity</th>\n",
       "      <th>Tax 5%</th>\n",
       "      <th>Total</th>\n",
       "      <th>Date</th>\n",
       "      <th>Time</th>\n",
       "      <th>Payment</th>\n",
       "      <th>cogs</th>\n",
       "      <th>gross_margin_percentage</th>\n",
       "      <th>gross_income</th>\n",
       "      <th>Rating</th>\n",
       "    </tr>\n",
       "  </thead>\n",
       "  <tbody>\n",
       "    <tr>\n",
       "      <th>0</th>\n",
       "      <td>750-67-8428</td>\n",
       "      <td>A</td>\n",
       "      <td>Yangon</td>\n",
       "      <td>Member</td>\n",
       "      <td>Female</td>\n",
       "      <td>Health and beauty</td>\n",
       "      <td>74.69</td>\n",
       "      <td>7</td>\n",
       "      <td>26.1415</td>\n",
       "      <td>548.9715</td>\n",
       "      <td>01/05/2019</td>\n",
       "      <td>13:08</td>\n",
       "      <td>Ewallet</td>\n",
       "      <td>522.83</td>\n",
       "      <td>4.761905</td>\n",
       "      <td>26.1415</td>\n",
       "      <td>9.1</td>\n",
       "    </tr>\n",
       "    <tr>\n",
       "      <th>1</th>\n",
       "      <td>226-31-3081</td>\n",
       "      <td>C</td>\n",
       "      <td>Naypyitaw</td>\n",
       "      <td>Normal</td>\n",
       "      <td>Female</td>\n",
       "      <td>Electronic accessories</td>\n",
       "      <td>15.28</td>\n",
       "      <td>5</td>\n",
       "      <td>3.8200</td>\n",
       "      <td>80.2200</td>\n",
       "      <td>03/08/2019</td>\n",
       "      <td>10:29</td>\n",
       "      <td>Cash</td>\n",
       "      <td>76.40</td>\n",
       "      <td>4.761905</td>\n",
       "      <td>3.8200</td>\n",
       "      <td>9.6</td>\n",
       "    </tr>\n",
       "    <tr>\n",
       "      <th>2</th>\n",
       "      <td>631-41-3108</td>\n",
       "      <td>A</td>\n",
       "      <td>Yangon</td>\n",
       "      <td>Normal</td>\n",
       "      <td>Male</td>\n",
       "      <td>Home and lifestyle</td>\n",
       "      <td>46.33</td>\n",
       "      <td>7</td>\n",
       "      <td>16.2155</td>\n",
       "      <td>340.5255</td>\n",
       "      <td>03/03/2019</td>\n",
       "      <td>13:23</td>\n",
       "      <td>Credit card</td>\n",
       "      <td>324.31</td>\n",
       "      <td>4.761905</td>\n",
       "      <td>16.2155</td>\n",
       "      <td>7.4</td>\n",
       "    </tr>\n",
       "    <tr>\n",
       "      <th>3</th>\n",
       "      <td>123-19-1176</td>\n",
       "      <td>A</td>\n",
       "      <td>Yangon</td>\n",
       "      <td>Member</td>\n",
       "      <td>Male</td>\n",
       "      <td>Health and beauty</td>\n",
       "      <td>58.22</td>\n",
       "      <td>8</td>\n",
       "      <td>23.2880</td>\n",
       "      <td>489.0480</td>\n",
       "      <td>1/27/2019</td>\n",
       "      <td>20:33</td>\n",
       "      <td>Ewallet</td>\n",
       "      <td>465.76</td>\n",
       "      <td>4.761905</td>\n",
       "      <td>23.2880</td>\n",
       "      <td>8.4</td>\n",
       "    </tr>\n",
       "    <tr>\n",
       "      <th>4</th>\n",
       "      <td>373-73-7910</td>\n",
       "      <td>A</td>\n",
       "      <td>Yangon</td>\n",
       "      <td>Normal</td>\n",
       "      <td>Male</td>\n",
       "      <td>Sports and travel</td>\n",
       "      <td>86.31</td>\n",
       "      <td>7</td>\n",
       "      <td>30.2085</td>\n",
       "      <td>634.3785</td>\n",
       "      <td>02/08/2019</td>\n",
       "      <td>10:37</td>\n",
       "      <td>Ewallet</td>\n",
       "      <td>604.17</td>\n",
       "      <td>4.761905</td>\n",
       "      <td>30.2085</td>\n",
       "      <td>5.3</td>\n",
       "    </tr>\n",
       "    <tr>\n",
       "      <th>...</th>\n",
       "      <td>...</td>\n",
       "      <td>...</td>\n",
       "      <td>...</td>\n",
       "      <td>...</td>\n",
       "      <td>...</td>\n",
       "      <td>...</td>\n",
       "      <td>...</td>\n",
       "      <td>...</td>\n",
       "      <td>...</td>\n",
       "      <td>...</td>\n",
       "      <td>...</td>\n",
       "      <td>...</td>\n",
       "      <td>...</td>\n",
       "      <td>...</td>\n",
       "      <td>...</td>\n",
       "      <td>...</td>\n",
       "      <td>...</td>\n",
       "    </tr>\n",
       "    <tr>\n",
       "      <th>995</th>\n",
       "      <td>233-67-5758</td>\n",
       "      <td>C</td>\n",
       "      <td>Naypyitaw</td>\n",
       "      <td>Normal</td>\n",
       "      <td>Male</td>\n",
       "      <td>Health and beauty</td>\n",
       "      <td>40.35</td>\n",
       "      <td>1</td>\n",
       "      <td>2.0175</td>\n",
       "      <td>42.3675</td>\n",
       "      <td>1/29/2019</td>\n",
       "      <td>13:46</td>\n",
       "      <td>Ewallet</td>\n",
       "      <td>40.35</td>\n",
       "      <td>4.761905</td>\n",
       "      <td>2.0175</td>\n",
       "      <td>6.2</td>\n",
       "    </tr>\n",
       "    <tr>\n",
       "      <th>996</th>\n",
       "      <td>303-96-2227</td>\n",
       "      <td>B</td>\n",
       "      <td>Mandalay</td>\n",
       "      <td>Normal</td>\n",
       "      <td>Female</td>\n",
       "      <td>Home and lifestyle</td>\n",
       "      <td>97.38</td>\n",
       "      <td>10</td>\n",
       "      <td>48.6900</td>\n",
       "      <td>1022.4900</td>\n",
       "      <td>03/02/2019</td>\n",
       "      <td>17:16</td>\n",
       "      <td>Ewallet</td>\n",
       "      <td>973.80</td>\n",
       "      <td>4.761905</td>\n",
       "      <td>48.6900</td>\n",
       "      <td>4.4</td>\n",
       "    </tr>\n",
       "    <tr>\n",
       "      <th>997</th>\n",
       "      <td>727-02-1313</td>\n",
       "      <td>A</td>\n",
       "      <td>Yangon</td>\n",
       "      <td>Member</td>\n",
       "      <td>Male</td>\n",
       "      <td>Food and beverages</td>\n",
       "      <td>31.84</td>\n",
       "      <td>1</td>\n",
       "      <td>1.5920</td>\n",
       "      <td>33.4320</td>\n",
       "      <td>02/09/2019</td>\n",
       "      <td>13:22</td>\n",
       "      <td>Cash</td>\n",
       "      <td>31.84</td>\n",
       "      <td>4.761905</td>\n",
       "      <td>1.5920</td>\n",
       "      <td>7.7</td>\n",
       "    </tr>\n",
       "    <tr>\n",
       "      <th>998</th>\n",
       "      <td>347-56-2442</td>\n",
       "      <td>A</td>\n",
       "      <td>Yangon</td>\n",
       "      <td>Normal</td>\n",
       "      <td>Male</td>\n",
       "      <td>Home and lifestyle</td>\n",
       "      <td>65.82</td>\n",
       "      <td>1</td>\n",
       "      <td>3.2910</td>\n",
       "      <td>69.1110</td>\n",
       "      <td>2/22/2019</td>\n",
       "      <td>15:33</td>\n",
       "      <td>Cash</td>\n",
       "      <td>65.82</td>\n",
       "      <td>4.761905</td>\n",
       "      <td>3.2910</td>\n",
       "      <td>4.1</td>\n",
       "    </tr>\n",
       "    <tr>\n",
       "      <th>999</th>\n",
       "      <td>849-09-3807</td>\n",
       "      <td>A</td>\n",
       "      <td>Yangon</td>\n",
       "      <td>Member</td>\n",
       "      <td>Female</td>\n",
       "      <td>Fashion accessories</td>\n",
       "      <td>88.34</td>\n",
       "      <td>7</td>\n",
       "      <td>30.9190</td>\n",
       "      <td>649.2990</td>\n",
       "      <td>2/18/2019</td>\n",
       "      <td>13:28</td>\n",
       "      <td>Cash</td>\n",
       "      <td>618.38</td>\n",
       "      <td>4.761905</td>\n",
       "      <td>30.9190</td>\n",
       "      <td>6.6</td>\n",
       "    </tr>\n",
       "  </tbody>\n",
       "</table>\n",
       "<p>1000 rows × 17 columns</p>\n",
       "</div>"
      ],
      "text/plain": [
       "      Invoice_ID Branch       City Customer_type  Gender  \\\n",
       "0    750-67-8428      A     Yangon        Member  Female   \n",
       "1    226-31-3081      C  Naypyitaw        Normal  Female   \n",
       "2    631-41-3108      A     Yangon        Normal    Male   \n",
       "3    123-19-1176      A     Yangon        Member    Male   \n",
       "4    373-73-7910      A     Yangon        Normal    Male   \n",
       "..           ...    ...        ...           ...     ...   \n",
       "995  233-67-5758      C  Naypyitaw        Normal    Male   \n",
       "996  303-96-2227      B   Mandalay        Normal  Female   \n",
       "997  727-02-1313      A     Yangon        Member    Male   \n",
       "998  347-56-2442      A     Yangon        Normal    Male   \n",
       "999  849-09-3807      A     Yangon        Member  Female   \n",
       "\n",
       "               Product_line  Unit_price  Quantity   Tax 5%      Total  \\\n",
       "0         Health and beauty       74.69         7  26.1415   548.9715   \n",
       "1    Electronic accessories       15.28         5   3.8200    80.2200   \n",
       "2        Home and lifestyle       46.33         7  16.2155   340.5255   \n",
       "3         Health and beauty       58.22         8  23.2880   489.0480   \n",
       "4         Sports and travel       86.31         7  30.2085   634.3785   \n",
       "..                      ...         ...       ...      ...        ...   \n",
       "995       Health and beauty       40.35         1   2.0175    42.3675   \n",
       "996      Home and lifestyle       97.38        10  48.6900  1022.4900   \n",
       "997      Food and beverages       31.84         1   1.5920    33.4320   \n",
       "998      Home and lifestyle       65.82         1   3.2910    69.1110   \n",
       "999     Fashion accessories       88.34         7  30.9190   649.2990   \n",
       "\n",
       "           Date   Time      Payment    cogs  gross_margin_percentage  \\\n",
       "0    01/05/2019  13:08      Ewallet  522.83                 4.761905   \n",
       "1    03/08/2019  10:29         Cash   76.40                 4.761905   \n",
       "2    03/03/2019  13:23  Credit card  324.31                 4.761905   \n",
       "3     1/27/2019  20:33      Ewallet  465.76                 4.761905   \n",
       "4    02/08/2019  10:37      Ewallet  604.17                 4.761905   \n",
       "..          ...    ...          ...     ...                      ...   \n",
       "995   1/29/2019  13:46      Ewallet   40.35                 4.761905   \n",
       "996  03/02/2019  17:16      Ewallet  973.80                 4.761905   \n",
       "997  02/09/2019  13:22         Cash   31.84                 4.761905   \n",
       "998   2/22/2019  15:33         Cash   65.82                 4.761905   \n",
       "999   2/18/2019  13:28         Cash  618.38                 4.761905   \n",
       "\n",
       "     gross_income  Rating  \n",
       "0         26.1415     9.1  \n",
       "1          3.8200     9.6  \n",
       "2         16.2155     7.4  \n",
       "3         23.2880     8.4  \n",
       "4         30.2085     5.3  \n",
       "..            ...     ...  \n",
       "995        2.0175     6.2  \n",
       "996       48.6900     4.4  \n",
       "997        1.5920     7.7  \n",
       "998        3.2910     4.1  \n",
       "999       30.9190     6.6  \n",
       "\n",
       "[1000 rows x 17 columns]"
      ]
     },
     "execution_count": 3,
     "metadata": {},
     "output_type": "execute_result"
    }
   ],
   "source": [
    "sales_data = pd.read_csv(filepath)\n",
    "sales_data"
   ]
  },
  {
   "cell_type": "code",
   "execution_count": 4,
   "metadata": {},
   "outputs": [
    {
     "data": {
      "text/plain": [
       "Index(['invoice_id', 'branch', 'city', 'customer_type', 'gender',\n",
       "       'product_line', 'unit_price', 'quantity', 'tax 5%', 'total', 'date',\n",
       "       'time', 'payment', 'cogs', 'gross_margin_percentage', 'gross_income',\n",
       "       'rating'],\n",
       "      dtype='object')"
      ]
     },
     "execution_count": 4,
     "metadata": {},
     "output_type": "execute_result"
    }
   ],
   "source": [
    "#Unifying naming conventions to all lower characters:\n",
    "sales_data.columns = sales_data.columns.str.lower()\n",
    "sales_data.columns"
   ]
  },
  {
   "cell_type": "code",
   "execution_count": 5,
   "metadata": {},
   "outputs": [
    {
     "data": {
      "text/plain": [
       "(1000, 17)"
      ]
     },
     "execution_count": 5,
     "metadata": {},
     "output_type": "execute_result"
    }
   ],
   "source": [
    "sales_data.shape"
   ]
  },
  {
   "cell_type": "code",
   "execution_count": 6,
   "metadata": {},
   "outputs": [
    {
     "name": "stdout",
     "output_type": "stream",
     "text": [
      "<class 'pandas.core.frame.DataFrame'>\n",
      "RangeIndex: 1000 entries, 0 to 999\n",
      "Data columns (total 17 columns):\n",
      " #   Column                   Non-Null Count  Dtype  \n",
      "---  ------                   --------------  -----  \n",
      " 0   invoice_id               1000 non-null   object \n",
      " 1   branch                   1000 non-null   object \n",
      " 2   city                     1000 non-null   object \n",
      " 3   customer_type            1000 non-null   object \n",
      " 4   gender                   1000 non-null   object \n",
      " 5   product_line             1000 non-null   object \n",
      " 6   unit_price               1000 non-null   float64\n",
      " 7   quantity                 1000 non-null   int64  \n",
      " 8   tax 5%                   1000 non-null   float64\n",
      " 9   total                    1000 non-null   float64\n",
      " 10  date                     1000 non-null   object \n",
      " 11  time                     1000 non-null   object \n",
      " 12  payment                  1000 non-null   object \n",
      " 13  cogs                     1000 non-null   float64\n",
      " 14  gross_margin_percentage  1000 non-null   float64\n",
      " 15  gross_income             1000 non-null   float64\n",
      " 16  rating                   1000 non-null   float64\n",
      "dtypes: float64(7), int64(1), object(9)\n",
      "memory usage: 132.9+ KB\n"
     ]
    }
   ],
   "source": [
    "# Getting a quick look into the dataset \n",
    "sales_data.info()"
   ]
  },
  {
   "cell_type": "code",
   "execution_count": 7,
   "metadata": {},
   "outputs": [
    {
     "data": {
      "text/html": [
       "<div>\n",
       "<style scoped>\n",
       "    .dataframe tbody tr th:only-of-type {\n",
       "        vertical-align: middle;\n",
       "    }\n",
       "\n",
       "    .dataframe tbody tr th {\n",
       "        vertical-align: top;\n",
       "    }\n",
       "\n",
       "    .dataframe thead th {\n",
       "        text-align: right;\n",
       "    }\n",
       "</style>\n",
       "<table border=\"1\" class=\"dataframe\">\n",
       "  <thead>\n",
       "    <tr style=\"text-align: right;\">\n",
       "      <th></th>\n",
       "      <th>unit_price</th>\n",
       "      <th>quantity</th>\n",
       "      <th>tax 5%</th>\n",
       "      <th>total</th>\n",
       "      <th>cogs</th>\n",
       "      <th>gross_margin_percentage</th>\n",
       "      <th>gross_income</th>\n",
       "      <th>rating</th>\n",
       "    </tr>\n",
       "  </thead>\n",
       "  <tbody>\n",
       "    <tr>\n",
       "      <th>count</th>\n",
       "      <td>1000.000000</td>\n",
       "      <td>1000.000000</td>\n",
       "      <td>1000.000000</td>\n",
       "      <td>1000.000000</td>\n",
       "      <td>1000.00000</td>\n",
       "      <td>1000.000000</td>\n",
       "      <td>1000.000000</td>\n",
       "      <td>1000.00000</td>\n",
       "    </tr>\n",
       "    <tr>\n",
       "      <th>mean</th>\n",
       "      <td>55.672130</td>\n",
       "      <td>5.510000</td>\n",
       "      <td>15.379369</td>\n",
       "      <td>322.966749</td>\n",
       "      <td>307.58738</td>\n",
       "      <td>4.761905</td>\n",
       "      <td>15.379369</td>\n",
       "      <td>6.97270</td>\n",
       "    </tr>\n",
       "    <tr>\n",
       "      <th>std</th>\n",
       "      <td>26.494628</td>\n",
       "      <td>2.923431</td>\n",
       "      <td>11.708825</td>\n",
       "      <td>245.885335</td>\n",
       "      <td>234.17651</td>\n",
       "      <td>0.000000</td>\n",
       "      <td>11.708825</td>\n",
       "      <td>1.71858</td>\n",
       "    </tr>\n",
       "    <tr>\n",
       "      <th>min</th>\n",
       "      <td>10.080000</td>\n",
       "      <td>1.000000</td>\n",
       "      <td>0.508500</td>\n",
       "      <td>10.678500</td>\n",
       "      <td>10.17000</td>\n",
       "      <td>4.761905</td>\n",
       "      <td>0.508500</td>\n",
       "      <td>4.00000</td>\n",
       "    </tr>\n",
       "    <tr>\n",
       "      <th>25%</th>\n",
       "      <td>32.875000</td>\n",
       "      <td>3.000000</td>\n",
       "      <td>5.924875</td>\n",
       "      <td>124.422375</td>\n",
       "      <td>118.49750</td>\n",
       "      <td>4.761905</td>\n",
       "      <td>5.924875</td>\n",
       "      <td>5.50000</td>\n",
       "    </tr>\n",
       "    <tr>\n",
       "      <th>50%</th>\n",
       "      <td>55.230000</td>\n",
       "      <td>5.000000</td>\n",
       "      <td>12.088000</td>\n",
       "      <td>253.848000</td>\n",
       "      <td>241.76000</td>\n",
       "      <td>4.761905</td>\n",
       "      <td>12.088000</td>\n",
       "      <td>7.00000</td>\n",
       "    </tr>\n",
       "    <tr>\n",
       "      <th>75%</th>\n",
       "      <td>77.935000</td>\n",
       "      <td>8.000000</td>\n",
       "      <td>22.445250</td>\n",
       "      <td>471.350250</td>\n",
       "      <td>448.90500</td>\n",
       "      <td>4.761905</td>\n",
       "      <td>22.445250</td>\n",
       "      <td>8.50000</td>\n",
       "    </tr>\n",
       "    <tr>\n",
       "      <th>max</th>\n",
       "      <td>99.960000</td>\n",
       "      <td>10.000000</td>\n",
       "      <td>49.650000</td>\n",
       "      <td>1042.650000</td>\n",
       "      <td>993.00000</td>\n",
       "      <td>4.761905</td>\n",
       "      <td>49.650000</td>\n",
       "      <td>10.00000</td>\n",
       "    </tr>\n",
       "  </tbody>\n",
       "</table>\n",
       "</div>"
      ],
      "text/plain": [
       "        unit_price     quantity       tax 5%        total        cogs  \\\n",
       "count  1000.000000  1000.000000  1000.000000  1000.000000  1000.00000   \n",
       "mean     55.672130     5.510000    15.379369   322.966749   307.58738   \n",
       "std      26.494628     2.923431    11.708825   245.885335   234.17651   \n",
       "min      10.080000     1.000000     0.508500    10.678500    10.17000   \n",
       "25%      32.875000     3.000000     5.924875   124.422375   118.49750   \n",
       "50%      55.230000     5.000000    12.088000   253.848000   241.76000   \n",
       "75%      77.935000     8.000000    22.445250   471.350250   448.90500   \n",
       "max      99.960000    10.000000    49.650000  1042.650000   993.00000   \n",
       "\n",
       "       gross_margin_percentage  gross_income      rating  \n",
       "count              1000.000000   1000.000000  1000.00000  \n",
       "mean                  4.761905     15.379369     6.97270  \n",
       "std                   0.000000     11.708825     1.71858  \n",
       "min                   4.761905      0.508500     4.00000  \n",
       "25%                   4.761905      5.924875     5.50000  \n",
       "50%                   4.761905     12.088000     7.00000  \n",
       "75%                   4.761905     22.445250     8.50000  \n",
       "max                   4.761905     49.650000    10.00000  "
      ]
     },
     "execution_count": 7,
     "metadata": {},
     "output_type": "execute_result"
    }
   ],
   "source": [
    "#Checking the statistical measures of the numerical variables in the dataset\n",
    "sales_data.describe() "
   ]
  },
  {
   "cell_type": "code",
   "execution_count": 8,
   "metadata": {},
   "outputs": [
    {
     "data": {
      "text/plain": [
       "invoice_id                 0\n",
       "branch                     0\n",
       "city                       0\n",
       "customer_type              0\n",
       "gender                     0\n",
       "product_line               0\n",
       "unit_price                 0\n",
       "quantity                   0\n",
       "tax 5%                     0\n",
       "total                      0\n",
       "date                       0\n",
       "time                       0\n",
       "payment                    0\n",
       "cogs                       0\n",
       "gross_margin_percentage    0\n",
       "gross_income               0\n",
       "rating                     0\n",
       "dtype: int64"
      ]
     },
     "execution_count": 8,
     "metadata": {},
     "output_type": "execute_result"
    }
   ],
   "source": [
    "#checking for null values\n",
    "sales_data.isnull().sum()"
   ]
  },
  {
   "cell_type": "code",
   "execution_count": 9,
   "metadata": {},
   "outputs": [
    {
     "data": {
      "text/plain": [
       "city\n",
       "Yangon       340\n",
       "Mandalay     332\n",
       "Naypyitaw    328\n",
       "Name: count, dtype: int64"
      ]
     },
     "execution_count": 9,
     "metadata": {},
     "output_type": "execute_result"
    }
   ],
   "source": [
    "sales_data.city.value_counts()"
   ]
  },
  {
   "cell_type": "code",
   "execution_count": 10,
   "metadata": {},
   "outputs": [
    {
     "data": {
      "text/html": [
       "<div>\n",
       "<style scoped>\n",
       "    .dataframe tbody tr th:only-of-type {\n",
       "        vertical-align: middle;\n",
       "    }\n",
       "\n",
       "    .dataframe tbody tr th {\n",
       "        vertical-align: top;\n",
       "    }\n",
       "\n",
       "    .dataframe thead th {\n",
       "        text-align: right;\n",
       "    }\n",
       "</style>\n",
       "<table border=\"1\" class=\"dataframe\">\n",
       "  <thead>\n",
       "    <tr style=\"text-align: right;\">\n",
       "      <th></th>\n",
       "      <th>mean</th>\n",
       "      <th>median</th>\n",
       "    </tr>\n",
       "    <tr>\n",
       "      <th>city</th>\n",
       "      <th></th>\n",
       "      <th></th>\n",
       "    </tr>\n",
       "  </thead>\n",
       "  <tbody>\n",
       "    <tr>\n",
       "      <th>Mandalay</th>\n",
       "      <td>15.232024</td>\n",
       "      <td>12.04200</td>\n",
       "    </tr>\n",
       "    <tr>\n",
       "      <th>Naypyitaw</th>\n",
       "      <td>16.052367</td>\n",
       "      <td>12.92475</td>\n",
       "    </tr>\n",
       "    <tr>\n",
       "      <th>Yangon</th>\n",
       "      <td>14.874001</td>\n",
       "      <td>11.46800</td>\n",
       "    </tr>\n",
       "  </tbody>\n",
       "</table>\n",
       "</div>"
      ],
      "text/plain": [
       "                mean    median\n",
       "city                          \n",
       "Mandalay   15.232024  12.04200\n",
       "Naypyitaw  16.052367  12.92475\n",
       "Yangon     14.874001  11.46800"
      ]
     },
     "execution_count": 10,
     "metadata": {},
     "output_type": "execute_result"
    }
   ],
   "source": [
    "sales_data.groupby('city')['gross_income'].agg([np.mean,np.median])"
   ]
  },
  {
   "cell_type": "code",
   "execution_count": 11,
   "metadata": {},
   "outputs": [
    {
     "data": {
      "application/vnd.plotly.v1+json": {
       "config": {
        "plotlyServerURL": "https://plot.ly"
       },
       "data": [
        {
         "alignmentgroup": "True",
         "bingroup": "x",
         "hovertemplate": "gender=Female<br>customer_type=%{x}<br>count=%{y}<extra></extra>",
         "legendgroup": "Female",
         "marker": {
          "color": "#636efa",
          "pattern": {
           "shape": ""
          }
         },
         "name": "Female",
         "offsetgroup": "Female",
         "orientation": "v",
         "showlegend": true,
         "type": "histogram",
         "x": [
          "Member",
          "Normal",
          "Member",
          "Normal",
          "Member",
          "Member",
          "Member",
          "Normal",
          "Normal",
          "Member",
          "Member",
          "Normal",
          "Member",
          "Normal",
          "Normal",
          "Member",
          "Member",
          "Normal",
          "Normal",
          "Member",
          "Member",
          "Member",
          "Member",
          "Member",
          "Member",
          "Member",
          "Member",
          "Normal",
          "Member",
          "Member",
          "Member",
          "Normal",
          "Member",
          "Member",
          "Member",
          "Normal",
          "Normal",
          "Member",
          "Member",
          "Normal",
          "Normal",
          "Normal",
          "Member",
          "Normal",
          "Normal",
          "Member",
          "Normal",
          "Member",
          "Normal",
          "Normal",
          "Normal",
          "Member",
          "Member",
          "Normal",
          "Member",
          "Normal",
          "Normal",
          "Normal",
          "Member",
          "Normal",
          "Normal",
          "Normal",
          "Member",
          "Normal",
          "Normal",
          "Member",
          "Normal",
          "Normal",
          "Normal",
          "Member",
          "Member",
          "Member",
          "Member",
          "Normal",
          "Normal",
          "Member",
          "Member",
          "Normal",
          "Normal",
          "Normal",
          "Normal",
          "Normal",
          "Member",
          "Normal",
          "Normal",
          "Normal",
          "Normal",
          "Member",
          "Normal",
          "Member",
          "Member",
          "Member",
          "Normal",
          "Member",
          "Member",
          "Normal",
          "Normal",
          "Normal",
          "Member",
          "Normal",
          "Member",
          "Normal",
          "Member",
          "Member",
          "Member",
          "Normal",
          "Normal",
          "Member",
          "Normal",
          "Normal",
          "Member",
          "Member",
          "Member",
          "Normal",
          "Normal",
          "Normal",
          "Member",
          "Member",
          "Member",
          "Member",
          "Member",
          "Normal",
          "Member",
          "Member",
          "Normal",
          "Normal",
          "Member",
          "Normal",
          "Normal",
          "Normal",
          "Member",
          "Normal",
          "Normal",
          "Member",
          "Member",
          "Member",
          "Member",
          "Member",
          "Normal",
          "Normal",
          "Normal",
          "Member",
          "Member",
          "Normal",
          "Member",
          "Member",
          "Member",
          "Member",
          "Member",
          "Normal",
          "Normal",
          "Normal",
          "Member",
          "Normal",
          "Normal",
          "Member",
          "Member",
          "Member",
          "Normal",
          "Normal",
          "Member",
          "Normal",
          "Member",
          "Member",
          "Normal",
          "Member",
          "Normal",
          "Normal",
          "Normal",
          "Normal",
          "Normal",
          "Normal",
          "Normal",
          "Member",
          "Normal",
          "Normal",
          "Normal",
          "Member",
          "Member",
          "Normal",
          "Normal",
          "Normal",
          "Member",
          "Normal",
          "Normal",
          "Member",
          "Member",
          "Normal",
          "Member",
          "Normal",
          "Normal",
          "Normal",
          "Member",
          "Normal",
          "Normal",
          "Member",
          "Member",
          "Normal",
          "Normal",
          "Normal",
          "Normal",
          "Member",
          "Normal",
          "Member",
          "Member",
          "Normal",
          "Member",
          "Member",
          "Member",
          "Normal",
          "Normal",
          "Normal",
          "Member",
          "Member",
          "Normal",
          "Member",
          "Member",
          "Member",
          "Normal",
          "Normal",
          "Member",
          "Member",
          "Member",
          "Member",
          "Normal",
          "Member",
          "Member",
          "Member",
          "Member",
          "Member",
          "Member",
          "Member",
          "Normal",
          "Normal",
          "Member",
          "Member",
          "Normal",
          "Member",
          "Normal",
          "Member",
          "Member",
          "Member",
          "Normal",
          "Normal",
          "Member",
          "Member",
          "Member",
          "Normal",
          "Member",
          "Normal",
          "Member",
          "Member",
          "Normal",
          "Normal",
          "Member",
          "Normal",
          "Member",
          "Member",
          "Member",
          "Member",
          "Normal",
          "Normal",
          "Member",
          "Normal",
          "Member",
          "Member",
          "Normal",
          "Normal",
          "Normal",
          "Normal",
          "Normal",
          "Normal",
          "Member",
          "Member",
          "Member",
          "Normal",
          "Normal",
          "Normal",
          "Normal",
          "Normal",
          "Normal",
          "Member",
          "Normal",
          "Member",
          "Member",
          "Member",
          "Normal",
          "Normal",
          "Member",
          "Member",
          "Member",
          "Normal",
          "Normal",
          "Member",
          "Normal",
          "Normal",
          "Member",
          "Member",
          "Member",
          "Normal",
          "Member",
          "Member",
          "Member",
          "Normal",
          "Member",
          "Member",
          "Normal",
          "Member",
          "Normal",
          "Normal",
          "Member",
          "Member",
          "Member",
          "Member",
          "Member",
          "Normal",
          "Normal",
          "Normal",
          "Member",
          "Member",
          "Normal",
          "Member",
          "Member",
          "Normal",
          "Normal",
          "Normal",
          "Member",
          "Normal",
          "Normal",
          "Normal",
          "Member",
          "Member",
          "Member",
          "Normal",
          "Normal",
          "Member",
          "Member",
          "Member",
          "Normal",
          "Member",
          "Member",
          "Normal",
          "Member",
          "Member",
          "Normal",
          "Member",
          "Member",
          "Normal",
          "Member",
          "Normal",
          "Normal",
          "Normal",
          "Member",
          "Member",
          "Normal",
          "Member",
          "Member",
          "Member",
          "Member",
          "Member",
          "Member",
          "Member",
          "Member",
          "Member",
          "Member",
          "Member",
          "Member",
          "Normal",
          "Member",
          "Member",
          "Normal",
          "Member",
          "Normal",
          "Normal",
          "Member",
          "Member",
          "Member",
          "Normal",
          "Normal",
          "Normal",
          "Normal",
          "Member",
          "Member",
          "Member",
          "Normal",
          "Normal",
          "Normal",
          "Member",
          "Normal",
          "Member",
          "Normal",
          "Normal",
          "Normal",
          "Member",
          "Member",
          "Member",
          "Member",
          "Member",
          "Normal",
          "Normal",
          "Normal",
          "Normal",
          "Normal",
          "Normal",
          "Member",
          "Member",
          "Normal",
          "Normal",
          "Member",
          "Normal",
          "Member",
          "Member",
          "Member",
          "Member",
          "Member",
          "Member",
          "Member",
          "Member",
          "Member",
          "Normal",
          "Member",
          "Normal",
          "Normal",
          "Normal",
          "Member",
          "Normal",
          "Member",
          "Member",
          "Member",
          "Normal",
          "Normal",
          "Member",
          "Member",
          "Member",
          "Normal",
          "Member",
          "Member",
          "Member",
          "Member",
          "Member",
          "Member",
          "Normal",
          "Normal",
          "Normal",
          "Member",
          "Member",
          "Member",
          "Member",
          "Normal",
          "Member",
          "Normal",
          "Member",
          "Normal",
          "Member",
          "Normal",
          "Normal",
          "Member",
          "Normal",
          "Normal",
          "Member",
          "Member",
          "Normal",
          "Member",
          "Normal",
          "Member",
          "Normal",
          "Member",
          "Normal",
          "Member",
          "Normal",
          "Normal",
          "Normal",
          "Normal",
          "Member",
          "Normal",
          "Normal",
          "Normal",
          "Normal",
          "Member",
          "Member",
          "Member",
          "Normal",
          "Normal",
          "Member",
          "Normal",
          "Normal",
          "Normal",
          "Normal",
          "Member",
          "Member",
          "Normal",
          "Normal",
          "Normal",
          "Member",
          "Normal",
          "Normal",
          "Normal",
          "Normal",
          "Member",
          "Normal",
          "Member"
         ],
         "xaxis": "x",
         "yaxis": "y"
        },
        {
         "alignmentgroup": "True",
         "bingroup": "x",
         "hovertemplate": "gender=Male<br>customer_type=%{x}<br>count=%{y}<extra></extra>",
         "legendgroup": "Male",
         "marker": {
          "color": "#EF553B",
          "pattern": {
           "shape": ""
          }
         },
         "name": "Male",
         "offsetgroup": "Male",
         "orientation": "v",
         "showlegend": true,
         "type": "histogram",
         "x": [
          "Normal",
          "Member",
          "Normal",
          "Normal",
          "Member",
          "Normal",
          "Normal",
          "Normal",
          "Member",
          "Normal",
          "Normal",
          "Normal",
          "Member",
          "Normal",
          "Normal",
          "Normal",
          "Member",
          "Normal",
          "Normal",
          "Member",
          "Member",
          "Member",
          "Member",
          "Member",
          "Member",
          "Member",
          "Member",
          "Normal",
          "Member",
          "Normal",
          "Normal",
          "Normal",
          "Member",
          "Member",
          "Member",
          "Normal",
          "Normal",
          "Normal",
          "Normal",
          "Member",
          "Normal",
          "Member",
          "Normal",
          "Member",
          "Normal",
          "Member",
          "Normal",
          "Normal",
          "Normal",
          "Normal",
          "Normal",
          "Member",
          "Normal",
          "Normal",
          "Normal",
          "Member",
          "Normal",
          "Normal",
          "Member",
          "Member",
          "Member",
          "Member",
          "Normal",
          "Member",
          "Member",
          "Member",
          "Member",
          "Normal",
          "Normal",
          "Normal",
          "Member",
          "Normal",
          "Member",
          "Normal",
          "Member",
          "Normal",
          "Member",
          "Member",
          "Normal",
          "Member",
          "Normal",
          "Normal",
          "Normal",
          "Normal",
          "Normal",
          "Member",
          "Normal",
          "Normal",
          "Normal",
          "Member",
          "Normal",
          "Member",
          "Normal",
          "Member",
          "Normal",
          "Member",
          "Member",
          "Normal",
          "Member",
          "Normal",
          "Member",
          "Member",
          "Normal",
          "Member",
          "Member",
          "Normal",
          "Normal",
          "Normal",
          "Member",
          "Normal",
          "Normal",
          "Member",
          "Member",
          "Normal",
          "Normal",
          "Normal",
          "Normal",
          "Normal",
          "Normal",
          "Normal",
          "Normal",
          "Normal",
          "Member",
          "Member",
          "Member",
          "Member",
          "Normal",
          "Normal",
          "Normal",
          "Normal",
          "Member",
          "Member",
          "Normal",
          "Member",
          "Member",
          "Member",
          "Normal",
          "Member",
          "Member",
          "Normal",
          "Member",
          "Member",
          "Member",
          "Member",
          "Member",
          "Member",
          "Normal",
          "Normal",
          "Member",
          "Normal",
          "Member",
          "Member",
          "Normal",
          "Member",
          "Normal",
          "Member",
          "Member",
          "Normal",
          "Normal",
          "Normal",
          "Member",
          "Member",
          "Normal",
          "Member",
          "Normal",
          "Member",
          "Member",
          "Member",
          "Member",
          "Member",
          "Member",
          "Normal",
          "Normal",
          "Normal",
          "Member",
          "Member",
          "Member",
          "Member",
          "Normal",
          "Normal",
          "Normal",
          "Member",
          "Member",
          "Normal",
          "Member",
          "Normal",
          "Member",
          "Normal",
          "Normal",
          "Member",
          "Normal",
          "Normal",
          "Member",
          "Normal",
          "Normal",
          "Member",
          "Member",
          "Normal",
          "Normal",
          "Member",
          "Member",
          "Member",
          "Normal",
          "Normal",
          "Member",
          "Normal",
          "Member",
          "Normal",
          "Member",
          "Member",
          "Normal",
          "Normal",
          "Member",
          "Normal",
          "Normal",
          "Normal",
          "Member",
          "Normal",
          "Member",
          "Member",
          "Normal",
          "Normal",
          "Normal",
          "Normal",
          "Normal",
          "Member",
          "Normal",
          "Member",
          "Member",
          "Normal",
          "Member",
          "Normal",
          "Normal",
          "Normal",
          "Member",
          "Normal",
          "Normal",
          "Normal",
          "Member",
          "Normal",
          "Normal",
          "Member",
          "Member",
          "Normal",
          "Normal",
          "Normal",
          "Normal",
          "Normal",
          "Normal",
          "Member",
          "Normal",
          "Normal",
          "Normal",
          "Normal",
          "Member",
          "Normal",
          "Normal",
          "Member",
          "Member",
          "Normal",
          "Member",
          "Member",
          "Member",
          "Normal",
          "Member",
          "Normal",
          "Normal",
          "Normal",
          "Member",
          "Normal",
          "Normal",
          "Member",
          "Normal",
          "Normal",
          "Normal",
          "Normal",
          "Member",
          "Member",
          "Member",
          "Normal",
          "Normal",
          "Normal",
          "Member",
          "Normal",
          "Member",
          "Normal",
          "Normal",
          "Member",
          "Normal",
          "Member",
          "Member",
          "Normal",
          "Normal",
          "Member",
          "Normal",
          "Normal",
          "Normal",
          "Normal",
          "Normal",
          "Normal",
          "Normal",
          "Normal",
          "Member",
          "Member",
          "Normal",
          "Normal",
          "Normal",
          "Normal",
          "Normal",
          "Normal",
          "Member",
          "Member",
          "Member",
          "Member",
          "Member",
          "Member",
          "Member",
          "Member",
          "Normal",
          "Member",
          "Member",
          "Normal",
          "Normal",
          "Member",
          "Normal",
          "Member",
          "Member",
          "Normal",
          "Normal",
          "Member",
          "Member",
          "Member",
          "Normal",
          "Member",
          "Normal",
          "Normal",
          "Member",
          "Member",
          "Member",
          "Member",
          "Member",
          "Member",
          "Member",
          "Member",
          "Normal",
          "Member",
          "Normal",
          "Member",
          "Member",
          "Member",
          "Member",
          "Member",
          "Member",
          "Normal",
          "Member",
          "Normal",
          "Normal",
          "Member",
          "Normal",
          "Member",
          "Normal",
          "Normal",
          "Member",
          "Member",
          "Member",
          "Normal",
          "Normal",
          "Member",
          "Member",
          "Normal",
          "Normal",
          "Normal",
          "Member",
          "Normal",
          "Member",
          "Member",
          "Normal",
          "Member",
          "Normal",
          "Normal",
          "Normal",
          "Member",
          "Member",
          "Member",
          "Normal",
          "Member",
          "Normal",
          "Member",
          "Normal",
          "Member",
          "Member",
          "Normal",
          "Member",
          "Member",
          "Normal",
          "Normal",
          "Normal",
          "Member",
          "Normal",
          "Normal",
          "Member",
          "Member",
          "Normal",
          "Normal",
          "Member",
          "Normal",
          "Member",
          "Normal",
          "Normal",
          "Normal",
          "Member",
          "Member",
          "Normal",
          "Member",
          "Member",
          "Normal",
          "Normal",
          "Normal",
          "Member",
          "Normal",
          "Member",
          "Normal",
          "Normal",
          "Normal",
          "Normal",
          "Normal",
          "Member",
          "Member",
          "Normal",
          "Normal",
          "Normal",
          "Normal",
          "Member",
          "Member",
          "Member",
          "Member",
          "Normal",
          "Member",
          "Normal",
          "Member",
          "Member",
          "Normal",
          "Member",
          "Member",
          "Member",
          "Normal",
          "Member",
          "Member",
          "Normal",
          "Member",
          "Normal",
          "Normal",
          "Member",
          "Member",
          "Normal",
          "Normal",
          "Normal",
          "Member",
          "Member",
          "Normal",
          "Member",
          "Normal",
          "Normal",
          "Normal",
          "Member",
          "Normal",
          "Member",
          "Normal",
          "Member",
          "Member",
          "Member",
          "Member",
          "Member",
          "Member",
          "Member",
          "Normal",
          "Member",
          "Member",
          "Member",
          "Normal",
          "Member",
          "Member",
          "Normal",
          "Normal",
          "Normal",
          "Member",
          "Member",
          "Member",
          "Normal",
          "Normal",
          "Normal",
          "Member",
          "Member",
          "Member",
          "Normal",
          "Normal",
          "Normal",
          "Member",
          "Normal"
         ],
         "xaxis": "x",
         "yaxis": "y"
        }
       ],
       "layout": {
        "barmode": "group",
        "legend": {
         "title": {
          "text": "gender"
         },
         "tracegroupgap": 0
        },
        "template": {
         "data": {
          "bar": [
           {
            "error_x": {
             "color": "#2a3f5f"
            },
            "error_y": {
             "color": "#2a3f5f"
            },
            "marker": {
             "line": {
              "color": "#E5ECF6",
              "width": 0.5
             },
             "pattern": {
              "fillmode": "overlay",
              "size": 10,
              "solidity": 0.2
             }
            },
            "type": "bar"
           }
          ],
          "barpolar": [
           {
            "marker": {
             "line": {
              "color": "#E5ECF6",
              "width": 0.5
             },
             "pattern": {
              "fillmode": "overlay",
              "size": 10,
              "solidity": 0.2
             }
            },
            "type": "barpolar"
           }
          ],
          "carpet": [
           {
            "aaxis": {
             "endlinecolor": "#2a3f5f",
             "gridcolor": "white",
             "linecolor": "white",
             "minorgridcolor": "white",
             "startlinecolor": "#2a3f5f"
            },
            "baxis": {
             "endlinecolor": "#2a3f5f",
             "gridcolor": "white",
             "linecolor": "white",
             "minorgridcolor": "white",
             "startlinecolor": "#2a3f5f"
            },
            "type": "carpet"
           }
          ],
          "choropleth": [
           {
            "colorbar": {
             "outlinewidth": 0,
             "ticks": ""
            },
            "type": "choropleth"
           }
          ],
          "contour": [
           {
            "colorbar": {
             "outlinewidth": 0,
             "ticks": ""
            },
            "colorscale": [
             [
              0,
              "#0d0887"
             ],
             [
              0.1111111111111111,
              "#46039f"
             ],
             [
              0.2222222222222222,
              "#7201a8"
             ],
             [
              0.3333333333333333,
              "#9c179e"
             ],
             [
              0.4444444444444444,
              "#bd3786"
             ],
             [
              0.5555555555555556,
              "#d8576b"
             ],
             [
              0.6666666666666666,
              "#ed7953"
             ],
             [
              0.7777777777777778,
              "#fb9f3a"
             ],
             [
              0.8888888888888888,
              "#fdca26"
             ],
             [
              1,
              "#f0f921"
             ]
            ],
            "type": "contour"
           }
          ],
          "contourcarpet": [
           {
            "colorbar": {
             "outlinewidth": 0,
             "ticks": ""
            },
            "type": "contourcarpet"
           }
          ],
          "heatmap": [
           {
            "colorbar": {
             "outlinewidth": 0,
             "ticks": ""
            },
            "colorscale": [
             [
              0,
              "#0d0887"
             ],
             [
              0.1111111111111111,
              "#46039f"
             ],
             [
              0.2222222222222222,
              "#7201a8"
             ],
             [
              0.3333333333333333,
              "#9c179e"
             ],
             [
              0.4444444444444444,
              "#bd3786"
             ],
             [
              0.5555555555555556,
              "#d8576b"
             ],
             [
              0.6666666666666666,
              "#ed7953"
             ],
             [
              0.7777777777777778,
              "#fb9f3a"
             ],
             [
              0.8888888888888888,
              "#fdca26"
             ],
             [
              1,
              "#f0f921"
             ]
            ],
            "type": "heatmap"
           }
          ],
          "heatmapgl": [
           {
            "colorbar": {
             "outlinewidth": 0,
             "ticks": ""
            },
            "colorscale": [
             [
              0,
              "#0d0887"
             ],
             [
              0.1111111111111111,
              "#46039f"
             ],
             [
              0.2222222222222222,
              "#7201a8"
             ],
             [
              0.3333333333333333,
              "#9c179e"
             ],
             [
              0.4444444444444444,
              "#bd3786"
             ],
             [
              0.5555555555555556,
              "#d8576b"
             ],
             [
              0.6666666666666666,
              "#ed7953"
             ],
             [
              0.7777777777777778,
              "#fb9f3a"
             ],
             [
              0.8888888888888888,
              "#fdca26"
             ],
             [
              1,
              "#f0f921"
             ]
            ],
            "type": "heatmapgl"
           }
          ],
          "histogram": [
           {
            "marker": {
             "pattern": {
              "fillmode": "overlay",
              "size": 10,
              "solidity": 0.2
             }
            },
            "type": "histogram"
           }
          ],
          "histogram2d": [
           {
            "colorbar": {
             "outlinewidth": 0,
             "ticks": ""
            },
            "colorscale": [
             [
              0,
              "#0d0887"
             ],
             [
              0.1111111111111111,
              "#46039f"
             ],
             [
              0.2222222222222222,
              "#7201a8"
             ],
             [
              0.3333333333333333,
              "#9c179e"
             ],
             [
              0.4444444444444444,
              "#bd3786"
             ],
             [
              0.5555555555555556,
              "#d8576b"
             ],
             [
              0.6666666666666666,
              "#ed7953"
             ],
             [
              0.7777777777777778,
              "#fb9f3a"
             ],
             [
              0.8888888888888888,
              "#fdca26"
             ],
             [
              1,
              "#f0f921"
             ]
            ],
            "type": "histogram2d"
           }
          ],
          "histogram2dcontour": [
           {
            "colorbar": {
             "outlinewidth": 0,
             "ticks": ""
            },
            "colorscale": [
             [
              0,
              "#0d0887"
             ],
             [
              0.1111111111111111,
              "#46039f"
             ],
             [
              0.2222222222222222,
              "#7201a8"
             ],
             [
              0.3333333333333333,
              "#9c179e"
             ],
             [
              0.4444444444444444,
              "#bd3786"
             ],
             [
              0.5555555555555556,
              "#d8576b"
             ],
             [
              0.6666666666666666,
              "#ed7953"
             ],
             [
              0.7777777777777778,
              "#fb9f3a"
             ],
             [
              0.8888888888888888,
              "#fdca26"
             ],
             [
              1,
              "#f0f921"
             ]
            ],
            "type": "histogram2dcontour"
           }
          ],
          "mesh3d": [
           {
            "colorbar": {
             "outlinewidth": 0,
             "ticks": ""
            },
            "type": "mesh3d"
           }
          ],
          "parcoords": [
           {
            "line": {
             "colorbar": {
              "outlinewidth": 0,
              "ticks": ""
             }
            },
            "type": "parcoords"
           }
          ],
          "pie": [
           {
            "automargin": true,
            "type": "pie"
           }
          ],
          "scatter": [
           {
            "fillpattern": {
             "fillmode": "overlay",
             "size": 10,
             "solidity": 0.2
            },
            "type": "scatter"
           }
          ],
          "scatter3d": [
           {
            "line": {
             "colorbar": {
              "outlinewidth": 0,
              "ticks": ""
             }
            },
            "marker": {
             "colorbar": {
              "outlinewidth": 0,
              "ticks": ""
             }
            },
            "type": "scatter3d"
           }
          ],
          "scattercarpet": [
           {
            "marker": {
             "colorbar": {
              "outlinewidth": 0,
              "ticks": ""
             }
            },
            "type": "scattercarpet"
           }
          ],
          "scattergeo": [
           {
            "marker": {
             "colorbar": {
              "outlinewidth": 0,
              "ticks": ""
             }
            },
            "type": "scattergeo"
           }
          ],
          "scattergl": [
           {
            "marker": {
             "colorbar": {
              "outlinewidth": 0,
              "ticks": ""
             }
            },
            "type": "scattergl"
           }
          ],
          "scattermapbox": [
           {
            "marker": {
             "colorbar": {
              "outlinewidth": 0,
              "ticks": ""
             }
            },
            "type": "scattermapbox"
           }
          ],
          "scatterpolar": [
           {
            "marker": {
             "colorbar": {
              "outlinewidth": 0,
              "ticks": ""
             }
            },
            "type": "scatterpolar"
           }
          ],
          "scatterpolargl": [
           {
            "marker": {
             "colorbar": {
              "outlinewidth": 0,
              "ticks": ""
             }
            },
            "type": "scatterpolargl"
           }
          ],
          "scatterternary": [
           {
            "marker": {
             "colorbar": {
              "outlinewidth": 0,
              "ticks": ""
             }
            },
            "type": "scatterternary"
           }
          ],
          "surface": [
           {
            "colorbar": {
             "outlinewidth": 0,
             "ticks": ""
            },
            "colorscale": [
             [
              0,
              "#0d0887"
             ],
             [
              0.1111111111111111,
              "#46039f"
             ],
             [
              0.2222222222222222,
              "#7201a8"
             ],
             [
              0.3333333333333333,
              "#9c179e"
             ],
             [
              0.4444444444444444,
              "#bd3786"
             ],
             [
              0.5555555555555556,
              "#d8576b"
             ],
             [
              0.6666666666666666,
              "#ed7953"
             ],
             [
              0.7777777777777778,
              "#fb9f3a"
             ],
             [
              0.8888888888888888,
              "#fdca26"
             ],
             [
              1,
              "#f0f921"
             ]
            ],
            "type": "surface"
           }
          ],
          "table": [
           {
            "cells": {
             "fill": {
              "color": "#EBF0F8"
             },
             "line": {
              "color": "white"
             }
            },
            "header": {
             "fill": {
              "color": "#C8D4E3"
             },
             "line": {
              "color": "white"
             }
            },
            "type": "table"
           }
          ]
         },
         "layout": {
          "annotationdefaults": {
           "arrowcolor": "#2a3f5f",
           "arrowhead": 0,
           "arrowwidth": 1
          },
          "autotypenumbers": "strict",
          "coloraxis": {
           "colorbar": {
            "outlinewidth": 0,
            "ticks": ""
           }
          },
          "colorscale": {
           "diverging": [
            [
             0,
             "#8e0152"
            ],
            [
             0.1,
             "#c51b7d"
            ],
            [
             0.2,
             "#de77ae"
            ],
            [
             0.3,
             "#f1b6da"
            ],
            [
             0.4,
             "#fde0ef"
            ],
            [
             0.5,
             "#f7f7f7"
            ],
            [
             0.6,
             "#e6f5d0"
            ],
            [
             0.7,
             "#b8e186"
            ],
            [
             0.8,
             "#7fbc41"
            ],
            [
             0.9,
             "#4d9221"
            ],
            [
             1,
             "#276419"
            ]
           ],
           "sequential": [
            [
             0,
             "#0d0887"
            ],
            [
             0.1111111111111111,
             "#46039f"
            ],
            [
             0.2222222222222222,
             "#7201a8"
            ],
            [
             0.3333333333333333,
             "#9c179e"
            ],
            [
             0.4444444444444444,
             "#bd3786"
            ],
            [
             0.5555555555555556,
             "#d8576b"
            ],
            [
             0.6666666666666666,
             "#ed7953"
            ],
            [
             0.7777777777777778,
             "#fb9f3a"
            ],
            [
             0.8888888888888888,
             "#fdca26"
            ],
            [
             1,
             "#f0f921"
            ]
           ],
           "sequentialminus": [
            [
             0,
             "#0d0887"
            ],
            [
             0.1111111111111111,
             "#46039f"
            ],
            [
             0.2222222222222222,
             "#7201a8"
            ],
            [
             0.3333333333333333,
             "#9c179e"
            ],
            [
             0.4444444444444444,
             "#bd3786"
            ],
            [
             0.5555555555555556,
             "#d8576b"
            ],
            [
             0.6666666666666666,
             "#ed7953"
            ],
            [
             0.7777777777777778,
             "#fb9f3a"
            ],
            [
             0.8888888888888888,
             "#fdca26"
            ],
            [
             1,
             "#f0f921"
            ]
           ]
          },
          "colorway": [
           "#636efa",
           "#EF553B",
           "#00cc96",
           "#ab63fa",
           "#FFA15A",
           "#19d3f3",
           "#FF6692",
           "#B6E880",
           "#FF97FF",
           "#FECB52"
          ],
          "font": {
           "color": "#2a3f5f"
          },
          "geo": {
           "bgcolor": "white",
           "lakecolor": "white",
           "landcolor": "#E5ECF6",
           "showlakes": true,
           "showland": true,
           "subunitcolor": "white"
          },
          "hoverlabel": {
           "align": "left"
          },
          "hovermode": "closest",
          "mapbox": {
           "style": "light"
          },
          "paper_bgcolor": "white",
          "plot_bgcolor": "#E5ECF6",
          "polar": {
           "angularaxis": {
            "gridcolor": "white",
            "linecolor": "white",
            "ticks": ""
           },
           "bgcolor": "#E5ECF6",
           "radialaxis": {
            "gridcolor": "white",
            "linecolor": "white",
            "ticks": ""
           }
          },
          "scene": {
           "xaxis": {
            "backgroundcolor": "#E5ECF6",
            "gridcolor": "white",
            "gridwidth": 2,
            "linecolor": "white",
            "showbackground": true,
            "ticks": "",
            "zerolinecolor": "white"
           },
           "yaxis": {
            "backgroundcolor": "#E5ECF6",
            "gridcolor": "white",
            "gridwidth": 2,
            "linecolor": "white",
            "showbackground": true,
            "ticks": "",
            "zerolinecolor": "white"
           },
           "zaxis": {
            "backgroundcolor": "#E5ECF6",
            "gridcolor": "white",
            "gridwidth": 2,
            "linecolor": "white",
            "showbackground": true,
            "ticks": "",
            "zerolinecolor": "white"
           }
          },
          "shapedefaults": {
           "line": {
            "color": "#2a3f5f"
           }
          },
          "ternary": {
           "aaxis": {
            "gridcolor": "white",
            "linecolor": "white",
            "ticks": ""
           },
           "baxis": {
            "gridcolor": "white",
            "linecolor": "white",
            "ticks": ""
           },
           "bgcolor": "#E5ECF6",
           "caxis": {
            "gridcolor": "white",
            "linecolor": "white",
            "ticks": ""
           }
          },
          "title": {
           "x": 0.05
          },
          "xaxis": {
           "automargin": true,
           "gridcolor": "white",
           "linecolor": "white",
           "ticks": "",
           "title": {
            "standoff": 15
           },
           "zerolinecolor": "white",
           "zerolinewidth": 2
          },
          "yaxis": {
           "automargin": true,
           "gridcolor": "white",
           "linecolor": "white",
           "ticks": "",
           "title": {
            "standoff": 15
           },
           "zerolinecolor": "white",
           "zerolinewidth": 2
          }
         }
        },
        "title": {
         "text": "Total Count of Customer type"
        },
        "xaxis": {
         "anchor": "y",
         "domain": [
          0,
          1
         ],
         "title": {
          "text": "customer_type"
         }
        },
        "yaxis": {
         "anchor": "x",
         "domain": [
          0,
          1
         ],
         "title": {
          "text": "count"
         }
        }
       }
      }
     },
     "metadata": {},
     "output_type": "display_data"
    }
   ],
   "source": [
    "#Total count of customer type\n",
    "fig = px.histogram(sales_data, x = 'customer_type',color='gender',barmode='group',title='Total Count of Customer type')\n",
    "fig"
   ]
  },
  {
   "cell_type": "code",
   "execution_count": 21,
   "metadata": {},
   "outputs": [
    {
     "data": {
      "text/plain": [
       "branch\n",
       "A    340\n",
       "B    332\n",
       "C    328\n",
       "Name: count, dtype: int64"
      ]
     },
     "execution_count": 21,
     "metadata": {},
     "output_type": "execute_result"
    }
   ],
   "source": [
    "sales_data.branch.value_counts()"
   ]
  },
  {
   "cell_type": "code",
   "execution_count": 12,
   "metadata": {},
   "outputs": [
    {
     "data": {
      "application/vnd.plotly.v1+json": {
       "config": {
        "plotlyServerURL": "https://plot.ly"
       },
       "data": [
        {
         "alignmentgroup": "True",
         "bingroup": "x",
         "hovertemplate": "gender=Female<br>branch=%{x}<br>count=%{y}<extra></extra>",
         "legendgroup": "Female",
         "marker": {
          "color": "#636efa",
          "pattern": {
           "shape": ""
          }
         },
         "name": "Female",
         "offsetgroup": "Female",
         "orientation": "v",
         "showlegend": true,
         "type": "histogram",
         "x": [
          "A",
          "C",
          "A",
          "C",
          "A",
          "B",
          "B",
          "A",
          "A",
          "B",
          "A",
          "B",
          "A",
          "A",
          "B",
          "C",
          "C",
          "A",
          "C",
          "B",
          "B",
          "C",
          "B",
          "B",
          "C",
          "A",
          "B",
          "C",
          "A",
          "C",
          "B",
          "C",
          "B",
          "A",
          "B",
          "C",
          "C",
          "A",
          "C",
          "C",
          "C",
          "B",
          "C",
          "C",
          "B",
          "C",
          "C",
          "A",
          "C",
          "C",
          "C",
          "B",
          "C",
          "B",
          "C",
          "C",
          "A",
          "A",
          "B",
          "A",
          "A",
          "C",
          "C",
          "B",
          "B",
          "A",
          "B",
          "C",
          "A",
          "A",
          "C",
          "C",
          "C",
          "A",
          "C",
          "A",
          "B",
          "C",
          "C",
          "C",
          "C",
          "A",
          "B",
          "C",
          "B",
          "B",
          "C",
          "C",
          "A",
          "C",
          "C",
          "B",
          "A",
          "C",
          "C",
          "B",
          "B",
          "C",
          "B",
          "B",
          "A",
          "B",
          "C",
          "C",
          "B",
          "A",
          "B",
          "B",
          "B",
          "A",
          "C",
          "B",
          "B",
          "C",
          "A",
          "C",
          "B",
          "A",
          "A",
          "B",
          "A",
          "B",
          "C",
          "A",
          "A",
          "B",
          "C",
          "C",
          "A",
          "A",
          "A",
          "C",
          "B",
          "A",
          "A",
          "A",
          "C",
          "C",
          "A",
          "B",
          "A",
          "A",
          "A",
          "A",
          "A",
          "A",
          "C",
          "C",
          "C",
          "C",
          "C",
          "A",
          "A",
          "B",
          "C",
          "B",
          "B",
          "B",
          "C",
          "A",
          "C",
          "B",
          "C",
          "B",
          "C",
          "B",
          "C",
          "C",
          "C",
          "C",
          "C",
          "C",
          "C",
          "B",
          "B",
          "C",
          "A",
          "A",
          "B",
          "B",
          "C",
          "B",
          "C",
          "A",
          "A",
          "C",
          "C",
          "B",
          "A",
          "A",
          "A",
          "A",
          "B",
          "C",
          "B",
          "C",
          "B",
          "A",
          "C",
          "B",
          "C",
          "C",
          "B",
          "A",
          "C",
          "C",
          "C",
          "B",
          "A",
          "A",
          "B",
          "C",
          "B",
          "A",
          "A",
          "B",
          "B",
          "B",
          "B",
          "A",
          "B",
          "B",
          "C",
          "B",
          "C",
          "C",
          "C",
          "C",
          "C",
          "C",
          "A",
          "A",
          "A",
          "C",
          "C",
          "B",
          "B",
          "B",
          "B",
          "A",
          "B",
          "C",
          "C",
          "C",
          "B",
          "A",
          "C",
          "B",
          "B",
          "B",
          "C",
          "B",
          "A",
          "A",
          "C",
          "B",
          "C",
          "A",
          "A",
          "B",
          "C",
          "A",
          "B",
          "A",
          "C",
          "B",
          "B",
          "A",
          "B",
          "A",
          "B",
          "B",
          "B",
          "C",
          "A",
          "B",
          "A",
          "C",
          "A",
          "B",
          "C",
          "B",
          "A",
          "A",
          "C",
          "B",
          "A",
          "A",
          "C",
          "A",
          "A",
          "C",
          "C",
          "A",
          "C",
          "B",
          "C",
          "A",
          "C",
          "A",
          "C",
          "A",
          "C",
          "A",
          "A",
          "B",
          "B",
          "B",
          "A",
          "C",
          "B",
          "B",
          "C",
          "C",
          "C",
          "B",
          "A",
          "C",
          "A",
          "A",
          "B",
          "B",
          "C",
          "C",
          "A",
          "B",
          "C",
          "B",
          "B",
          "A",
          "B",
          "A",
          "B",
          "B",
          "C",
          "B",
          "B",
          "B",
          "A",
          "C",
          "C",
          "C",
          "A",
          "A",
          "C",
          "B",
          "B",
          "B",
          "C",
          "C",
          "C",
          "A",
          "A",
          "B",
          "B",
          "C",
          "C",
          "C",
          "B",
          "A",
          "C",
          "A",
          "C",
          "C",
          "C",
          "B",
          "B",
          "A",
          "A",
          "C",
          "A",
          "B",
          "A",
          "A",
          "B",
          "A",
          "A",
          "B",
          "C",
          "B",
          "A",
          "B",
          "C",
          "C",
          "C",
          "B",
          "A",
          "A",
          "C",
          "C",
          "C",
          "B",
          "A",
          "C",
          "A",
          "C",
          "A",
          "B",
          "A",
          "A",
          "A",
          "B",
          "C",
          "A",
          "C",
          "A",
          "B",
          "C",
          "A",
          "A",
          "B",
          "A",
          "B",
          "A",
          "B",
          "B",
          "C",
          "A",
          "C",
          "C",
          "C",
          "A",
          "A",
          "B",
          "A",
          "B",
          "A",
          "A",
          "C",
          "B",
          "B",
          "A",
          "C",
          "B",
          "A",
          "B",
          "B",
          "C",
          "A",
          "A",
          "A",
          "C",
          "C",
          "B",
          "C",
          "C",
          "C",
          "A",
          "C",
          "C",
          "B",
          "A",
          "B",
          "B",
          "C",
          "A",
          "A",
          "C",
          "A",
          "B",
          "C",
          "B",
          "C",
          "C",
          "C",
          "B",
          "A",
          "B",
          "C",
          "A",
          "B",
          "C",
          "A",
          "A",
          "C",
          "A",
          "A",
          "B",
          "B",
          "B",
          "C",
          "A",
          "C",
          "A",
          "A",
          "B",
          "A",
          "A",
          "B",
          "B",
          "A",
          "B",
          "B",
          "A",
          "B",
          "B",
          "A",
          "B",
          "C",
          "B",
          "A"
         ],
         "xaxis": "x",
         "yaxis": "y"
        },
        {
         "alignmentgroup": "True",
         "bingroup": "x",
         "hovertemplate": "gender=Male<br>branch=%{x}<br>count=%{y}<extra></extra>",
         "legendgroup": "Male",
         "marker": {
          "color": "#EF553B",
          "pattern": {
           "shape": ""
          }
         },
         "name": "Male",
         "offsetgroup": "Male",
         "orientation": "v",
         "showlegend": true,
         "type": "histogram",
         "x": [
          "A",
          "A",
          "A",
          "C",
          "B",
          "A",
          "A",
          "A",
          "C",
          "B",
          "B",
          "A",
          "A",
          "B",
          "A",
          "B",
          "B",
          "B",
          "A",
          "A",
          "B",
          "C",
          "C",
          "B",
          "B",
          "C",
          "C",
          "B",
          "A",
          "A",
          "C",
          "C",
          "A",
          "B",
          "A",
          "A",
          "C",
          "C",
          "A",
          "C",
          "C",
          "C",
          "C",
          "A",
          "A",
          "B",
          "C",
          "A",
          "B",
          "A",
          "B",
          "C",
          "C",
          "A",
          "B",
          "A",
          "C",
          "A",
          "C",
          "A",
          "B",
          "B",
          "B",
          "C",
          "B",
          "C",
          "B",
          "C",
          "B",
          "A",
          "C",
          "C",
          "B",
          "A",
          "C",
          "A",
          "A",
          "B",
          "B",
          "B",
          "B",
          "A",
          "A",
          "C",
          "B",
          "B",
          "C",
          "A",
          "A",
          "A",
          "A",
          "B",
          "C",
          "B",
          "B",
          "A",
          "A",
          "A",
          "C",
          "C",
          "C",
          "A",
          "C",
          "B",
          "B",
          "A",
          "B",
          "A",
          "C",
          "C",
          "C",
          "B",
          "B",
          "A",
          "B",
          "B",
          "A",
          "B",
          "B",
          "B",
          "C",
          "A",
          "B",
          "C",
          "B",
          "A",
          "C",
          "A",
          "A",
          "A",
          "C",
          "A",
          "B",
          "A",
          "A",
          "A",
          "B",
          "B",
          "C",
          "A",
          "A",
          "B",
          "A",
          "A",
          "A",
          "C",
          "B",
          "C",
          "A",
          "B",
          "C",
          "A",
          "C",
          "A",
          "B",
          "C",
          "B",
          "C",
          "B",
          "C",
          "A",
          "A",
          "C",
          "B",
          "C",
          "A",
          "B",
          "C",
          "C",
          "C",
          "C",
          "A",
          "A",
          "B",
          "A",
          "C",
          "B",
          "A",
          "B",
          "A",
          "A",
          "A",
          "C",
          "A",
          "B",
          "A",
          "A",
          "A",
          "A",
          "B",
          "B",
          "B",
          "A",
          "C",
          "A",
          "A",
          "A",
          "C",
          "C",
          "C",
          "A",
          "B",
          "C",
          "B",
          "A",
          "B",
          "B",
          "C",
          "C",
          "A",
          "A",
          "B",
          "A",
          "A",
          "A",
          "B",
          "B",
          "C",
          "B",
          "A",
          "B",
          "B",
          "C",
          "B",
          "C",
          "C",
          "A",
          "C",
          "C",
          "C",
          "C",
          "C",
          "B",
          "A",
          "A",
          "B",
          "C",
          "C",
          "A",
          "B",
          "C",
          "A",
          "B",
          "A",
          "C",
          "B",
          "A",
          "C",
          "A",
          "B",
          "A",
          "C",
          "B",
          "B",
          "B",
          "C",
          "B",
          "A",
          "B",
          "A",
          "C",
          "B",
          "C",
          "A",
          "C",
          "C",
          "A",
          "B",
          "B",
          "A",
          "A",
          "A",
          "B",
          "C",
          "A",
          "A",
          "C",
          "C",
          "B",
          "A",
          "B",
          "C",
          "A",
          "B",
          "A",
          "B",
          "C",
          "A",
          "B",
          "B",
          "A",
          "B",
          "A",
          "B",
          "B",
          "C",
          "B",
          "C",
          "B",
          "A",
          "C",
          "A",
          "C",
          "B",
          "B",
          "A",
          "C",
          "C",
          "B",
          "A",
          "B",
          "B",
          "C",
          "A",
          "B",
          "C",
          "A",
          "B",
          "A",
          "B",
          "A",
          "A",
          "A",
          "A",
          "B",
          "B",
          "B",
          "A",
          "B",
          "B",
          "C",
          "A",
          "C",
          "B",
          "C",
          "B",
          "A",
          "B",
          "B",
          "A",
          "C",
          "B",
          "A",
          "B",
          "C",
          "B",
          "C",
          "A",
          "A",
          "A",
          "C",
          "C",
          "A",
          "B",
          "A",
          "C",
          "B",
          "B",
          "B",
          "C",
          "C",
          "A",
          "A",
          "C",
          "A",
          "A",
          "B",
          "B",
          "C",
          "B",
          "C",
          "A",
          "A",
          "B",
          "B",
          "C",
          "C",
          "B",
          "A",
          "C",
          "C",
          "A",
          "B",
          "C",
          "B",
          "A",
          "B",
          "A",
          "B",
          "C",
          "C",
          "B",
          "C",
          "B",
          "C",
          "A",
          "C",
          "C",
          "A",
          "A",
          "C",
          "A",
          "B",
          "B",
          "C",
          "B",
          "C",
          "B",
          "A",
          "A",
          "B",
          "B",
          "B",
          "C",
          "A",
          "C",
          "A",
          "B",
          "A",
          "A",
          "A",
          "B",
          "C",
          "A",
          "B",
          "A",
          "A",
          "A",
          "A",
          "C",
          "B",
          "B",
          "A",
          "C",
          "B",
          "C",
          "A",
          "A",
          "C",
          "A",
          "A",
          "C",
          "C",
          "B",
          "B",
          "A",
          "A",
          "A",
          "B",
          "B",
          "B",
          "C",
          "C",
          "A",
          "B",
          "A",
          "C",
          "A",
          "C",
          "B",
          "B",
          "B",
          "B",
          "C",
          "C",
          "A",
          "C",
          "A",
          "A",
          "C",
          "B",
          "C",
          "B",
          "B",
          "C",
          "B",
          "C",
          "A",
          "C",
          "B",
          "A",
          "B",
          "B",
          "A",
          "C",
          "B",
          "B",
          "C",
          "A",
          "C",
          "C",
          "B",
          "C",
          "B",
          "A",
          "B",
          "C",
          "A",
          "A"
         ],
         "xaxis": "x",
         "yaxis": "y"
        }
       ],
       "layout": {
        "barmode": "group",
        "legend": {
         "title": {
          "text": "gender"
         },
         "tracegroupgap": 0
        },
        "template": {
         "data": {
          "bar": [
           {
            "error_x": {
             "color": "#2a3f5f"
            },
            "error_y": {
             "color": "#2a3f5f"
            },
            "marker": {
             "line": {
              "color": "#E5ECF6",
              "width": 0.5
             },
             "pattern": {
              "fillmode": "overlay",
              "size": 10,
              "solidity": 0.2
             }
            },
            "type": "bar"
           }
          ],
          "barpolar": [
           {
            "marker": {
             "line": {
              "color": "#E5ECF6",
              "width": 0.5
             },
             "pattern": {
              "fillmode": "overlay",
              "size": 10,
              "solidity": 0.2
             }
            },
            "type": "barpolar"
           }
          ],
          "carpet": [
           {
            "aaxis": {
             "endlinecolor": "#2a3f5f",
             "gridcolor": "white",
             "linecolor": "white",
             "minorgridcolor": "white",
             "startlinecolor": "#2a3f5f"
            },
            "baxis": {
             "endlinecolor": "#2a3f5f",
             "gridcolor": "white",
             "linecolor": "white",
             "minorgridcolor": "white",
             "startlinecolor": "#2a3f5f"
            },
            "type": "carpet"
           }
          ],
          "choropleth": [
           {
            "colorbar": {
             "outlinewidth": 0,
             "ticks": ""
            },
            "type": "choropleth"
           }
          ],
          "contour": [
           {
            "colorbar": {
             "outlinewidth": 0,
             "ticks": ""
            },
            "colorscale": [
             [
              0,
              "#0d0887"
             ],
             [
              0.1111111111111111,
              "#46039f"
             ],
             [
              0.2222222222222222,
              "#7201a8"
             ],
             [
              0.3333333333333333,
              "#9c179e"
             ],
             [
              0.4444444444444444,
              "#bd3786"
             ],
             [
              0.5555555555555556,
              "#d8576b"
             ],
             [
              0.6666666666666666,
              "#ed7953"
             ],
             [
              0.7777777777777778,
              "#fb9f3a"
             ],
             [
              0.8888888888888888,
              "#fdca26"
             ],
             [
              1,
              "#f0f921"
             ]
            ],
            "type": "contour"
           }
          ],
          "contourcarpet": [
           {
            "colorbar": {
             "outlinewidth": 0,
             "ticks": ""
            },
            "type": "contourcarpet"
           }
          ],
          "heatmap": [
           {
            "colorbar": {
             "outlinewidth": 0,
             "ticks": ""
            },
            "colorscale": [
             [
              0,
              "#0d0887"
             ],
             [
              0.1111111111111111,
              "#46039f"
             ],
             [
              0.2222222222222222,
              "#7201a8"
             ],
             [
              0.3333333333333333,
              "#9c179e"
             ],
             [
              0.4444444444444444,
              "#bd3786"
             ],
             [
              0.5555555555555556,
              "#d8576b"
             ],
             [
              0.6666666666666666,
              "#ed7953"
             ],
             [
              0.7777777777777778,
              "#fb9f3a"
             ],
             [
              0.8888888888888888,
              "#fdca26"
             ],
             [
              1,
              "#f0f921"
             ]
            ],
            "type": "heatmap"
           }
          ],
          "heatmapgl": [
           {
            "colorbar": {
             "outlinewidth": 0,
             "ticks": ""
            },
            "colorscale": [
             [
              0,
              "#0d0887"
             ],
             [
              0.1111111111111111,
              "#46039f"
             ],
             [
              0.2222222222222222,
              "#7201a8"
             ],
             [
              0.3333333333333333,
              "#9c179e"
             ],
             [
              0.4444444444444444,
              "#bd3786"
             ],
             [
              0.5555555555555556,
              "#d8576b"
             ],
             [
              0.6666666666666666,
              "#ed7953"
             ],
             [
              0.7777777777777778,
              "#fb9f3a"
             ],
             [
              0.8888888888888888,
              "#fdca26"
             ],
             [
              1,
              "#f0f921"
             ]
            ],
            "type": "heatmapgl"
           }
          ],
          "histogram": [
           {
            "marker": {
             "pattern": {
              "fillmode": "overlay",
              "size": 10,
              "solidity": 0.2
             }
            },
            "type": "histogram"
           }
          ],
          "histogram2d": [
           {
            "colorbar": {
             "outlinewidth": 0,
             "ticks": ""
            },
            "colorscale": [
             [
              0,
              "#0d0887"
             ],
             [
              0.1111111111111111,
              "#46039f"
             ],
             [
              0.2222222222222222,
              "#7201a8"
             ],
             [
              0.3333333333333333,
              "#9c179e"
             ],
             [
              0.4444444444444444,
              "#bd3786"
             ],
             [
              0.5555555555555556,
              "#d8576b"
             ],
             [
              0.6666666666666666,
              "#ed7953"
             ],
             [
              0.7777777777777778,
              "#fb9f3a"
             ],
             [
              0.8888888888888888,
              "#fdca26"
             ],
             [
              1,
              "#f0f921"
             ]
            ],
            "type": "histogram2d"
           }
          ],
          "histogram2dcontour": [
           {
            "colorbar": {
             "outlinewidth": 0,
             "ticks": ""
            },
            "colorscale": [
             [
              0,
              "#0d0887"
             ],
             [
              0.1111111111111111,
              "#46039f"
             ],
             [
              0.2222222222222222,
              "#7201a8"
             ],
             [
              0.3333333333333333,
              "#9c179e"
             ],
             [
              0.4444444444444444,
              "#bd3786"
             ],
             [
              0.5555555555555556,
              "#d8576b"
             ],
             [
              0.6666666666666666,
              "#ed7953"
             ],
             [
              0.7777777777777778,
              "#fb9f3a"
             ],
             [
              0.8888888888888888,
              "#fdca26"
             ],
             [
              1,
              "#f0f921"
             ]
            ],
            "type": "histogram2dcontour"
           }
          ],
          "mesh3d": [
           {
            "colorbar": {
             "outlinewidth": 0,
             "ticks": ""
            },
            "type": "mesh3d"
           }
          ],
          "parcoords": [
           {
            "line": {
             "colorbar": {
              "outlinewidth": 0,
              "ticks": ""
             }
            },
            "type": "parcoords"
           }
          ],
          "pie": [
           {
            "automargin": true,
            "type": "pie"
           }
          ],
          "scatter": [
           {
            "fillpattern": {
             "fillmode": "overlay",
             "size": 10,
             "solidity": 0.2
            },
            "type": "scatter"
           }
          ],
          "scatter3d": [
           {
            "line": {
             "colorbar": {
              "outlinewidth": 0,
              "ticks": ""
             }
            },
            "marker": {
             "colorbar": {
              "outlinewidth": 0,
              "ticks": ""
             }
            },
            "type": "scatter3d"
           }
          ],
          "scattercarpet": [
           {
            "marker": {
             "colorbar": {
              "outlinewidth": 0,
              "ticks": ""
             }
            },
            "type": "scattercarpet"
           }
          ],
          "scattergeo": [
           {
            "marker": {
             "colorbar": {
              "outlinewidth": 0,
              "ticks": ""
             }
            },
            "type": "scattergeo"
           }
          ],
          "scattergl": [
           {
            "marker": {
             "colorbar": {
              "outlinewidth": 0,
              "ticks": ""
             }
            },
            "type": "scattergl"
           }
          ],
          "scattermapbox": [
           {
            "marker": {
             "colorbar": {
              "outlinewidth": 0,
              "ticks": ""
             }
            },
            "type": "scattermapbox"
           }
          ],
          "scatterpolar": [
           {
            "marker": {
             "colorbar": {
              "outlinewidth": 0,
              "ticks": ""
             }
            },
            "type": "scatterpolar"
           }
          ],
          "scatterpolargl": [
           {
            "marker": {
             "colorbar": {
              "outlinewidth": 0,
              "ticks": ""
             }
            },
            "type": "scatterpolargl"
           }
          ],
          "scatterternary": [
           {
            "marker": {
             "colorbar": {
              "outlinewidth": 0,
              "ticks": ""
             }
            },
            "type": "scatterternary"
           }
          ],
          "surface": [
           {
            "colorbar": {
             "outlinewidth": 0,
             "ticks": ""
            },
            "colorscale": [
             [
              0,
              "#0d0887"
             ],
             [
              0.1111111111111111,
              "#46039f"
             ],
             [
              0.2222222222222222,
              "#7201a8"
             ],
             [
              0.3333333333333333,
              "#9c179e"
             ],
             [
              0.4444444444444444,
              "#bd3786"
             ],
             [
              0.5555555555555556,
              "#d8576b"
             ],
             [
              0.6666666666666666,
              "#ed7953"
             ],
             [
              0.7777777777777778,
              "#fb9f3a"
             ],
             [
              0.8888888888888888,
              "#fdca26"
             ],
             [
              1,
              "#f0f921"
             ]
            ],
            "type": "surface"
           }
          ],
          "table": [
           {
            "cells": {
             "fill": {
              "color": "#EBF0F8"
             },
             "line": {
              "color": "white"
             }
            },
            "header": {
             "fill": {
              "color": "#C8D4E3"
             },
             "line": {
              "color": "white"
             }
            },
            "type": "table"
           }
          ]
         },
         "layout": {
          "annotationdefaults": {
           "arrowcolor": "#2a3f5f",
           "arrowhead": 0,
           "arrowwidth": 1
          },
          "autotypenumbers": "strict",
          "coloraxis": {
           "colorbar": {
            "outlinewidth": 0,
            "ticks": ""
           }
          },
          "colorscale": {
           "diverging": [
            [
             0,
             "#8e0152"
            ],
            [
             0.1,
             "#c51b7d"
            ],
            [
             0.2,
             "#de77ae"
            ],
            [
             0.3,
             "#f1b6da"
            ],
            [
             0.4,
             "#fde0ef"
            ],
            [
             0.5,
             "#f7f7f7"
            ],
            [
             0.6,
             "#e6f5d0"
            ],
            [
             0.7,
             "#b8e186"
            ],
            [
             0.8,
             "#7fbc41"
            ],
            [
             0.9,
             "#4d9221"
            ],
            [
             1,
             "#276419"
            ]
           ],
           "sequential": [
            [
             0,
             "#0d0887"
            ],
            [
             0.1111111111111111,
             "#46039f"
            ],
            [
             0.2222222222222222,
             "#7201a8"
            ],
            [
             0.3333333333333333,
             "#9c179e"
            ],
            [
             0.4444444444444444,
             "#bd3786"
            ],
            [
             0.5555555555555556,
             "#d8576b"
            ],
            [
             0.6666666666666666,
             "#ed7953"
            ],
            [
             0.7777777777777778,
             "#fb9f3a"
            ],
            [
             0.8888888888888888,
             "#fdca26"
            ],
            [
             1,
             "#f0f921"
            ]
           ],
           "sequentialminus": [
            [
             0,
             "#0d0887"
            ],
            [
             0.1111111111111111,
             "#46039f"
            ],
            [
             0.2222222222222222,
             "#7201a8"
            ],
            [
             0.3333333333333333,
             "#9c179e"
            ],
            [
             0.4444444444444444,
             "#bd3786"
            ],
            [
             0.5555555555555556,
             "#d8576b"
            ],
            [
             0.6666666666666666,
             "#ed7953"
            ],
            [
             0.7777777777777778,
             "#fb9f3a"
            ],
            [
             0.8888888888888888,
             "#fdca26"
            ],
            [
             1,
             "#f0f921"
            ]
           ]
          },
          "colorway": [
           "#636efa",
           "#EF553B",
           "#00cc96",
           "#ab63fa",
           "#FFA15A",
           "#19d3f3",
           "#FF6692",
           "#B6E880",
           "#FF97FF",
           "#FECB52"
          ],
          "font": {
           "color": "#2a3f5f"
          },
          "geo": {
           "bgcolor": "white",
           "lakecolor": "white",
           "landcolor": "#E5ECF6",
           "showlakes": true,
           "showland": true,
           "subunitcolor": "white"
          },
          "hoverlabel": {
           "align": "left"
          },
          "hovermode": "closest",
          "mapbox": {
           "style": "light"
          },
          "paper_bgcolor": "white",
          "plot_bgcolor": "#E5ECF6",
          "polar": {
           "angularaxis": {
            "gridcolor": "white",
            "linecolor": "white",
            "ticks": ""
           },
           "bgcolor": "#E5ECF6",
           "radialaxis": {
            "gridcolor": "white",
            "linecolor": "white",
            "ticks": ""
           }
          },
          "scene": {
           "xaxis": {
            "backgroundcolor": "#E5ECF6",
            "gridcolor": "white",
            "gridwidth": 2,
            "linecolor": "white",
            "showbackground": true,
            "ticks": "",
            "zerolinecolor": "white"
           },
           "yaxis": {
            "backgroundcolor": "#E5ECF6",
            "gridcolor": "white",
            "gridwidth": 2,
            "linecolor": "white",
            "showbackground": true,
            "ticks": "",
            "zerolinecolor": "white"
           },
           "zaxis": {
            "backgroundcolor": "#E5ECF6",
            "gridcolor": "white",
            "gridwidth": 2,
            "linecolor": "white",
            "showbackground": true,
            "ticks": "",
            "zerolinecolor": "white"
           }
          },
          "shapedefaults": {
           "line": {
            "color": "#2a3f5f"
           }
          },
          "ternary": {
           "aaxis": {
            "gridcolor": "white",
            "linecolor": "white",
            "ticks": ""
           },
           "baxis": {
            "gridcolor": "white",
            "linecolor": "white",
            "ticks": ""
           },
           "bgcolor": "#E5ECF6",
           "caxis": {
            "gridcolor": "white",
            "linecolor": "white",
            "ticks": ""
           }
          },
          "title": {
           "x": 0.05
          },
          "xaxis": {
           "automargin": true,
           "gridcolor": "white",
           "linecolor": "white",
           "ticks": "",
           "title": {
            "standoff": 15
           },
           "zerolinecolor": "white",
           "zerolinewidth": 2
          },
          "yaxis": {
           "automargin": true,
           "gridcolor": "white",
           "linecolor": "white",
           "ticks": "",
           "title": {
            "standoff": 15
           },
           "zerolinecolor": "white",
           "zerolinewidth": 2
          }
         }
        },
        "title": {
         "text": "Total count of Branches"
        },
        "xaxis": {
         "anchor": "y",
         "domain": [
          0,
          1
         ],
         "title": {
          "text": "branch"
         }
        },
        "yaxis": {
         "anchor": "x",
         "domain": [
          0,
          1
         ],
         "title": {
          "text": "count"
         }
        }
       }
      }
     },
     "metadata": {},
     "output_type": "display_data"
    }
   ],
   "source": [
    "#Total count of Branches\n",
    "fig = px.histogram(sales_data, x = 'branch',color='gender',barmode='group',title='Total count of Branches')\n",
    "fig"
   ]
  },
  {
   "cell_type": "code",
   "execution_count": 13,
   "metadata": {},
   "outputs": [
    {
     "data": {
      "text/plain": [
       "<Axes: ylabel='payment'>"
      ]
     },
     "execution_count": 13,
     "metadata": {},
     "output_type": "execute_result"
    },
    {
     "data": {
      "image/png": "[encoded data removed]",
      "text/plain": [
       "<Figure size 640x480 with 1 Axes>"
      ]
     },
     "metadata": {},
     "output_type": "display_data"
    }
   ],
   "source": [
    "sales_data.payment.value_counts().plot(kind='barh')"
   ]
  },
  {
   "cell_type": "markdown",
   "metadata": {},
   "source": [
    " **Customers seem to prefer Ewallet and cash payments rather as opposed to using credit cards** \n",
    "\n",
    "* A possible reason might be :\n",
    "\n",
    "*Some people prefer to pay for purchases with cash or debit cards. This helps to eliminate the risk of debt and simplifies budgeting. In addition, using cash instead of credit cards allows people to stay on budget (using the envelope budgeting system), and to keep a close eye on expenditures*\n"
   ]
  },
  {
   "cell_type": "code",
   "execution_count": 14,
   "metadata": {},
   "outputs": [
    {
     "data": {
      "text/plain": [
       "<Figure size 1200x700 with 0 Axes>"
      ]
     },
     "execution_count": 14,
     "metadata": {},
     "output_type": "execute_result"
    },
    {
     "data": {
      "image/png": "[encoded data removed]",
      "text/plain": [
       "<Figure size 640x480 with 1 Axes>"
      ]
     },
     "metadata": {},
     "output_type": "display_data"
    },
    {
     "data": {
      "text/plain": [
       "<Figure size 1200x700 with 0 Axes>"
      ]
     },
     "metadata": {},
     "output_type": "display_data"
    }
   ],
   "source": [
    "#Reviewing  the relationships between dependent and independent Variables\n",
    "x=sales_data[\"rating\"]\n",
    "y=sales_data[\"gross_income\"]\n",
    "sns.regplot(x=sales_data[\"rating\"],y=sales_data[\"gross_income\"])\n",
    "plt.title('Relationship between Gross income vs Customer Ratings')\n",
    "plt.figure(figsize=(12, 7))"
   ]
  },
  {
   "cell_type": "markdown",
   "metadata": {},
   "source": [
    "* *There seems to be no relationship between Gross income and Customer ratings*"
   ]
  },
  {
   "cell_type": "code",
   "execution_count": 15,
   "metadata": {},
   "outputs": [
    {
     "data": {
      "text/plain": [
       "<Axes: title={'center': 'Total Monthly transaction by Gender'}, xlabel='product_line', ylabel='count'>"
      ]
     },
     "execution_count": 15,
     "metadata": {},
     "output_type": "execute_result"
    },
    {
     "data": {
      "image/png": "[encoded data removed]",
      "text/plain": [
       "<Figure size 1300x500 with 1 Axes>"
      ]
     },
     "metadata": {},
     "output_type": "display_data"
    }
   ],
   "source": [
    "# Checking the spending pattern of females and males and in which category do they spend a lot?\n",
    "plt.figure(figsize=(13, 5))\n",
    "plt.title('Total Monthly transaction by Gender')\n",
    "sns.countplot(x=sales_data.product_line, hue = sales_data.gender)"
   ]
  },
  {
   "cell_type": "code",
   "execution_count": 16,
   "metadata": {},
   "outputs": [
    {
     "data": {
      "application/vnd.plotly.v1+json": {
       "config": {
        "plotlyServerURL": "https://plot.ly"
       },
       "data": [
        {
         "alignmentgroup": "True",
         "hovertemplate": "city=%{x}<br>date=01/05/2019<br>total=%{y}<extra></extra>",
         "ids": [
          "A",
          "A",
          "A",
          "A",
          "A"
         ],
         "legendgroup": "Yangon",
         "marker": {
          "color": "#636efa",
          "pattern": {
           "shape": ""
          }
         },
         "name": "Yangon",
         "offsetgroup": "Yangon",
         "orientation": "v",
         "showlegend": true,
         "textposition": "auto",
         "type": "bar",
         "x": [
          "Yangon",
          "Yangon",
          "Yangon",
          "Yangon",
          "Yangon"
         ],
         "xaxis": "x",
         "y": [
          548.9715,
          263.13,
          297.108,
          225.2775,
          690.018
         ],
         "yaxis": "y"
        },
        {
         "alignmentgroup": "True",
         "hovertemplate": "city=%{x}<br>date=01/05/2019<br>total=%{y}<extra></extra>",
         "ids": [
          "C",
          "C",
          "C",
          "C"
         ],
         "legendgroup": "Naypyitaw",
         "marker": {
          "color": "#EF553B",
          "pattern": {
           "shape": ""
          }
         },
         "name": "Naypyitaw",
         "offsetgroup": "Naypyitaw",
         "orientation": "v",
         "showlegend": true,
         "textposition": "auto",
         "type": "bar",
         "x": [
          "Naypyitaw",
          "Naypyitaw",
          "Naypyitaw",
          "Naypyitaw"
         ],
         "xaxis": "x",
         "y": [
          172.494,
          33.495,
          239.589,
          579.8415
         ],
         "yaxis": "y"
        },
        {
         "alignmentgroup": "True",
         "hovertemplate": "city=%{x}<br>date=01/05/2019<br>total=%{y}<extra></extra>",
         "ids": [
          "B",
          "B",
          "B"
         ],
         "legendgroup": "Mandalay",
         "marker": {
          "color": "#00cc96",
          "pattern": {
           "shape": ""
          }
         },
         "name": "Mandalay",
         "offsetgroup": "Mandalay",
         "orientation": "v",
         "showlegend": true,
         "textposition": "auto",
         "type": "bar",
         "x": [
          "Mandalay",
          "Mandalay",
          "Mandalay"
         ],
         "xaxis": "x",
         "y": [
          334.341,
          77.658,
          74.76
         ],
         "yaxis": "y"
        }
       ],
       "frames": [
        {
         "data": [
          {
           "alignmentgroup": "True",
           "hovertemplate": "city=%{x}<br>date=01/05/2019<br>total=%{y}<extra></extra>",
           "ids": [
            "A",
            "A",
            "A",
            "A",
            "A"
           ],
           "legendgroup": "Yangon",
           "marker": {
            "color": "#636efa",
            "pattern": {
             "shape": ""
            }
           },
           "name": "Yangon",
           "offsetgroup": "Yangon",
           "orientation": "v",
           "showlegend": true,
           "textposition": "auto",
           "type": "bar",
           "x": [
            "Yangon",
            "Yangon",
            "Yangon",
            "Yangon",
            "Yangon"
           ],
           "xaxis": "x",
           "y": [
            548.9715,
            263.13,
            297.108,
            225.2775,
            690.018
           ],
           "yaxis": "y"
          },
          {
           "alignmentgroup": "True",
           "hovertemplate": "city=%{x}<br>date=01/05/2019<br>total=%{y}<extra></extra>",
           "ids": [
            "C",
            "C",
            "C",
            "C"
           ],
           "legendgroup": "Naypyitaw",
           "marker": {
            "color": "#EF553B",
            "pattern": {
             "shape": ""
            }
           },
           "name": "Naypyitaw",
           "offsetgroup": "Naypyitaw",
           "orientation": "v",
           "showlegend": true,
           "textposition": "auto",
           "type": "bar",
           "x": [
            "Naypyitaw",
            "Naypyitaw",
            "Naypyitaw",
            "Naypyitaw"
           ],
           "xaxis": "x",
           "y": [
            172.494,
            33.495,
            239.589,
            579.8415
           ],
           "yaxis": "y"
          },
          {
           "alignmentgroup": "True",
           "hovertemplate": "city=%{x}<br>date=01/05/2019<br>total=%{y}<extra></extra>",
           "ids": [
            "B",
            "B",
            "B"
           ],
           "legendgroup": "Mandalay",
           "marker": {
            "color": "#00cc96",
            "pattern": {
             "shape": ""
            }
           },
           "name": "Mandalay",
           "offsetgroup": "Mandalay",
           "orientation": "v",
           "showlegend": true,
           "textposition": "auto",
           "type": "bar",
           "x": [
            "Mandalay",
            "Mandalay",
            "Mandalay"
           ],
           "xaxis": "x",
           "y": [
            334.341,
            77.658,
            74.76
           ],
           "yaxis": "y"
          }
         ],
         "name": "01/05/2019"
        },
        {
         "data": [
          {
           "alignmentgroup": "True",
           "hovertemplate": "city=%{x}<br>date=03/08/2019<br>total=%{y}<extra></extra>",
           "ids": [
            "A",
            "A",
            "A",
            "A"
           ],
           "legendgroup": "Yangon",
           "marker": {
            "color": "#636efa",
            "pattern": {
             "shape": ""
            }
           },
           "name": "Yangon",
           "offsetgroup": "Yangon",
           "orientation": "v",
           "showlegend": true,
           "textposition": "auto",
           "type": "bar",
           "x": [
            "Yangon",
            "Yangon",
            "Yangon",
            "Yangon"
           ],
           "xaxis": "x",
           "y": [
            102.018,
            324.2925,
            951.825,
            214.137
           ],
           "yaxis": "y"
          },
          {
           "alignmentgroup": "True",
           "hovertemplate": "city=%{x}<br>date=03/08/2019<br>total=%{y}<extra></extra>",
           "ids": [
            "C",
            "C",
            "C",
            "C",
            "C",
            "C"
           ],
           "legendgroup": "Naypyitaw",
           "marker": {
            "color": "#EF553B",
            "pattern": {
             "shape": ""
            }
           },
           "name": "Naypyitaw",
           "offsetgroup": "Naypyitaw",
           "orientation": "v",
           "showlegend": true,
           "textposition": "auto",
           "type": "bar",
           "x": [
            "Naypyitaw",
            "Naypyitaw",
            "Naypyitaw",
            "Naypyitaw",
            "Naypyitaw",
            "Naypyitaw"
           ],
           "xaxis": "x",
           "y": [
            80.22,
            512.19,
            291.438,
            394.275,
            90.867,
            71.568
           ],
           "yaxis": "y"
          },
          {
           "alignmentgroup": "True",
           "hovertemplate": "city=%{x}<br>date=03/08/2019<br>total=%{y}<extra></extra>",
           "ids": [
            "B"
           ],
           "legendgroup": "Mandalay",
           "marker": {
            "color": "#00cc96",
            "pattern": {
             "shape": ""
            }
           },
           "name": "Mandalay",
           "offsetgroup": "Mandalay",
           "orientation": "v",
           "showlegend": true,
           "textposition": "auto",
           "type": "bar",
           "x": [
            "Mandalay"
           ],
           "xaxis": "x",
           "y": [
            92.5575
           ],
           "yaxis": "y"
          }
         ],
         "name": "03/08/2019"
        },
        {
         "data": [
          {
           "alignmentgroup": "True",
           "hovertemplate": "city=%{x}<br>date=03/03/2019<br>total=%{y}<extra></extra>",
           "ids": [
            "A",
            "A",
            "A",
            "A",
            "A"
           ],
           "legendgroup": "Yangon",
           "marker": {
            "color": "#636efa",
            "pattern": {
             "shape": ""
            }
           },
           "name": "Yangon",
           "offsetgroup": "Yangon",
           "orientation": "v",
           "showlegend": true,
           "textposition": "auto",
           "type": "bar",
           "x": [
            "Yangon",
            "Yangon",
            "Yangon",
            "Yangon",
            "Yangon"
           ],
           "xaxis": "x",
           "y": [
            340.5255,
            186.228,
            26.25,
            212.7825,
            48.7305
           ],
           "yaxis": "y"
          },
          {
           "alignmentgroup": "True",
           "hovertemplate": "city=%{x}<br>date=03/03/2019<br>total=%{y}<extra></extra>",
           "ids": [
            "C",
            "C",
            "C",
            "C",
            "C",
            "C"
           ],
           "legendgroup": "Naypyitaw",
           "marker": {
            "color": "#EF553B",
            "pattern": {
             "shape": ""
            }
           },
           "name": "Naypyitaw",
           "offsetgroup": "Naypyitaw",
           "orientation": "v",
           "showlegend": true,
           "textposition": "auto",
           "type": "bar",
           "x": [
            "Naypyitaw",
            "Naypyitaw",
            "Naypyitaw",
            "Naypyitaw",
            "Naypyitaw",
            "Naypyitaw"
           ],
           "xaxis": "x",
           "y": [
            860.685,
            175.14,
            272.58,
            293.139,
            369.684,
            253.68
           ],
           "yaxis": "y"
          },
          {
           "alignmentgroup": "True",
           "hovertemplate": "city=%{x}<br>date=03/03/2019<br>total=%{y}<extra></extra>",
           "ids": [
            "B",
            "B",
            "B"
           ],
           "legendgroup": "Mandalay",
           "marker": {
            "color": "#00cc96",
            "pattern": {
             "shape": ""
            }
           },
           "name": "Mandalay",
           "offsetgroup": "Mandalay",
           "orientation": "v",
           "showlegend": true,
           "textposition": "auto",
           "type": "bar",
           "x": [
            "Mandalay",
            "Mandalay",
            "Mandalay"
           ],
           "xaxis": "x",
           "y": [
            253.008,
            793.716,
            767.025
           ],
           "yaxis": "y"
          }
         ],
         "name": "03/03/2019"
        },
        {
         "data": [
          {
           "alignmentgroup": "True",
           "hovertemplate": "city=%{x}<br>date=1/27/2019<br>total=%{y}<extra></extra>",
           "ids": [
            "A",
            "A",
            "A",
            "A",
            "A",
            "A"
           ],
           "legendgroup": "Yangon",
           "marker": {
            "color": "#636efa",
            "pattern": {
             "shape": ""
            }
           },
           "name": "Yangon",
           "offsetgroup": "Yangon",
           "orientation": "v",
           "showlegend": true,
           "textposition": "auto",
           "type": "bar",
           "x": [
            "Yangon",
            "Yangon",
            "Yangon",
            "Yangon",
            "Yangon",
            "Yangon"
           ],
           "xaxis": "x",
           "y": [
            489.048,
            169.3125,
            25.263,
            398.958,
            514.773,
            76.923
           ],
           "yaxis": "y"
          },
          {
           "alignmentgroup": "True",
           "hovertemplate": "city=%{x}<br>date=1/27/2019<br>total=%{y}<extra></extra>",
           "ids": [
            "C",
            "C",
            "C",
            "C",
            "C",
            "C"
           ],
           "legendgroup": "Naypyitaw",
           "marker": {
            "color": "#EF553B",
            "pattern": {
             "shape": ""
            }
           },
           "name": "Naypyitaw",
           "offsetgroup": "Naypyitaw",
           "orientation": "v",
           "showlegend": true,
           "textposition": "auto",
           "type": "bar",
           "x": [
            "Naypyitaw",
            "Naypyitaw",
            "Naypyitaw",
            "Naypyitaw",
            "Naypyitaw",
            "Naypyitaw"
           ],
           "xaxis": "x",
           "y": [
            150.78,
            510.9615,
            488.985,
            568.512,
            145.74,
            178.164
           ],
           "yaxis": "y"
          },
          {
           "alignmentgroup": "True",
           "hovertemplate": "city=%{x}<br>date=1/27/2019<br>total=%{y}<extra></extra>",
           "ids": [
            "B",
            "B"
           ],
           "legendgroup": "Mandalay",
           "marker": {
            "color": "#00cc96",
            "pattern": {
             "shape": ""
            }
           },
           "name": "Mandalay",
           "offsetgroup": "Mandalay",
           "orientation": "v",
           "showlegend": true,
           "textposition": "auto",
           "type": "bar",
           "x": [
            "Mandalay",
            "Mandalay"
           ],
           "xaxis": "x",
           "y": [
            403.872,
            514.605
           ],
           "yaxis": "y"
          }
         ],
         "name": "1/27/2019"
        },
        {
         "data": [
          {
           "alignmentgroup": "True",
           "hovertemplate": "city=%{x}<br>date=02/08/2019<br>total=%{y}<extra></extra>",
           "ids": [
            "A",
            "A",
            "A"
           ],
           "legendgroup": "Yangon",
           "marker": {
            "color": "#636efa",
            "pattern": {
             "shape": ""
            }
           },
           "name": "Yangon",
           "offsetgroup": "Yangon",
           "orientation": "v",
           "showlegend": true,
           "textposition": "auto",
           "type": "bar",
           "x": [
            "Yangon",
            "Yangon",
            "Yangon"
           ],
           "xaxis": "x",
           "y": [
            634.3785,
            1039.29,
            20.685
           ],
           "yaxis": "y"
          },
          {
           "alignmentgroup": "True",
           "hovertemplate": "city=%{x}<br>date=02/08/2019<br>total=%{y}<extra></extra>",
           "ids": [
            "C",
            "C",
            "C"
           ],
           "legendgroup": "Naypyitaw",
           "marker": {
            "color": "#EF553B",
            "pattern": {
             "shape": ""
            }
           },
           "name": "Naypyitaw",
           "offsetgroup": "Naypyitaw",
           "orientation": "v",
           "showlegend": true,
           "textposition": "auto",
           "type": "bar",
           "x": [
            "Naypyitaw",
            "Naypyitaw",
            "Naypyitaw"
           ],
           "xaxis": "x",
           "y": [
            1020.705,
            273.0525,
            341.0925
           ],
           "yaxis": "y"
          },
          {
           "alignmentgroup": "True",
           "hovertemplate": "city=%{x}<br>date=02/08/2019<br>total=%{y}<extra></extra>",
           "ids": [
            "B",
            "B",
            "B",
            "B",
            "B",
            "B"
           ],
           "legendgroup": "Mandalay",
           "marker": {
            "color": "#00cc96",
            "pattern": {
             "shape": ""
            }
           },
           "name": "Mandalay",
           "offsetgroup": "Mandalay",
           "orientation": "v",
           "showlegend": true,
           "textposition": "auto",
           "type": "bar",
           "x": [
            "Mandalay",
            "Mandalay",
            "Mandalay",
            "Mandalay",
            "Mandalay",
            "Mandalay"
           ],
           "xaxis": "x",
           "y": [
            35.196,
            435.456,
            853.146,
            195.174,
            133.35,
            103.131
           ],
           "yaxis": "y"
          }
         ],
         "name": "02/08/2019"
        },
        {
         "data": [
          {
           "alignmentgroup": "True",
           "hovertemplate": "city=%{x}<br>date=3/25/2019<br>total=%{y}<extra></extra>",
           "ids": [
            "A",
            "A",
            "A",
            "A"
           ],
           "legendgroup": "Yangon",
           "marker": {
            "color": "#636efa",
            "pattern": {
             "shape": ""
            }
           },
           "name": "Yangon",
           "offsetgroup": "Yangon",
           "orientation": "v",
           "showlegend": true,
           "textposition": "auto",
           "type": "bar",
           "x": [
            "Yangon",
            "Yangon",
            "Yangon",
            "Yangon"
           ],
           "xaxis": "x",
           "y": [
            152.712,
            142.002,
            232.638,
            49.77
           ],
           "yaxis": "y"
          },
          {
           "alignmentgroup": "True",
           "hovertemplate": "city=%{x}<br>date=3/25/2019<br>total=%{y}<extra></extra>",
           "ids": [
            "C",
            "C",
            "C"
           ],
           "legendgroup": "Naypyitaw",
           "marker": {
            "color": "#EF553B",
            "pattern": {
             "shape": ""
            }
           },
           "name": "Naypyitaw",
           "offsetgroup": "Naypyitaw",
           "orientation": "v",
           "showlegend": true,
           "textposition": "auto",
           "type": "bar",
           "x": [
            "Naypyitaw",
            "Naypyitaw",
            "Naypyitaw"
           ],
           "xaxis": "x",
           "y": [
            627.6165,
            401.73,
            248.409
           ],
           "yaxis": "y"
          },
          {
           "alignmentgroup": "True",
           "hovertemplate": "city=%{x}<br>date=3/25/2019<br>total=%{y}<extra></extra>",
           "ids": [
            "B",
            "B"
           ],
           "legendgroup": "Mandalay",
           "marker": {
            "color": "#00cc96",
            "pattern": {
             "shape": ""
            }
           },
           "name": "Mandalay",
           "offsetgroup": "Mandalay",
           "orientation": "v",
           "showlegend": true,
           "textposition": "auto",
           "type": "bar",
           "x": [
            "Mandalay",
            "Mandalay"
           ],
           "xaxis": "x",
           "y": [
            195.951,
            222.138
           ],
           "yaxis": "y"
          }
         ],
         "name": "3/25/2019"
        },
        {
         "data": [
          {
           "alignmentgroup": "True",
           "hovertemplate": "city=%{x}<br>date=2/25/2019<br>total=%{y}<extra></extra>",
           "ids": [
            "A",
            "A",
            "A",
            "A",
            "A",
            "A"
           ],
           "legendgroup": "Yangon",
           "marker": {
            "color": "#636efa",
            "pattern": {
             "shape": ""
            }
           },
           "name": "Yangon",
           "offsetgroup": "Yangon",
           "orientation": "v",
           "showlegend": true,
           "textposition": "auto",
           "type": "bar",
           "x": [
            "Yangon",
            "Yangon",
            "Yangon",
            "Yangon",
            "Yangon",
            "Yangon"
           ],
           "xaxis": "x",
           "y": [
            433.692,
            66.8745,
            205.317,
            479.9025,
            306.81,
            313.74
           ],
           "yaxis": "y"
          },
          {
           "alignmentgroup": "True",
           "hovertemplate": "city=%{x}<br>date=2/25/2019<br>total=%{y}<extra></extra>",
           "ids": [
            "C",
            "C"
           ],
           "legendgroup": "Naypyitaw",
           "marker": {
            "color": "#EF553B",
            "pattern": {
             "shape": ""
            }
           },
           "name": "Naypyitaw",
           "offsetgroup": "Naypyitaw",
           "orientation": "v",
           "showlegend": true,
           "textposition": "auto",
           "type": "bar",
           "x": [
            "Naypyitaw",
            "Naypyitaw"
           ],
           "xaxis": "x",
           "y": [
            451.71,
            51.0405
           ],
           "yaxis": "y"
          },
          {
           "alignmentgroup": "True",
           "hovertemplate": "city=%{x}<br>date=2/25/2019<br>total=%{y}<extra></extra>",
           "ids": [
            "B",
            "B",
            "B",
            "B",
            "B",
            "B",
            "B",
            "B"
           ],
           "legendgroup": "Mandalay",
           "marker": {
            "color": "#00cc96",
            "pattern": {
             "shape": ""
            }
           },
           "name": "Mandalay",
           "offsetgroup": "Mandalay",
           "orientation": "v",
           "showlegend": true,
           "textposition": "auto",
           "type": "bar",
           "x": [
            "Mandalay",
            "Mandalay",
            "Mandalay",
            "Mandalay",
            "Mandalay",
            "Mandalay",
            "Mandalay",
            "Mandalay"
           ],
           "xaxis": "x",
           "y": [
            494.1825,
            357.588,
            92.8725,
            430.71,
            262.794,
            554.295,
            41.7375,
            263.97
           ],
           "yaxis": "y"
          }
         ],
         "name": "2/25/2019"
        },
        {
         "data": [
          {
           "alignmentgroup": "True",
           "hovertemplate": "city=%{x}<br>date=2/24/2019<br>total=%{y}<extra></extra>",
           "ids": [
            "A",
            "A"
           ],
           "legendgroup": "Yangon",
           "marker": {
            "color": "#636efa",
            "pattern": {
             "shape": ""
            }
           },
           "name": "Yangon",
           "offsetgroup": "Yangon",
           "orientation": "v",
           "showlegend": true,
           "textposition": "auto",
           "type": "bar",
           "x": [
            "Yangon",
            "Yangon"
           ],
           "xaxis": "x",
           "y": [
            422.73,
            100.128
           ],
           "yaxis": "y"
          },
          {
           "alignmentgroup": "True",
           "hovertemplate": "city=%{x}<br>date=2/24/2019<br>total=%{y}<extra></extra>",
           "ids": [
            "C",
            "C",
            "C",
            "C"
           ],
           "legendgroup": "Naypyitaw",
           "marker": {
            "color": "#EF553B",
            "pattern": {
             "shape": ""
            }
           },
           "name": "Naypyitaw",
           "offsetgroup": "Naypyitaw",
           "orientation": "v",
           "showlegend": true,
           "textposition": "auto",
           "type": "bar",
           "x": [
            "Naypyitaw",
            "Naypyitaw",
            "Naypyitaw",
            "Naypyitaw"
           ],
           "xaxis": "x",
           "y": [
            772.38,
            351.099,
            259.77,
            53.34
           ],
           "yaxis": "y"
          },
          {
           "alignmentgroup": "True",
           "hovertemplate": "city=%{x}<br>date=2/24/2019<br>total=%{y}<extra></extra>",
           "ids": [
            "B",
            "B",
            "B"
           ],
           "legendgroup": "Mandalay",
           "marker": {
            "color": "#00cc96",
            "pattern": {
             "shape": ""
            }
           },
           "name": "Mandalay",
           "offsetgroup": "Mandalay",
           "orientation": "v",
           "showlegend": true,
           "textposition": "auto",
           "type": "bar",
           "x": [
            "Mandalay",
            "Mandalay",
            "Mandalay"
           ],
           "xaxis": "x",
           "y": [
            365.085,
            175.917,
            222.012
           ],
           "yaxis": "y"
          }
         ],
         "name": "2/24/2019"
        },
        {
         "data": [
          {
           "alignmentgroup": "True",
           "hovertemplate": "city=%{x}<br>date=01/10/2019<br>total=%{y}<extra></extra>",
           "ids": [
            "A",
            "A",
            "A"
           ],
           "legendgroup": "Yangon",
           "marker": {
            "color": "#636efa",
            "pattern": {
             "shape": ""
            }
           },
           "name": "Yangon",
           "offsetgroup": "Yangon",
           "orientation": "v",
           "showlegend": true,
           "textposition": "auto",
           "type": "bar",
           "x": [
            "Yangon",
            "Yangon",
            "Yangon"
           ],
           "xaxis": "x",
           "y": [
            76.146,
            161.553,
            493.794
           ],
           "yaxis": "y"
          },
          {
           "alignmentgroup": "True",
           "hovertemplate": "city=%{x}<br>date=01/10/2019<br>total=%{y}<extra></extra>",
           "ids": [
            "C",
            "C",
            "C"
           ],
           "legendgroup": "Naypyitaw",
           "marker": {
            "color": "#EF553B",
            "pattern": {
             "shape": ""
            }
           },
           "name": "Naypyitaw",
           "offsetgroup": "Naypyitaw",
           "orientation": "v",
           "showlegend": true,
           "textposition": "auto",
           "type": "bar",
           "x": [
            "Naypyitaw",
            "Naypyitaw",
            "Naypyitaw"
           ],
           "xaxis": "x",
           "y": [
            392.6475,
            611.079,
            477.1305
           ],
           "yaxis": "y"
          },
          {
           "alignmentgroup": "True",
           "hovertemplate": "city=%{x}<br>date=01/10/2019<br>total=%{y}<extra></extra>",
           "ids": [
            "B",
            "B",
            "B"
           ],
           "legendgroup": "Mandalay",
           "marker": {
            "color": "#00cc96",
            "pattern": {
             "shape": ""
            }
           },
           "name": "Mandalay",
           "offsetgroup": "Mandalay",
           "orientation": "v",
           "showlegend": true,
           "textposition": "auto",
           "type": "bar",
           "x": [
            "Mandalay",
            "Mandalay",
            "Mandalay"
           ],
           "xaxis": "x",
           "y": [
            703.752,
            586.971,
            57.876
           ],
           "yaxis": "y"
          }
         ],
         "name": "01/10/2019"
        },
        {
         "data": [
          {
           "alignmentgroup": "True",
           "hovertemplate": "city=%{x}<br>date=2/20/2019<br>total=%{y}<extra></extra>",
           "ids": [
            "A",
            "A",
            "A"
           ],
           "legendgroup": "Yangon",
           "marker": {
            "color": "#636efa",
            "pattern": {
             "shape": ""
            }
           },
           "name": "Yangon",
           "offsetgroup": "Yangon",
           "orientation": "v",
           "showlegend": true,
           "textposition": "auto",
           "type": "bar",
           "x": [
            "Yangon",
            "Yangon",
            "Yangon"
           ],
           "xaxis": "x",
           "y": [
            484.5225,
            339.36,
            79.149
           ],
           "yaxis": "y"
          },
          {
           "alignmentgroup": "True",
           "hovertemplate": "city=%{x}<br>date=2/20/2019<br>total=%{y}<extra></extra>",
           "ids": [
            "C"
           ],
           "legendgroup": "Naypyitaw",
           "marker": {
            "color": "#EF553B",
            "pattern": {
             "shape": ""
            }
           },
           "name": "Naypyitaw",
           "offsetgroup": "Naypyitaw",
           "orientation": "v",
           "showlegend": true,
           "textposition": "auto",
           "type": "bar",
           "x": [
            "Naypyitaw"
           ],
           "xaxis": "x",
           "y": [
            90.5835
           ],
           "yaxis": "y"
          },
          {
           "alignmentgroup": "True",
           "hovertemplate": "city=%{x}<br>date=2/20/2019<br>total=%{y}<extra></extra>",
           "ids": [
            "B",
            "B",
            "B",
            "B",
            "B",
            "B"
           ],
           "legendgroup": "Mandalay",
           "marker": {
            "color": "#00cc96",
            "pattern": {
             "shape": ""
            }
           },
           "name": "Mandalay",
           "offsetgroup": "Mandalay",
           "orientation": "v",
           "showlegend": true,
           "textposition": "auto",
           "type": "bar",
           "x": [
            "Mandalay",
            "Mandalay",
            "Mandalay",
            "Mandalay",
            "Mandalay",
            "Mandalay"
           ],
           "xaxis": "x",
           "y": [
            172.746,
            418.95,
            350.07,
            253.26,
            181.881,
            335.895
           ],
           "yaxis": "y"
          }
         ],
         "name": "2/20/2019"
        },
        {
         "data": [
          {
           "alignmentgroup": "True",
           "hovertemplate": "city=%{x}<br>date=02/06/2019<br>total=%{y}<extra></extra>",
           "ids": [
            "A",
            "A"
           ],
           "legendgroup": "Yangon",
           "marker": {
            "color": "#636efa",
            "pattern": {
             "shape": ""
            }
           },
           "name": "Yangon",
           "offsetgroup": "Yangon",
           "orientation": "v",
           "showlegend": true,
           "textposition": "auto",
           "type": "bar",
           "x": [
            "Yangon",
            "Yangon"
           ],
           "xaxis": "x",
           "y": [
            235.872,
            187.32
           ],
           "yaxis": "y"
          },
          {
           "alignmentgroup": "True",
           "hovertemplate": "city=%{x}<br>date=02/06/2019<br>total=%{y}<extra></extra>",
           "ids": [
            "C",
            "C",
            "C",
            "C",
            "C",
            "C"
           ],
           "legendgroup": "Naypyitaw",
           "marker": {
            "color": "#EF553B",
            "pattern": {
             "shape": ""
            }
           },
           "name": "Naypyitaw",
           "offsetgroup": "Naypyitaw",
           "orientation": "v",
           "showlegend": true,
           "textposition": "auto",
           "type": "bar",
           "x": [
            "Naypyitaw",
            "Naypyitaw",
            "Naypyitaw",
            "Naypyitaw",
            "Naypyitaw",
            "Naypyitaw"
           ],
           "xaxis": "x",
           "y": [
            417.564,
            94.2375,
            407.316,
            239.4,
            55.041,
            188.0025
           ],
           "yaxis": "y"
          },
          {
           "alignmentgroup": "True",
           "hovertemplate": "city=%{x}<br>date=02/06/2019<br>total=%{y}<extra></extra>",
           "ids": [
            "B",
            "B",
            "B",
            "B",
            "B"
           ],
           "legendgroup": "Mandalay",
           "marker": {
            "color": "#00cc96",
            "pattern": {
             "shape": ""
            }
           },
           "name": "Mandalay",
           "offsetgroup": "Mandalay",
           "orientation": "v",
           "showlegend": true,
           "textposition": "auto",
           "type": "bar",
           "x": [
            "Mandalay",
            "Mandalay",
            "Mandalay",
            "Mandalay",
            "Mandalay"
           ],
           "xaxis": "x",
           "y": [
            60.816,
            189.0945,
            271.95,
            240.975,
            317.835
           ],
           "yaxis": "y"
          }
         ],
         "name": "02/06/2019"
        },
        {
         "data": [
          {
           "alignmentgroup": "True",
           "hovertemplate": "city=%{x}<br>date=03/09/2019<br>total=%{y}<extra></extra>",
           "ids": [
            "A",
            "A",
            "A",
            "A",
            "A",
            "A"
           ],
           "legendgroup": "Yangon",
           "marker": {
            "color": "#636efa",
            "pattern": {
             "shape": ""
            }
           },
           "name": "Yangon",
           "offsetgroup": "Yangon",
           "orientation": "v",
           "showlegend": true,
           "textposition": "auto",
           "type": "bar",
           "x": [
            "Yangon",
            "Yangon",
            "Yangon",
            "Yangon",
            "Yangon",
            "Yangon"
           ],
           "xaxis": "x",
           "y": [
            545.37,
            523.845,
            548.73,
            217.182,
            127.827,
            817.236
           ],
           "yaxis": "y"
          },
          {
           "alignmentgroup": "True",
           "hovertemplate": "city=%{x}<br>date=03/09/2019<br>total=%{y}<extra></extra>",
           "ids": [
            "C",
            "C",
            "C",
            "C"
           ],
           "legendgroup": "Naypyitaw",
           "marker": {
            "color": "#EF553B",
            "pattern": {
             "shape": ""
            }
           },
           "name": "Naypyitaw",
           "offsetgroup": "Naypyitaw",
           "orientation": "v",
           "showlegend": true,
           "textposition": "auto",
           "type": "bar",
           "x": [
            "Naypyitaw",
            "Naypyitaw",
            "Naypyitaw",
            "Naypyitaw"
           ],
           "xaxis": "x",
           "y": [
            478.233,
            256.7775,
            17.094,
            935.2665
           ],
           "yaxis": "y"
          },
          {
           "alignmentgroup": "True",
           "hovertemplate": "city=%{x}<br>date=03/09/2019<br>total=%{y}<extra></extra>",
           "ids": [
            "B",
            "B",
            "B",
            "B",
            "B",
            "B"
           ],
           "legendgroup": "Mandalay",
           "marker": {
            "color": "#00cc96",
            "pattern": {
             "shape": ""
            }
           },
           "name": "Mandalay",
           "offsetgroup": "Mandalay",
           "orientation": "v",
           "showlegend": true,
           "textposition": "auto",
           "type": "bar",
           "x": [
            "Mandalay",
            "Mandalay",
            "Mandalay",
            "Mandalay",
            "Mandalay",
            "Mandalay"
           ],
           "xaxis": "x",
           "y": [
            107.142,
            394.632,
            944.622,
            474.348,
            702.219,
            383.523
           ],
           "yaxis": "y"
          }
         ],
         "name": "03/09/2019"
        },
        {
         "data": [
          {
           "alignmentgroup": "True",
           "hovertemplate": "city=%{x}<br>date=02/12/2019<br>total=%{y}<extra></extra>",
           "ids": [
            "A",
            "A",
            "A"
           ],
           "legendgroup": "Yangon",
           "marker": {
            "color": "#636efa",
            "pattern": {
             "shape": ""
            }
           },
           "name": "Yangon",
           "offsetgroup": "Yangon",
           "orientation": "v",
           "showlegend": true,
           "textposition": "auto",
           "type": "bar",
           "x": [
            "Yangon",
            "Yangon",
            "Yangon"
           ],
           "xaxis": "x",
           "y": [
            246.4875,
            160.209,
            150.423
           ],
           "yaxis": "y"
          },
          {
           "alignmentgroup": "True",
           "hovertemplate": "city=%{x}<br>date=02/12/2019<br>total=%{y}<extra></extra>",
           "ids": [
            "C",
            "C"
           ],
           "legendgroup": "Naypyitaw",
           "marker": {
            "color": "#EF553B",
            "pattern": {
             "shape": ""
            }
           },
           "name": "Naypyitaw",
           "offsetgroup": "Naypyitaw",
           "orientation": "v",
           "showlegend": true,
           "textposition": "auto",
           "type": "bar",
           "x": [
            "Naypyitaw",
            "Naypyitaw"
           ],
           "xaxis": "x",
           "y": [
            914.55,
            54.9675
           ],
           "yaxis": "y"
          },
          {
           "alignmentgroup": "True",
           "hovertemplate": "city=%{x}<br>date=02/12/2019<br>total=%{y}<extra></extra>",
           "ids": [
            "B",
            "B",
            "B"
           ],
           "legendgroup": "Mandalay",
           "marker": {
            "color": "#00cc96",
            "pattern": {
             "shape": ""
            }
           },
           "name": "Mandalay",
           "offsetgroup": "Mandalay",
           "orientation": "v",
           "showlegend": true,
           "textposition": "auto",
           "type": "bar",
           "x": [
            "Mandalay",
            "Mandalay",
            "Mandalay"
           ],
           "xaxis": "x",
           "y": [
            796.908,
            633.99,
            41.454
           ],
           "yaxis": "y"
          }
         ],
         "name": "02/12/2019"
        },
        {
         "data": [
          {
           "alignmentgroup": "True",
           "hovertemplate": "city=%{x}<br>date=02/07/2019<br>total=%{y}<extra></extra>",
           "ids": [
            "A",
            "A",
            "A",
            "A",
            "A"
           ],
           "legendgroup": "Yangon",
           "marker": {
            "color": "#636efa",
            "pattern": {
             "shape": ""
            }
           },
           "name": "Yangon",
           "offsetgroup": "Yangon",
           "orientation": "v",
           "showlegend": true,
           "textposition": "auto",
           "type": "bar",
           "x": [
            "Yangon",
            "Yangon",
            "Yangon",
            "Yangon",
            "Yangon"
           ],
           "xaxis": "x",
           "y": [
            453.495,
            752.64,
            47.859,
            30.408,
            782.208
           ],
           "yaxis": "y"
          },
          {
           "alignmentgroup": "True",
           "hovertemplate": "city=%{x}<br>date=02/07/2019<br>total=%{y}<extra></extra>",
           "ids": [
            "C",
            "C",
            "C",
            "C",
            "C",
            "C",
            "C",
            "C",
            "C"
           ],
           "legendgroup": "Naypyitaw",
           "marker": {
            "color": "#EF553B",
            "pattern": {
             "shape": ""
            }
           },
           "name": "Naypyitaw",
           "offsetgroup": "Naypyitaw",
           "orientation": "v",
           "showlegend": true,
           "textposition": "auto",
           "type": "bar",
           "x": [
            "Naypyitaw",
            "Naypyitaw",
            "Naypyitaw",
            "Naypyitaw",
            "Naypyitaw",
            "Naypyitaw",
            "Naypyitaw",
            "Naypyitaw",
            "Naypyitaw"
           ],
           "xaxis": "x",
           "y": [
            103.824,
            276.948,
            343.224,
            122.5245,
            273.798,
            618.975,
            507.444,
            10.6785,
            180.873
           ],
           "yaxis": "y"
          },
          {
           "alignmentgroup": "True",
           "hovertemplate": "city=%{x}<br>date=02/07/2019<br>total=%{y}<extra></extra>",
           "ids": [
            "B",
            "B",
            "B",
            "B",
            "B",
            "B"
           ],
           "legendgroup": "Mandalay",
           "marker": {
            "color": "#00cc96",
            "pattern": {
             "shape": ""
            }
           },
           "name": "Mandalay",
           "offsetgroup": "Mandalay",
           "orientation": "v",
           "showlegend": true,
           "textposition": "auto",
           "type": "bar",
           "x": [
            "Mandalay",
            "Mandalay",
            "Mandalay",
            "Mandalay",
            "Mandalay",
            "Mandalay"
           ],
           "xaxis": "x",
           "y": [
            208.089,
            833.595,
            570.78,
            486.444,
            289.926,
            334.4775
           ],
           "yaxis": "y"
          }
         ],
         "name": "02/07/2019"
        },
        {
         "data": [
          {
           "alignmentgroup": "True",
           "hovertemplate": "city=%{x}<br>date=3/29/2019<br>total=%{y}<extra></extra>",
           "ids": [
            "A",
            "A"
           ],
           "legendgroup": "Yangon",
           "marker": {
            "color": "#636efa",
            "pattern": {
             "shape": ""
            }
           },
           "name": "Yangon",
           "offsetgroup": "Yangon",
           "orientation": "v",
           "showlegend": true,
           "textposition": "auto",
           "type": "bar",
           "x": [
            "Yangon",
            "Yangon"
           ],
           "xaxis": "x",
           "y": [
            749.49,
            228.123
           ],
           "yaxis": "y"
          },
          {
           "alignmentgroup": "True",
           "hovertemplate": "city=%{x}<br>date=3/29/2019<br>total=%{y}<extra></extra>",
           "ids": [
            "C",
            "C"
           ],
           "legendgroup": "Naypyitaw",
           "marker": {
            "color": "#EF553B",
            "pattern": {
             "shape": ""
            }
           },
           "name": "Naypyitaw",
           "offsetgroup": "Naypyitaw",
           "orientation": "v",
           "showlegend": true,
           "textposition": "auto",
           "type": "bar",
           "x": [
            "Naypyitaw",
            "Naypyitaw"
           ],
           "xaxis": "x",
           "y": [
            121.128,
            864.57
           ],
           "yaxis": "y"
          },
          {
           "alignmentgroup": "True",
           "hovertemplate": "city=%{x}<br>date=3/29/2019<br>total=%{y}<extra></extra>",
           "ids": [
            "B",
            "B",
            "B",
            "B"
           ],
           "legendgroup": "Mandalay",
           "marker": {
            "color": "#00cc96",
            "pattern": {
             "shape": ""
            }
           },
           "name": "Mandalay",
           "offsetgroup": "Mandalay",
           "orientation": "v",
           "showlegend": true,
           "textposition": "auto",
           "type": "bar",
           "x": [
            "Mandalay",
            "Mandalay",
            "Mandalay",
            "Mandalay"
           ],
           "xaxis": "x",
           "y": [
            922.635,
            321.7725,
            288.015,
            527.5095
           ],
           "yaxis": "y"
          }
         ],
         "name": "3/29/2019"
        },
        {
         "data": [
          {
           "alignmentgroup": "True",
           "hovertemplate": "city=%{x}<br>date=1/15/2019<br>total=%{y}<extra></extra>",
           "ids": [
            "A",
            "A",
            "A",
            "A",
            "A"
           ],
           "legendgroup": "Yangon",
           "marker": {
            "color": "#636efa",
            "pattern": {
             "shape": ""
            }
           },
           "name": "Yangon",
           "offsetgroup": "Yangon",
           "orientation": "v",
           "showlegend": true,
           "textposition": "auto",
           "type": "bar",
           "x": [
            "Yangon",
            "Yangon",
            "Yangon",
            "Yangon",
            "Yangon"
           ],
           "xaxis": "x",
           "y": [
            575.316,
            843.0345,
            140.385,
            175.917,
            72.009
           ],
           "yaxis": "y"
          },
          {
           "alignmentgroup": "True",
           "hovertemplate": "city=%{x}<br>date=1/15/2019<br>total=%{y}<extra></extra>",
           "ids": [
            "C",
            "C",
            "C"
           ],
           "legendgroup": "Naypyitaw",
           "marker": {
            "color": "#EF553B",
            "pattern": {
             "shape": ""
            }
           },
           "name": "Naypyitaw",
           "offsetgroup": "Naypyitaw",
           "orientation": "v",
           "showlegend": true,
           "textposition": "auto",
           "type": "bar",
           "x": [
            "Naypyitaw",
            "Naypyitaw",
            "Naypyitaw"
           ],
           "xaxis": "x",
           "y": [
            91.56,
            597.0405,
            586.635
           ],
           "yaxis": "y"
          },
          {
           "alignmentgroup": "True",
           "hovertemplate": "city=%{x}<br>date=1/15/2019<br>total=%{y}<extra></extra>",
           "ids": [
            "B",
            "B",
            "B",
            "B",
            "B"
           ],
           "legendgroup": "Mandalay",
           "marker": {
            "color": "#00cc96",
            "pattern": {
             "shape": ""
            }
           },
           "name": "Mandalay",
           "offsetgroup": "Mandalay",
           "orientation": "v",
           "showlegend": true,
           "textposition": "auto",
           "type": "bar",
           "x": [
            "Mandalay",
            "Mandalay",
            "Mandalay",
            "Mandalay",
            "Mandalay"
           ],
           "xaxis": "x",
           "y": [
            590.436,
            154.392,
            697.935,
            397.215,
            1022.385
           ],
           "yaxis": "y"
          }
         ],
         "name": "1/15/2019"
        },
        {
         "data": [
          {
           "alignmentgroup": "True",
           "hovertemplate": "city=%{x}<br>date=03/11/2019<br>total=%{y}<extra></extra>",
           "ids": [
            "A",
            "A",
            "A",
            "A",
            "A"
           ],
           "legendgroup": "Yangon",
           "marker": {
            "color": "#636efa",
            "pattern": {
             "shape": ""
            }
           },
           "name": "Yangon",
           "offsetgroup": "Yangon",
           "orientation": "v",
           "showlegend": true,
           "textposition": "auto",
           "type": "bar",
           "x": [
            "Yangon",
            "Yangon",
            "Yangon",
            "Yangon",
            "Yangon"
           ],
           "xaxis": "x",
           "y": [
            506.6355,
            532.728,
            125.517,
            148.68,
            397.614
           ],
           "yaxis": "y"
          },
          {
           "alignmentgroup": "True",
           "hovertemplate": "city=%{x}<br>date=03/11/2019<br>total=%{y}<extra></extra>",
           "ids": [
            "C",
            "C",
            "C"
           ],
           "legendgroup": "Naypyitaw",
           "marker": {
            "color": "#EF553B",
            "pattern": {
             "shape": ""
            }
           },
           "name": "Naypyitaw",
           "offsetgroup": "Naypyitaw",
           "orientation": "v",
           "showlegend": true,
           "textposition": "auto",
           "type": "bar",
           "x": [
            "Naypyitaw",
            "Naypyitaw",
            "Naypyitaw"
           ],
           "xaxis": "x",
           "y": [
            254.016,
            218.0745,
            294.651
           ],
           "yaxis": "y"
          },
          {
           "alignmentgroup": "True",
           "hovertemplate": "city=%{x}<br>date=03/11/2019<br>total=%{y}<extra></extra>",
           "ids": [
            "B",
            "B",
            "B"
           ],
           "legendgroup": "Mandalay",
           "marker": {
            "color": "#00cc96",
            "pattern": {
             "shape": ""
            }
           },
           "name": "Mandalay",
           "offsetgroup": "Mandalay",
           "orientation": "v",
           "showlegend": true,
           "textposition": "auto",
           "type": "bar",
           "x": [
            "Mandalay",
            "Mandalay",
            "Mandalay"
           ],
           "xaxis": "x",
           "y": [
            84.63,
            217.6335,
            181.0725
           ],
           "yaxis": "y"
          }
         ],
         "name": "03/11/2019"
        },
        {
         "data": [
          {
           "alignmentgroup": "True",
           "hovertemplate": "city=%{x}<br>date=01/01/2019<br>total=%{y}<extra></extra>",
           "ids": [
            "A",
            "A",
            "A",
            "A",
            "A"
           ],
           "legendgroup": "Yangon",
           "marker": {
            "color": "#636efa",
            "pattern": {
             "shape": ""
            }
           },
           "name": "Yangon",
           "offsetgroup": "Yangon",
           "orientation": "v",
           "showlegend": true,
           "textposition": "auto",
           "type": "bar",
           "x": [
            "Yangon",
            "Yangon",
            "Yangon",
            "Yangon",
            "Yangon"
           ],
           "xaxis": "x",
           "y": [
            457.443,
            399.756,
            621.243,
            113.568,
            779.31
           ],
           "yaxis": "y"
          },
          {
           "alignmentgroup": "True",
           "hovertemplate": "city=%{x}<br>date=01/01/2019<br>total=%{y}<extra></extra>",
           "ids": [
            "C",
            "C",
            "C",
            "C"
           ],
           "legendgroup": "Naypyitaw",
           "marker": {
            "color": "#EF553B",
            "pattern": {
             "shape": ""
            }
           },
           "name": "Naypyitaw",
           "offsetgroup": "Naypyitaw",
           "orientation": "v",
           "showlegend": true,
           "textposition": "auto",
           "type": "bar",
           "x": [
            "Naypyitaw",
            "Naypyitaw",
            "Naypyitaw",
            "Naypyitaw"
           ],
           "xaxis": "x",
           "y": [
            388.29,
            132.762,
            132.027,
            184.086
           ],
           "yaxis": "y"
          },
          {
           "alignmentgroup": "True",
           "hovertemplate": "city=%{x}<br>date=01/01/2019<br>total=%{y}<extra></extra>",
           "ids": [
            "B",
            "B",
            "B"
           ],
           "legendgroup": "Mandalay",
           "marker": {
            "color": "#00cc96",
            "pattern": {
             "shape": ""
            }
           },
           "name": "Mandalay",
           "offsetgroup": "Mandalay",
           "orientation": "v",
           "showlegend": true,
           "textposition": "auto",
           "type": "bar",
           "x": [
            "Mandalay",
            "Mandalay",
            "Mandalay"
           ],
           "xaxis": "x",
           "y": [
            470.673,
            177.408,
            888.615
           ],
           "yaxis": "y"
          }
         ],
         "name": "01/01/2019"
        },
        {
         "data": [
          {
           "alignmentgroup": "True",
           "hovertemplate": "city=%{x}<br>date=1/21/2019<br>total=%{y}<extra></extra>",
           "ids": [
            "A",
            "A",
            "A",
            "A",
            "A"
           ],
           "legendgroup": "Yangon",
           "marker": {
            "color": "#636efa",
            "pattern": {
             "shape": ""
            }
           },
           "name": "Yangon",
           "offsetgroup": "Yangon",
           "orientation": "v",
           "showlegend": true,
           "textposition": "auto",
           "type": "bar",
           "x": [
            "Yangon",
            "Yangon",
            "Yangon",
            "Yangon",
            "Yangon"
           ],
           "xaxis": "x",
           "y": [
            172.2105,
            491.085,
            76.356,
            461.286,
            390.7995
           ],
           "yaxis": "y"
          },
          {
           "alignmentgroup": "True",
           "hovertemplate": "city=%{x}<br>date=1/21/2019<br>total=%{y}<extra></extra>",
           "ids": [
            "C",
            "C"
           ],
           "legendgroup": "Naypyitaw",
           "marker": {
            "color": "#EF553B",
            "pattern": {
             "shape": ""
            }
           },
           "name": "Naypyitaw",
           "offsetgroup": "Naypyitaw",
           "orientation": "v",
           "showlegend": true,
           "textposition": "auto",
           "type": "bar",
           "x": [
            "Naypyitaw",
            "Naypyitaw"
           ],
           "xaxis": "x",
           "y": [
            624.897,
            72.429
           ],
           "yaxis": "y"
          },
          {
           "alignmentgroup": "True",
           "hovertemplate": "city=%{x}<br>date=1/21/2019<br>total=%{y}<extra></extra>",
           "ids": [
            "B"
           ],
           "legendgroup": "Mandalay",
           "marker": {
            "color": "#00cc96",
            "pattern": {
             "shape": ""
            }
           },
           "name": "Mandalay",
           "offsetgroup": "Mandalay",
           "orientation": "v",
           "showlegend": true,
           "textposition": "auto",
           "type": "bar",
           "x": [
            "Mandalay"
           ],
           "xaxis": "x",
           "y": [
            103.0365
           ],
           "yaxis": "y"
          }
         ],
         "name": "1/21/2019"
        },
        {
         "data": [
          {
           "alignmentgroup": "True",
           "hovertemplate": "city=%{x}<br>date=03/05/2019<br>total=%{y}<extra></extra>",
           "ids": [
            "A",
            "A"
           ],
           "legendgroup": "Yangon",
           "marker": {
            "color": "#636efa",
            "pattern": {
             "shape": ""
            }
           },
           "name": "Yangon",
           "offsetgroup": "Yangon",
           "orientation": "v",
           "showlegend": true,
           "textposition": "auto",
           "type": "bar",
           "x": [
            "Yangon",
            "Yangon"
           ],
           "xaxis": "x",
           "y": [
            172.011,
            246.6765
           ],
           "yaxis": "y"
          },
          {
           "alignmentgroup": "True",
           "hovertemplate": "city=%{x}<br>date=03/05/2019<br>total=%{y}<extra></extra>",
           "ids": [
            "C",
            "C",
            "C",
            "C",
            "C"
           ],
           "legendgroup": "Naypyitaw",
           "marker": {
            "color": "#EF553B",
            "pattern": {
             "shape": ""
            }
           },
           "name": "Naypyitaw",
           "offsetgroup": "Naypyitaw",
           "orientation": "v",
           "showlegend": true,
           "textposition": "auto",
           "type": "bar",
           "x": [
            "Naypyitaw",
            "Naypyitaw",
            "Naypyitaw",
            "Naypyitaw",
            "Naypyitaw"
           ],
           "xaxis": "x",
           "y": [
            822.255,
            610.491,
            232.155,
            127.26,
            480.0285
           ],
           "yaxis": "y"
          },
          {
           "alignmentgroup": "True",
           "hovertemplate": "city=%{x}<br>date=03/05/2019<br>total=%{y}<extra></extra>",
           "ids": [
            "B",
            "B",
            "B",
            "B",
            "B",
            "B",
            "B",
            "B",
            "B",
            "B"
           ],
           "legendgroup": "Mandalay",
           "marker": {
            "color": "#00cc96",
            "pattern": {
             "shape": ""
            }
           },
           "name": "Mandalay",
           "offsetgroup": "Mandalay",
           "orientation": "v",
           "showlegend": true,
           "textposition": "auto",
           "type": "bar",
           "x": [
            "Mandalay",
            "Mandalay",
            "Mandalay",
            "Mandalay",
            "Mandalay",
            "Mandalay",
            "Mandalay",
            "Mandalay",
            "Mandalay",
            "Mandalay"
           ],
           "xaxis": "x",
           "y": [
            277.137,
            152.838,
            521.01,
            115.185,
            56.952,
            411.3795,
            258.678,
            212.688,
            732.27,
            801.864
           ],
           "yaxis": "y"
          }
         ],
         "name": "03/05/2019"
        },
        {
         "data": [
          {
           "alignmentgroup": "True",
           "hovertemplate": "city=%{x}<br>date=3/15/2019<br>total=%{y}<extra></extra>",
           "ids": [
            "A",
            "A",
            "A"
           ],
           "legendgroup": "Yangon",
           "marker": {
            "color": "#636efa",
            "pattern": {
             "shape": ""
            }
           },
           "name": "Yangon",
           "offsetgroup": "Yangon",
           "orientation": "v",
           "showlegend": true,
           "textposition": "auto",
           "type": "bar",
           "x": [
            "Yangon",
            "Yangon",
            "Yangon"
           ],
           "xaxis": "x",
           "y": [
            235.2105,
            202.818,
            206.43
           ],
           "yaxis": "y"
          },
          {
           "alignmentgroup": "True",
           "hovertemplate": "city=%{x}<br>date=3/15/2019<br>total=%{y}<extra></extra>",
           "ids": [
            "C"
           ],
           "legendgroup": "Naypyitaw",
           "marker": {
            "color": "#EF553B",
            "pattern": {
             "shape": ""
            }
           },
           "name": "Naypyitaw",
           "offsetgroup": "Naypyitaw",
           "orientation": "v",
           "showlegend": true,
           "textposition": "auto",
           "type": "bar",
           "x": [
            "Naypyitaw"
           ],
           "xaxis": "x",
           "y": [
            548.184
           ],
           "yaxis": "y"
          },
          {
           "alignmentgroup": "True",
           "hovertemplate": "city=%{x}<br>date=3/15/2019<br>total=%{y}<extra></extra>",
           "ids": [
            "B",
            "B",
            "B",
            "B",
            "B",
            "B",
            "B",
            "B"
           ],
           "legendgroup": "Mandalay",
           "marker": {
            "color": "#00cc96",
            "pattern": {
             "shape": ""
            }
           },
           "name": "Mandalay",
           "offsetgroup": "Mandalay",
           "orientation": "v",
           "showlegend": true,
           "textposition": "auto",
           "type": "bar",
           "x": [
            "Mandalay",
            "Mandalay",
            "Mandalay",
            "Mandalay",
            "Mandalay",
            "Mandalay",
            "Mandalay",
            "Mandalay"
           ],
           "xaxis": "x",
           "y": [
            69.72,
            241.458,
            128.4255,
            304.92,
            57.078,
            97.419,
            90.3,
            760.452
           ],
           "yaxis": "y"
          }
         ],
         "name": "3/15/2019"
        },
        {
         "data": [
          {
           "alignmentgroup": "True",
           "hovertemplate": "city=%{x}<br>date=2/17/2019<br>total=%{y}<extra></extra>",
           "ids": [
            "A",
            "A",
            "A",
            "A",
            "A",
            "A",
            "A"
           ],
           "legendgroup": "Yangon",
           "marker": {
            "color": "#636efa",
            "pattern": {
             "shape": ""
            }
           },
           "name": "Yangon",
           "offsetgroup": "Yangon",
           "orientation": "v",
           "showlegend": true,
           "textposition": "auto",
           "type": "bar",
           "x": [
            "Yangon",
            "Yangon",
            "Yangon",
            "Yangon",
            "Yangon",
            "Yangon",
            "Yangon"
           ],
           "xaxis": "x",
           "y": [
            181.44,
            745.836,
            103.635,
            680.064,
            926.9505,
            142.947,
            290.0835
           ],
           "yaxis": "y"
          },
          {
           "alignmentgroup": "True",
           "hovertemplate": "city=%{x}<br>date=2/17/2019<br>total=%{y}<extra></extra>",
           "ids": [
            "C",
            "C",
            "C",
            "C"
           ],
           "legendgroup": "Naypyitaw",
           "marker": {
            "color": "#EF553B",
            "pattern": {
             "shape": ""
            }
           },
           "name": "Naypyitaw",
           "offsetgroup": "Naypyitaw",
           "orientation": "v",
           "showlegend": true,
           "textposition": "auto",
           "type": "bar",
           "x": [
            "Naypyitaw",
            "Naypyitaw",
            "Naypyitaw",
            "Naypyitaw"
           ],
           "xaxis": "x",
           "y": [
            374.7975,
            62.0025,
            440.937,
            499.7265
           ],
           "yaxis": "y"
          },
          {
           "alignmentgroup": "True",
           "hovertemplate": "city=%{x}<br>date=2/17/2019<br>total=%{y}<extra></extra>",
           "ids": [
            "B",
            "B"
           ],
           "legendgroup": "Mandalay",
           "marker": {
            "color": "#00cc96",
            "pattern": {
             "shape": ""
            }
           },
           "name": "Mandalay",
           "offsetgroup": "Mandalay",
           "orientation": "v",
           "showlegend": true,
           "textposition": "auto",
           "type": "bar",
           "x": [
            "Mandalay",
            "Mandalay"
           ],
           "xaxis": "x",
           "y": [
            550.935,
            300.216
           ],
           "yaxis": "y"
          }
         ],
         "name": "2/17/2019"
        },
        {
         "data": [
          {
           "alignmentgroup": "True",
           "hovertemplate": "city=%{x}<br>date=03/02/2019<br>total=%{y}<extra></extra>",
           "ids": [
            "A",
            "A",
            "A"
           ],
           "legendgroup": "Yangon",
           "marker": {
            "color": "#636efa",
            "pattern": {
             "shape": ""
            }
           },
           "name": "Yangon",
           "offsetgroup": "Yangon",
           "orientation": "v",
           "showlegend": true,
           "textposition": "auto",
           "type": "bar",
           "x": [
            "Yangon",
            "Yangon",
            "Yangon"
           ],
           "xaxis": "x",
           "y": [
            279.1845,
            82.887,
            279.384
           ],
           "yaxis": "y"
          },
          {
           "alignmentgroup": "True",
           "hovertemplate": "city=%{x}<br>date=03/02/2019<br>total=%{y}<extra></extra>",
           "ids": [
            "C",
            "C",
            "C",
            "C",
            "C",
            "C"
           ],
           "legendgroup": "Naypyitaw",
           "marker": {
            "color": "#EF553B",
            "pattern": {
             "shape": ""
            }
           },
           "name": "Naypyitaw",
           "offsetgroup": "Naypyitaw",
           "orientation": "v",
           "showlegend": true,
           "textposition": "auto",
           "type": "bar",
           "x": [
            "Naypyitaw",
            "Naypyitaw",
            "Naypyitaw",
            "Naypyitaw",
            "Naypyitaw",
            "Naypyitaw"
           ],
           "xaxis": "x",
           "y": [
            85.113,
            30.219,
            572.775,
            543.753,
            485.5725,
            629.16
           ],
           "yaxis": "y"
          },
          {
           "alignmentgroup": "True",
           "hovertemplate": "city=%{x}<br>date=03/02/2019<br>total=%{y}<extra></extra>",
           "ids": [
            "B",
            "B",
            "B",
            "B",
            "B",
            "B",
            "B",
            "B",
            "B"
           ],
           "legendgroup": "Mandalay",
           "marker": {
            "color": "#00cc96",
            "pattern": {
             "shape": ""
            }
           },
           "name": "Mandalay",
           "offsetgroup": "Mandalay",
           "orientation": "v",
           "showlegend": true,
           "textposition": "auto",
           "type": "bar",
           "x": [
            "Mandalay",
            "Mandalay",
            "Mandalay",
            "Mandalay",
            "Mandalay",
            "Mandalay",
            "Mandalay",
            "Mandalay",
            "Mandalay"
           ],
           "xaxis": "x",
           "y": [
            942.4485,
            69.405,
            255.15,
            231.2415,
            835.2855,
            82.719,
            53.151,
            80.367,
            1022.49
           ],
           "yaxis": "y"
          }
         ],
         "name": "03/02/2019"
        },
        {
         "data": [
          {
           "alignmentgroup": "True",
           "hovertemplate": "city=%{x}<br>date=3/22/2019<br>total=%{y}<extra></extra>",
           "ids": [
            "A",
            "A",
            "A",
            "A",
            "A",
            "A",
            "A"
           ],
           "legendgroup": "Yangon",
           "marker": {
            "color": "#636efa",
            "pattern": {
             "shape": ""
            }
           },
           "name": "Yangon",
           "offsetgroup": "Yangon",
           "orientation": "v",
           "showlegend": true,
           "textposition": "auto",
           "type": "bar",
           "x": [
            "Yangon",
            "Yangon",
            "Yangon",
            "Yangon",
            "Yangon",
            "Yangon",
            "Yangon"
           ],
           "xaxis": "x",
           "y": [
            441.756,
            391.419,
            19.194,
            427.812,
            451.0275,
            99.9075,
            296.94
           ],
           "yaxis": "y"
          },
          {
           "alignmentgroup": "True",
           "hovertemplate": "city=%{x}<br>date=3/22/2019<br>total=%{y}<extra></extra>",
           "ids": [
            "B",
            "B",
            "B"
           ],
           "legendgroup": "Mandalay",
           "marker": {
            "color": "#00cc96",
            "pattern": {
             "shape": ""
            }
           },
           "name": "Mandalay",
           "offsetgroup": "Mandalay",
           "orientation": "v",
           "showlegend": true,
           "textposition": "auto",
           "type": "bar",
           "x": [
            "Mandalay",
            "Mandalay",
            "Mandalay"
           ],
           "xaxis": "x",
           "y": [
            75.054,
            742.812,
            233.226
           ],
           "yaxis": "y"
          }
         ],
         "name": "3/22/2019"
        },
        {
         "data": [
          {
           "alignmentgroup": "True",
           "hovertemplate": "city=%{x}<br>date=03/10/2019<br>total=%{y}<extra></extra>",
           "ids": [
            "A",
            "A",
            "A",
            "A",
            "A",
            "A"
           ],
           "legendgroup": "Yangon",
           "marker": {
            "color": "#636efa",
            "pattern": {
             "shape": ""
            }
           },
           "name": "Yangon",
           "offsetgroup": "Yangon",
           "orientation": "v",
           "showlegend": true,
           "textposition": "auto",
           "type": "bar",
           "x": [
            "Yangon",
            "Yangon",
            "Yangon",
            "Yangon",
            "Yangon",
            "Yangon"
           ],
           "xaxis": "x",
           "y": [
            184.107,
            328.755,
            688.6215,
            81.396,
            74.4555,
            121.863
           ],
           "yaxis": "y"
          },
          {
           "alignmentgroup": "True",
           "hovertemplate": "city=%{x}<br>date=03/10/2019<br>total=%{y}<extra></extra>",
           "ids": [
            "C",
            "C",
            "C"
           ],
           "legendgroup": "Naypyitaw",
           "marker": {
            "color": "#EF553B",
            "pattern": {
             "shape": ""
            }
           },
           "name": "Naypyitaw",
           "offsetgroup": "Naypyitaw",
           "orientation": "v",
           "showlegend": true,
           "textposition": "auto",
           "type": "bar",
           "x": [
            "Naypyitaw",
            "Naypyitaw",
            "Naypyitaw"
           ],
           "xaxis": "x",
           "y": [
            144.081,
            860.475,
            338.2155
           ],
           "yaxis": "y"
          },
          {
           "alignmentgroup": "True",
           "hovertemplate": "city=%{x}<br>date=03/10/2019<br>total=%{y}<extra></extra>",
           "ids": [
            "B",
            "B",
            "B"
           ],
           "legendgroup": "Mandalay",
           "marker": {
            "color": "#00cc96",
            "pattern": {
             "shape": ""
            }
           },
           "name": "Mandalay",
           "offsetgroup": "Mandalay",
           "orientation": "v",
           "showlegend": true,
           "textposition": "auto",
           "type": "bar",
           "x": [
            "Mandalay",
            "Mandalay",
            "Mandalay"
           ],
           "xaxis": "x",
           "y": [
            180.621,
            133.917,
            26.7225
           ],
           "yaxis": "y"
          }
         ],
         "name": "03/10/2019"
        },
        {
         "data": [
          {
           "alignmentgroup": "True",
           "hovertemplate": "city=%{x}<br>date=1/25/2019<br>total=%{y}<extra></extra>",
           "ids": [
            "A",
            "A",
            "A",
            "A",
            "A"
           ],
           "legendgroup": "Yangon",
           "marker": {
            "color": "#636efa",
            "pattern": {
             "shape": ""
            }
           },
           "name": "Yangon",
           "offsetgroup": "Yangon",
           "orientation": "v",
           "showlegend": true,
           "textposition": "auto",
           "type": "bar",
           "x": [
            "Yangon",
            "Yangon",
            "Yangon",
            "Yangon",
            "Yangon"
           ],
           "xaxis": "x",
           "y": [
            247.8735,
            252.042,
            168.21,
            167.895,
            77.805
           ],
           "yaxis": "y"
          },
          {
           "alignmentgroup": "True",
           "hovertemplate": "city=%{x}<br>date=1/25/2019<br>total=%{y}<extra></extra>",
           "ids": [
            "C",
            "C",
            "C",
            "C",
            "C"
           ],
           "legendgroup": "Naypyitaw",
           "marker": {
            "color": "#EF553B",
            "pattern": {
             "shape": ""
            }
           },
           "name": "Naypyitaw",
           "offsetgroup": "Naypyitaw",
           "orientation": "v",
           "showlegend": true,
           "textposition": "auto",
           "type": "bar",
           "x": [
            "Naypyitaw",
            "Naypyitaw",
            "Naypyitaw",
            "Naypyitaw",
            "Naypyitaw"
           ],
           "xaxis": "x",
           "y": [
            16.2015,
            950.25,
            288.204,
            663.2955,
            267.3405
           ],
           "yaxis": "y"
          },
          {
           "alignmentgroup": "True",
           "hovertemplate": "city=%{x}<br>date=1/25/2019<br>total=%{y}<extra></extra>",
           "ids": [
            "B",
            "B",
            "B",
            "B",
            "B",
            "B",
            "B"
           ],
           "legendgroup": "Mandalay",
           "marker": {
            "color": "#00cc96",
            "pattern": {
             "shape": ""
            }
           },
           "name": "Mandalay",
           "offsetgroup": "Mandalay",
           "orientation": "v",
           "showlegend": true,
           "textposition": "auto",
           "type": "bar",
           "x": [
            "Mandalay",
            "Mandalay",
            "Mandalay",
            "Mandalay",
            "Mandalay",
            "Mandalay",
            "Mandalay"
           ],
           "xaxis": "x",
           "y": [
            463.89,
            291.207,
            356.5485,
            214.746,
            128.016,
            45.927,
            100.9155
           ],
           "yaxis": "y"
          }
         ],
         "name": "1/25/2019"
        },
        {
         "data": [
          {
           "alignmentgroup": "True",
           "hovertemplate": "city=%{x}<br>date=1/28/2019<br>total=%{y}<extra></extra>",
           "ids": [
            "A",
            "A"
           ],
           "legendgroup": "Yangon",
           "marker": {
            "color": "#636efa",
            "pattern": {
             "shape": ""
            }
           },
           "name": "Yangon",
           "offsetgroup": "Yangon",
           "orientation": "v",
           "showlegend": true,
           "textposition": "auto",
           "type": "bar",
           "x": [
            "Yangon",
            "Yangon"
           ],
           "xaxis": "x",
           "y": [
            203.112,
            84.7455
           ],
           "yaxis": "y"
          },
          {
           "alignmentgroup": "True",
           "hovertemplate": "city=%{x}<br>date=1/28/2019<br>total=%{y}<extra></extra>",
           "ids": [
            "C",
            "C",
            "C",
            "C",
            "C",
            "C"
           ],
           "legendgroup": "Naypyitaw",
           "marker": {
            "color": "#EF553B",
            "pattern": {
             "shape": ""
            }
           },
           "name": "Naypyitaw",
           "offsetgroup": "Naypyitaw",
           "orientation": "v",
           "showlegend": true,
           "textposition": "auto",
           "type": "bar",
           "x": [
            "Naypyitaw",
            "Naypyitaw",
            "Naypyitaw",
            "Naypyitaw",
            "Naypyitaw",
            "Naypyitaw"
           ],
           "xaxis": "x",
           "y": [
            680.148,
            273.42,
            293.202,
            91.4025,
            125.055,
            118.251
           ],
           "yaxis": "y"
          },
          {
           "alignmentgroup": "True",
           "hovertemplate": "city=%{x}<br>date=1/28/2019<br>total=%{y}<extra></extra>",
           "ids": [
            "B",
            "B",
            "B",
            "B",
            "B",
            "B"
           ],
           "legendgroup": "Mandalay",
           "marker": {
            "color": "#00cc96",
            "pattern": {
             "shape": ""
            }
           },
           "name": "Mandalay",
           "offsetgroup": "Mandalay",
           "orientation": "v",
           "showlegend": true,
           "textposition": "auto",
           "type": "bar",
           "x": [
            "Mandalay",
            "Mandalay",
            "Mandalay",
            "Mandalay",
            "Mandalay",
            "Mandalay"
           ],
           "xaxis": "x",
           "y": [
            737.7615,
            20.1075,
            681.4395,
            225.015,
            832.944,
            633.108
           ],
           "yaxis": "y"
          }
         ],
         "name": "1/28/2019"
        },
        {
         "data": [
          {
           "alignmentgroup": "True",
           "hovertemplate": "city=%{x}<br>date=01/07/2019<br>total=%{y}<extra></extra>",
           "ids": [
            "A",
            "A",
            "A"
           ],
           "legendgroup": "Yangon",
           "marker": {
            "color": "#636efa",
            "pattern": {
             "shape": ""
            }
           },
           "name": "Yangon",
           "offsetgroup": "Yangon",
           "orientation": "v",
           "showlegend": true,
           "textposition": "auto",
           "type": "bar",
           "x": [
            "Yangon",
            "Yangon",
            "Yangon"
           ],
           "xaxis": "x",
           "y": [
            326.424,
            203.553,
            575.9775
           ],
           "yaxis": "y"
          },
          {
           "alignmentgroup": "True",
           "hovertemplate": "city=%{x}<br>date=01/07/2019<br>total=%{y}<extra></extra>",
           "ids": [
            "C",
            "C",
            "C"
           ],
           "legendgroup": "Naypyitaw",
           "marker": {
            "color": "#EF553B",
            "pattern": {
             "shape": ""
            }
           },
           "name": "Naypyitaw",
           "offsetgroup": "Naypyitaw",
           "orientation": "v",
           "showlegend": true,
           "textposition": "auto",
           "type": "bar",
           "x": [
            "Naypyitaw",
            "Naypyitaw",
            "Naypyitaw"
           ],
           "xaxis": "x",
           "y": [
            71.526,
            229.11,
            85.743
           ],
           "yaxis": "y"
          },
          {
           "alignmentgroup": "True",
           "hovertemplate": "city=%{x}<br>date=01/07/2019<br>total=%{y}<extra></extra>",
           "ids": [
            "B",
            "B",
            "B"
           ],
           "legendgroup": "Mandalay",
           "marker": {
            "color": "#00cc96",
            "pattern": {
             "shape": ""
            }
           },
           "name": "Mandalay",
           "offsetgroup": "Mandalay",
           "orientation": "v",
           "showlegend": true,
           "textposition": "auto",
           "type": "bar",
           "x": [
            "Mandalay",
            "Mandalay",
            "Mandalay"
           ],
           "xaxis": "x",
           "y": [
            614.943,
            352.5795,
            374.388
           ],
           "yaxis": "y"
          }
         ],
         "name": "01/07/2019"
        },
        {
         "data": [
          {
           "alignmentgroup": "True",
           "hovertemplate": "city=%{x}<br>date=3/23/2019<br>total=%{y}<extra></extra>",
           "ids": [
            "A",
            "A",
            "A",
            "A",
            "A",
            "A"
           ],
           "legendgroup": "Yangon",
           "marker": {
            "color": "#636efa",
            "pattern": {
             "shape": ""
            }
           },
           "name": "Yangon",
           "offsetgroup": "Yangon",
           "orientation": "v",
           "showlegend": true,
           "textposition": "auto",
           "type": "bar",
           "x": [
            "Yangon",
            "Yangon",
            "Yangon",
            "Yangon",
            "Yangon",
            "Yangon"
           ],
           "xaxis": "x",
           "y": [
            166.1625,
            465.444,
            162.75,
            26.5545,
            156.03,
            771.435
           ],
           "yaxis": "y"
          },
          {
           "alignmentgroup": "True",
           "hovertemplate": "city=%{x}<br>date=3/23/2019<br>total=%{y}<extra></extra>",
           "ids": [
            "C",
            "C",
            "C",
            "C"
           ],
           "legendgroup": "Naypyitaw",
           "marker": {
            "color": "#EF553B",
            "pattern": {
             "shape": ""
            }
           },
           "name": "Naypyitaw",
           "offsetgroup": "Naypyitaw",
           "orientation": "v",
           "showlegend": true,
           "textposition": "auto",
           "type": "bar",
           "x": [
            "Naypyitaw",
            "Naypyitaw",
            "Naypyitaw",
            "Naypyitaw"
           ],
           "xaxis": "x",
           "y": [
            461.328,
            596.82,
            408.7335,
            495.3165
           ],
           "yaxis": "y"
          },
          {
           "alignmentgroup": "True",
           "hovertemplate": "city=%{x}<br>date=3/23/2019<br>total=%{y}<extra></extra>",
           "ids": [
            "B"
           ],
           "legendgroup": "Mandalay",
           "marker": {
            "color": "#00cc96",
            "pattern": {
             "shape": ""
            }
           },
           "name": "Mandalay",
           "offsetgroup": "Mandalay",
           "orientation": "v",
           "showlegend": true,
           "textposition": "auto",
           "type": "bar",
           "x": [
            "Mandalay"
           ],
           "xaxis": "x",
           "y": [
            384.468
           ],
           "yaxis": "y"
          }
         ],
         "name": "3/23/2019"
        },
        {
         "data": [
          {
           "alignmentgroup": "True",
           "hovertemplate": "city=%{x}<br>date=1/17/2019<br>total=%{y}<extra></extra>",
           "ids": [
            "A",
            "A",
            "A",
            "A"
           ],
           "legendgroup": "Yangon",
           "marker": {
            "color": "#636efa",
            "pattern": {
             "shape": ""
            }
           },
           "name": "Yangon",
           "offsetgroup": "Yangon",
           "orientation": "v",
           "showlegend": true,
           "textposition": "auto",
           "type": "bar",
           "x": [
            "Yangon",
            "Yangon",
            "Yangon",
            "Yangon"
           ],
           "xaxis": "x",
           "y": [
            135.576,
            852.705,
            80.955,
            432.9885
           ],
           "yaxis": "y"
          },
          {
           "alignmentgroup": "True",
           "hovertemplate": "city=%{x}<br>date=1/17/2019<br>total=%{y}<extra></extra>",
           "ids": [
            "C",
            "C",
            "C"
           ],
           "legendgroup": "Naypyitaw",
           "marker": {
            "color": "#EF553B",
            "pattern": {
             "shape": ""
            }
           },
           "name": "Naypyitaw",
           "offsetgroup": "Naypyitaw",
           "orientation": "v",
           "showlegend": true,
           "textposition": "auto",
           "type": "bar",
           "x": [
            "Naypyitaw",
            "Naypyitaw",
            "Naypyitaw"
           ],
           "xaxis": "x",
           "y": [
            377.58,
            137.865,
            131.922
           ],
           "yaxis": "y"
          },
          {
           "alignmentgroup": "True",
           "hovertemplate": "city=%{x}<br>date=1/17/2019<br>total=%{y}<extra></extra>",
           "ids": [
            "B",
            "B",
            "B",
            "B"
           ],
           "legendgroup": "Mandalay",
           "marker": {
            "color": "#00cc96",
            "pattern": {
             "shape": ""
            }
           },
           "name": "Mandalay",
           "offsetgroup": "Mandalay",
           "orientation": "v",
           "showlegend": true,
           "textposition": "auto",
           "type": "bar",
           "x": [
            "Mandalay",
            "Mandalay",
            "Mandalay",
            "Mandalay"
           ],
           "xaxis": "x",
           "y": [
            91.056,
            121.569,
            695.2365,
            85.302
           ],
           "yaxis": "y"
          }
         ],
         "name": "1/17/2019"
        },
        {
         "data": [
          {
           "alignmentgroup": "True",
           "hovertemplate": "city=%{x}<br>date=02/02/2019<br>total=%{y}<extra></extra>",
           "ids": [
            "A",
            "A",
            "A",
            "A"
           ],
           "legendgroup": "Yangon",
           "marker": {
            "color": "#636efa",
            "pattern": {
             "shape": ""
            }
           },
           "name": "Yangon",
           "offsetgroup": "Yangon",
           "orientation": "v",
           "showlegend": true,
           "textposition": "auto",
           "type": "bar",
           "x": [
            "Yangon",
            "Yangon",
            "Yangon",
            "Yangon"
           ],
           "xaxis": "x",
           "y": [
            19.2465,
            115.08,
            452.865,
            432.768
           ],
           "yaxis": "y"
          },
          {
           "alignmentgroup": "True",
           "hovertemplate": "city=%{x}<br>date=02/02/2019<br>total=%{y}<extra></extra>",
           "ids": [
            "C",
            "C",
            "C",
            "C",
            "C",
            "C"
           ],
           "legendgroup": "Naypyitaw",
           "marker": {
            "color": "#EF553B",
            "pattern": {
             "shape": ""
            }
           },
           "name": "Naypyitaw",
           "offsetgroup": "Naypyitaw",
           "orientation": "v",
           "showlegend": true,
           "textposition": "auto",
           "type": "bar",
           "x": [
            "Naypyitaw",
            "Naypyitaw",
            "Naypyitaw",
            "Naypyitaw",
            "Naypyitaw",
            "Naypyitaw"
           ],
           "xaxis": "x",
           "y": [
            117.831,
            400.764,
            554.148,
            40.341,
            223.587,
            175.035
           ],
           "yaxis": "y"
          },
          {
           "alignmentgroup": "True",
           "hovertemplate": "city=%{x}<br>date=02/02/2019<br>total=%{y}<extra></extra>",
           "ids": [
            "B",
            "B",
            "B",
            "B"
           ],
           "legendgroup": "Mandalay",
           "marker": {
            "color": "#00cc96",
            "pattern": {
             "shape": ""
            }
           },
           "name": "Mandalay",
           "offsetgroup": "Mandalay",
           "orientation": "v",
           "showlegend": true,
           "textposition": "auto",
           "type": "bar",
           "x": [
            "Mandalay",
            "Mandalay",
            "Mandalay",
            "Mandalay"
           ],
           "xaxis": "x",
           "y": [
            788.508,
            439.8975,
            193.011,
            187.866
           ],
           "yaxis": "y"
          }
         ],
         "name": "02/02/2019"
        },
        {
         "data": [
          {
           "alignmentgroup": "True",
           "hovertemplate": "city=%{x}<br>date=03/04/2019<br>total=%{y}<extra></extra>",
           "ids": [
            "A",
            "A",
            "A",
            "A",
            "A",
            "A",
            "A",
            "A",
            "A"
           ],
           "legendgroup": "Yangon",
           "marker": {
            "color": "#636efa",
            "pattern": {
             "shape": ""
            }
           },
           "name": "Yangon",
           "offsetgroup": "Yangon",
           "orientation": "v",
           "showlegend": true,
           "textposition": "auto",
           "type": "bar",
           "x": [
            "Yangon",
            "Yangon",
            "Yangon",
            "Yangon",
            "Yangon",
            "Yangon",
            "Yangon",
            "Yangon",
            "Yangon"
           ],
           "xaxis": "x",
           "y": [
            90.699,
            628.929,
            237.426,
            76.755,
            510.615,
            462.672,
            216.4365,
            314.685,
            313.572
           ],
           "yaxis": "y"
          },
          {
           "alignmentgroup": "True",
           "hovertemplate": "city=%{x}<br>date=03/04/2019<br>total=%{y}<extra></extra>",
           "ids": [
            "C",
            "C"
           ],
           "legendgroup": "Naypyitaw",
           "marker": {
            "color": "#EF553B",
            "pattern": {
             "shape": ""
            }
           },
           "name": "Naypyitaw",
           "offsetgroup": "Naypyitaw",
           "orientation": "v",
           "showlegend": true,
           "textposition": "auto",
           "type": "bar",
           "x": [
            "Naypyitaw",
            "Naypyitaw"
           ],
           "xaxis": "x",
           "y": [
            829.08,
            31.752
           ],
           "yaxis": "y"
          },
          {
           "alignmentgroup": "True",
           "hovertemplate": "city=%{x}<br>date=03/04/2019<br>total=%{y}<extra></extra>",
           "ids": [
            "B"
           ],
           "legendgroup": "Mandalay",
           "marker": {
            "color": "#00cc96",
            "pattern": {
             "shape": ""
            }
           },
           "name": "Mandalay",
           "offsetgroup": "Mandalay",
           "orientation": "v",
           "showlegend": true,
           "textposition": "auto",
           "type": "bar",
           "x": [
            "Mandalay"
           ],
           "xaxis": "x",
           "y": [
            181.818
           ],
           "yaxis": "y"
          }
         ],
         "name": "03/04/2019"
        },
        {
         "data": [
          {
           "alignmentgroup": "True",
           "hovertemplate": "city=%{x}<br>date=3/16/2019<br>total=%{y}<extra></extra>",
           "ids": [
            "A",
            "A",
            "A"
           ],
           "legendgroup": "Yangon",
           "marker": {
            "color": "#636efa",
            "pattern": {
             "shape": ""
            }
           },
           "name": "Yangon",
           "offsetgroup": "Yangon",
           "orientation": "v",
           "showlegend": true,
           "textposition": "auto",
           "type": "bar",
           "x": [
            "Yangon",
            "Yangon",
            "Yangon"
           ],
           "xaxis": "x",
           "y": [
            609,
            99.75,
            333.9525
           ],
           "yaxis": "y"
          },
          {
           "alignmentgroup": "True",
           "hovertemplate": "city=%{x}<br>date=3/16/2019<br>total=%{y}<extra></extra>",
           "ids": [
            "C",
            "C",
            "C"
           ],
           "legendgroup": "Naypyitaw",
           "marker": {
            "color": "#EF553B",
            "pattern": {
             "shape": ""
            }
           },
           "name": "Naypyitaw",
           "offsetgroup": "Naypyitaw",
           "orientation": "v",
           "showlegend": true,
           "textposition": "auto",
           "type": "bar",
           "x": [
            "Naypyitaw",
            "Naypyitaw",
            "Naypyitaw"
           ],
           "xaxis": "x",
           "y": [
            32.277,
            829.71,
            408.492
           ],
           "yaxis": "y"
          },
          {
           "alignmentgroup": "True",
           "hovertemplate": "city=%{x}<br>date=3/16/2019<br>total=%{y}<extra></extra>",
           "ids": [
            "B",
            "B",
            "B"
           ],
           "legendgroup": "Mandalay",
           "marker": {
            "color": "#00cc96",
            "pattern": {
             "shape": ""
            }
           },
           "name": "Mandalay",
           "offsetgroup": "Mandalay",
           "orientation": "v",
           "showlegend": true,
           "textposition": "auto",
           "type": "bar",
           "x": [
            "Mandalay",
            "Mandalay",
            "Mandalay"
           ],
           "xaxis": "x",
           "y": [
            78.7185,
            360.885,
            401.688
           ],
           "yaxis": "y"
          }
         ],
         "name": "3/16/2019"
        },
        {
         "data": [
          {
           "alignmentgroup": "True",
           "hovertemplate": "city=%{x}<br>date=2/27/2019<br>total=%{y}<extra></extra>",
           "ids": [
            "A",
            "A",
            "A",
            "A",
            "A"
           ],
           "legendgroup": "Yangon",
           "marker": {
            "color": "#636efa",
            "pattern": {
             "shape": ""
            }
           },
           "name": "Yangon",
           "offsetgroup": "Yangon",
           "orientation": "v",
           "showlegend": true,
           "textposition": "auto",
           "type": "bar",
           "x": [
            "Yangon",
            "Yangon",
            "Yangon",
            "Yangon",
            "Yangon"
           ],
           "xaxis": "x",
           "y": [
            736.4385,
            45.108,
            197.925,
            680.61,
            781.62
           ],
           "yaxis": "y"
          },
          {
           "alignmentgroup": "True",
           "hovertemplate": "city=%{x}<br>date=2/27/2019<br>total=%{y}<extra></extra>",
           "ids": [
            "C",
            "C",
            "C"
           ],
           "legendgroup": "Naypyitaw",
           "marker": {
            "color": "#EF553B",
            "pattern": {
             "shape": ""
            }
           },
           "name": "Naypyitaw",
           "offsetgroup": "Naypyitaw",
           "orientation": "v",
           "showlegend": true,
           "textposition": "auto",
           "type": "bar",
           "x": [
            "Naypyitaw",
            "Naypyitaw",
            "Naypyitaw"
           ],
           "xaxis": "x",
           "y": [
            793.548,
            104.6745,
            631.1445
           ],
           "yaxis": "y"
          },
          {
           "alignmentgroup": "True",
           "hovertemplate": "city=%{x}<br>date=2/27/2019<br>total=%{y}<extra></extra>",
           "ids": [
            "B",
            "B",
            "B",
            "B",
            "B",
            "B"
           ],
           "legendgroup": "Mandalay",
           "marker": {
            "color": "#00cc96",
            "pattern": {
             "shape": ""
            }
           },
           "name": "Mandalay",
           "offsetgroup": "Mandalay",
           "orientation": "v",
           "showlegend": true,
           "textposition": "auto",
           "type": "bar",
           "x": [
            "Mandalay",
            "Mandalay",
            "Mandalay",
            "Mandalay",
            "Mandalay",
            "Mandalay"
           ],
           "xaxis": "x",
           "y": [
            535.7205,
            485.037,
            141.75,
            353.1675,
            165.123,
            207.585
           ],
           "yaxis": "y"
          }
         ],
         "name": "2/27/2019"
        },
        {
         "data": [
          {
           "alignmentgroup": "True",
           "hovertemplate": "city=%{x}<br>date=02/10/2019<br>total=%{y}<extra></extra>",
           "ids": [
            "A",
            "A",
            "A",
            "A"
           ],
           "legendgroup": "Yangon",
           "marker": {
            "color": "#636efa",
            "pattern": {
             "shape": ""
            }
           },
           "name": "Yangon",
           "offsetgroup": "Yangon",
           "orientation": "v",
           "showlegend": true,
           "textposition": "auto",
           "type": "bar",
           "x": [
            "Yangon",
            "Yangon",
            "Yangon",
            "Yangon"
           ],
           "xaxis": "x",
           "y": [
            234.0975,
            316.47,
            77.7735,
            394.3275
           ],
           "yaxis": "y"
          },
          {
           "alignmentgroup": "True",
           "hovertemplate": "city=%{x}<br>date=02/10/2019<br>total=%{y}<extra></extra>",
           "ids": [
            "C",
            "C",
            "C"
           ],
           "legendgroup": "Naypyitaw",
           "marker": {
            "color": "#EF553B",
            "pattern": {
             "shape": ""
            }
           },
           "name": "Naypyitaw",
           "offsetgroup": "Naypyitaw",
           "orientation": "v",
           "showlegend": true,
           "textposition": "auto",
           "type": "bar",
           "x": [
            "Naypyitaw",
            "Naypyitaw",
            "Naypyitaw"
           ],
           "xaxis": "x",
           "y": [
            70.287,
            820.365,
            539.343
           ],
           "yaxis": "y"
          },
          {
           "alignmentgroup": "True",
           "hovertemplate": "city=%{x}<br>date=02/10/2019<br>total=%{y}<extra></extra>",
           "ids": [
            "B",
            "B",
            "B",
            "B"
           ],
           "legendgroup": "Mandalay",
           "marker": {
            "color": "#00cc96",
            "pattern": {
             "shape": ""
            }
           },
           "name": "Mandalay",
           "offsetgroup": "Mandalay",
           "orientation": "v",
           "showlegend": true,
           "textposition": "auto",
           "type": "bar",
           "x": [
            "Mandalay",
            "Mandalay",
            "Mandalay",
            "Mandalay"
           ],
           "xaxis": "x",
           "y": [
            119.259,
            146.328,
            151.4835,
            271.2885
           ],
           "yaxis": "y"
          }
         ],
         "name": "02/10/2019"
        },
        {
         "data": [
          {
           "alignmentgroup": "True",
           "hovertemplate": "city=%{x}<br>date=3/19/2019<br>total=%{y}<extra></extra>",
           "ids": [
            "A",
            "A",
            "A",
            "A",
            "A",
            "A"
           ],
           "legendgroup": "Yangon",
           "marker": {
            "color": "#636efa",
            "pattern": {
             "shape": ""
            }
           },
           "name": "Yangon",
           "offsetgroup": "Yangon",
           "orientation": "v",
           "showlegend": true,
           "textposition": "auto",
           "type": "bar",
           "x": [
            "Yangon",
            "Yangon",
            "Yangon",
            "Yangon",
            "Yangon",
            "Yangon"
           ],
           "xaxis": "x",
           "y": [
            171.7275,
            709.317,
            721.98,
            97.818,
            175.014,
            16.275
           ],
           "yaxis": "y"
          },
          {
           "alignmentgroup": "True",
           "hovertemplate": "city=%{x}<br>date=3/19/2019<br>total=%{y}<extra></extra>",
           "ids": [
            "C",
            "C",
            "C",
            "C",
            "C",
            "C",
            "C"
           ],
           "legendgroup": "Naypyitaw",
           "marker": {
            "color": "#EF553B",
            "pattern": {
             "shape": ""
            }
           },
           "name": "Naypyitaw",
           "offsetgroup": "Naypyitaw",
           "orientation": "v",
           "showlegend": true,
           "textposition": "auto",
           "type": "bar",
           "x": [
            "Naypyitaw",
            "Naypyitaw",
            "Naypyitaw",
            "Naypyitaw",
            "Naypyitaw",
            "Naypyitaw",
            "Naypyitaw"
           ],
           "xaxis": "x",
           "y": [
            867.615,
            277.788,
            55.881,
            937.818,
            48.51,
            743.82,
            317.226
           ],
           "yaxis": "y"
          },
          {
           "alignmentgroup": "True",
           "hovertemplate": "city=%{x}<br>date=3/19/2019<br>total=%{y}<extra></extra>",
           "ids": [
            "B",
            "B",
            "B"
           ],
           "legendgroup": "Mandalay",
           "marker": {
            "color": "#00cc96",
            "pattern": {
             "shape": ""
            }
           },
           "name": "Mandalay",
           "offsetgroup": "Mandalay",
           "orientation": "v",
           "showlegend": true,
           "textposition": "auto",
           "type": "bar",
           "x": [
            "Mandalay",
            "Mandalay",
            "Mandalay"
           ],
           "xaxis": "x",
           "y": [
            223.0725,
            213.528,
            163.002
           ],
           "yaxis": "y"
          }
         ],
         "name": "3/19/2019"
        },
        {
         "data": [
          {
           "alignmentgroup": "True",
           "hovertemplate": "city=%{x}<br>date=02/03/2019<br>total=%{y}<extra></extra>",
           "ids": [
            "A",
            "A",
            "A",
            "A",
            "A"
           ],
           "legendgroup": "Yangon",
           "marker": {
            "color": "#636efa",
            "pattern": {
             "shape": ""
            }
           },
           "name": "Yangon",
           "offsetgroup": "Yangon",
           "orientation": "v",
           "showlegend": true,
           "textposition": "auto",
           "type": "bar",
           "x": [
            "Yangon",
            "Yangon",
            "Yangon",
            "Yangon",
            "Yangon"
           ],
           "xaxis": "x",
           "y": [
            697.368,
            404.355,
            708.225,
            764.19,
            143.22
           ],
           "yaxis": "y"
          },
          {
           "alignmentgroup": "True",
           "hovertemplate": "city=%{x}<br>date=02/03/2019<br>total=%{y}<extra></extra>",
           "ids": [
            "C",
            "C",
            "C",
            "C"
           ],
           "legendgroup": "Naypyitaw",
           "marker": {
            "color": "#EF553B",
            "pattern": {
             "shape": ""
            }
           },
           "name": "Naypyitaw",
           "offsetgroup": "Naypyitaw",
           "orientation": "v",
           "showlegend": true,
           "textposition": "auto",
           "type": "bar",
           "x": [
            "Naypyitaw",
            "Naypyitaw",
            "Naypyitaw",
            "Naypyitaw"
           ],
           "xaxis": "x",
           "y": [
            671.79,
            212.73,
            310.59,
            517.965
           ],
           "yaxis": "y"
          },
          {
           "alignmentgroup": "True",
           "hovertemplate": "city=%{x}<br>date=02/03/2019<br>total=%{y}<extra></extra>",
           "ids": [
            "B",
            "B",
            "B",
            "B",
            "B"
           ],
           "legendgroup": "Mandalay",
           "marker": {
            "color": "#00cc96",
            "pattern": {
             "shape": ""
            }
           },
           "name": "Mandalay",
           "offsetgroup": "Mandalay",
           "orientation": "v",
           "showlegend": true,
           "textposition": "auto",
           "type": "bar",
           "x": [
            "Mandalay",
            "Mandalay",
            "Mandalay",
            "Mandalay",
            "Mandalay"
           ],
           "xaxis": "x",
           "y": [
            520.4115,
            77.6685,
            135.3555,
            247.59,
            56.469
           ],
           "yaxis": "y"
          }
         ],
         "name": "02/03/2019"
        },
        {
         "data": [
          {
           "alignmentgroup": "True",
           "hovertemplate": "city=%{x}<br>date=03/07/2019<br>total=%{y}<extra></extra>",
           "ids": [
            "A",
            "A",
            "A"
           ],
           "legendgroup": "Yangon",
           "marker": {
            "color": "#636efa",
            "pattern": {
             "shape": ""
            }
           },
           "name": "Yangon",
           "offsetgroup": "Yangon",
           "orientation": "v",
           "showlegend": true,
           "textposition": "auto",
           "type": "bar",
           "x": [
            "Yangon",
            "Yangon",
            "Yangon"
           ],
           "xaxis": "x",
           "y": [
            146.9475,
            102.837,
            118.902
           ],
           "yaxis": "y"
          },
          {
           "alignmentgroup": "True",
           "hovertemplate": "city=%{x}<br>date=03/07/2019<br>total=%{y}<extra></extra>",
           "ids": [
            "C",
            "C",
            "C",
            "C"
           ],
           "legendgroup": "Naypyitaw",
           "marker": {
            "color": "#EF553B",
            "pattern": {
             "shape": ""
            }
           },
           "name": "Naypyitaw",
           "offsetgroup": "Naypyitaw",
           "orientation": "v",
           "showlegend": true,
           "textposition": "auto",
           "type": "bar",
           "x": [
            "Naypyitaw",
            "Naypyitaw",
            "Naypyitaw",
            "Naypyitaw"
           ],
           "xaxis": "x",
           "y": [
            69.09,
            209.559,
            353.094,
            139.923
           ],
           "yaxis": "y"
          },
          {
           "alignmentgroup": "True",
           "hovertemplate": "city=%{x}<br>date=03/07/2019<br>total=%{y}<extra></extra>",
           "ids": [
            "B",
            "B"
           ],
           "legendgroup": "Mandalay",
           "marker": {
            "color": "#00cc96",
            "pattern": {
             "shape": ""
            }
           },
           "name": "Mandalay",
           "offsetgroup": "Mandalay",
           "orientation": "v",
           "showlegend": true,
           "textposition": "auto",
           "type": "bar",
           "x": [
            "Mandalay",
            "Mandalay"
           ],
           "xaxis": "x",
           "y": [
            33.936,
            263.97
           ],
           "yaxis": "y"
          }
         ],
         "name": "03/07/2019"
        },
        {
         "data": [
          {
           "alignmentgroup": "True",
           "hovertemplate": "city=%{x}<br>date=2/28/2019<br>total=%{y}<extra></extra>",
           "ids": [
            "A",
            "A"
           ],
           "legendgroup": "Yangon",
           "marker": {
            "color": "#636efa",
            "pattern": {
             "shape": ""
            }
           },
           "name": "Yangon",
           "offsetgroup": "Yangon",
           "orientation": "v",
           "showlegend": true,
           "textposition": "auto",
           "type": "bar",
           "x": [
            "Yangon",
            "Yangon"
           ],
           "xaxis": "x",
           "y": [
            507.906,
            176.4
           ],
           "yaxis": "y"
          },
          {
           "alignmentgroup": "True",
           "hovertemplate": "city=%{x}<br>date=2/28/2019<br>total=%{y}<extra></extra>",
           "ids": [
            "C",
            "C"
           ],
           "legendgroup": "Naypyitaw",
           "marker": {
            "color": "#EF553B",
            "pattern": {
             "shape": ""
            }
           },
           "name": "Naypyitaw",
           "offsetgroup": "Naypyitaw",
           "orientation": "v",
           "showlegend": true,
           "textposition": "auto",
           "type": "bar",
           "x": [
            "Naypyitaw",
            "Naypyitaw"
           ],
           "xaxis": "x",
           "y": [
            722.232,
            195.72
           ],
           "yaxis": "y"
          },
          {
           "alignmentgroup": "True",
           "hovertemplate": "city=%{x}<br>date=2/28/2019<br>total=%{y}<extra></extra>",
           "ids": [
            "B",
            "B"
           ],
           "legendgroup": "Mandalay",
           "marker": {
            "color": "#00cc96",
            "pattern": {
             "shape": ""
            }
           },
           "name": "Mandalay",
           "offsetgroup": "Mandalay",
           "orientation": "v",
           "showlegend": true,
           "textposition": "auto",
           "type": "bar",
           "x": [
            "Mandalay",
            "Mandalay"
           ],
           "xaxis": "x",
           "y": [
            431.445,
            63.315
           ],
           "yaxis": "y"
          }
         ],
         "name": "2/28/2019"
        },
        {
         "data": [
          {
           "alignmentgroup": "True",
           "hovertemplate": "city=%{x}<br>date=3/27/2019<br>total=%{y}<extra></extra>",
           "ids": [
            "A",
            "A",
            "A",
            "A",
            "A"
           ],
           "legendgroup": "Yangon",
           "marker": {
            "color": "#636efa",
            "pattern": {
             "shape": ""
            }
           },
           "name": "Yangon",
           "offsetgroup": "Yangon",
           "orientation": "v",
           "showlegend": true,
           "textposition": "auto",
           "type": "bar",
           "x": [
            "Yangon",
            "Yangon",
            "Yangon",
            "Yangon",
            "Yangon"
           ],
           "xaxis": "x",
           "y": [
            93.114,
            362.943,
            272.664,
            164.871,
            167.034
           ],
           "yaxis": "y"
          },
          {
           "alignmentgroup": "True",
           "hovertemplate": "city=%{x}<br>date=3/27/2019<br>total=%{y}<extra></extra>",
           "ids": [
            "C"
           ],
           "legendgroup": "Naypyitaw",
           "marker": {
            "color": "#EF553B",
            "pattern": {
             "shape": ""
            }
           },
           "name": "Naypyitaw",
           "offsetgroup": "Naypyitaw",
           "orientation": "v",
           "showlegend": true,
           "textposition": "auto",
           "type": "bar",
           "x": [
            "Naypyitaw"
           ],
           "xaxis": "x",
           "y": [
            943.299
           ],
           "yaxis": "y"
          },
          {
           "alignmentgroup": "True",
           "hovertemplate": "city=%{x}<br>date=3/27/2019<br>total=%{y}<extra></extra>",
           "ids": [
            "B",
            "B",
            "B",
            "B"
           ],
           "legendgroup": "Mandalay",
           "marker": {
            "color": "#00cc96",
            "pattern": {
             "shape": ""
            }
           },
           "name": "Mandalay",
           "offsetgroup": "Mandalay",
           "orientation": "v",
           "showlegend": true,
           "textposition": "auto",
           "type": "bar",
           "x": [
            "Mandalay",
            "Mandalay",
            "Mandalay",
            "Mandalay"
           ],
           "xaxis": "x",
           "y": [
            588.357,
            116.907,
            101.808,
            91.8225
           ],
           "yaxis": "y"
          }
         ],
         "name": "3/27/2019"
        },
        {
         "data": [
          {
           "alignmentgroup": "True",
           "hovertemplate": "city=%{x}<br>date=1/20/2019<br>total=%{y}<extra></extra>",
           "ids": [
            "A",
            "A",
            "A",
            "A"
           ],
           "legendgroup": "Yangon",
           "marker": {
            "color": "#636efa",
            "pattern": {
             "shape": ""
            }
           },
           "name": "Yangon",
           "offsetgroup": "Yangon",
           "orientation": "v",
           "showlegend": true,
           "textposition": "auto",
           "type": "bar",
           "x": [
            "Yangon",
            "Yangon",
            "Yangon",
            "Yangon"
           ],
           "xaxis": "x",
           "y": [
            759.675,
            195.594,
            536.592,
            233.1
           ],
           "yaxis": "y"
          },
          {
           "alignmentgroup": "True",
           "hovertemplate": "city=%{x}<br>date=1/20/2019<br>total=%{y}<extra></extra>",
           "ids": [
            "C",
            "C",
            "C",
            "C"
           ],
           "legendgroup": "Naypyitaw",
           "marker": {
            "color": "#EF553B",
            "pattern": {
             "shape": ""
            }
           },
           "name": "Naypyitaw",
           "offsetgroup": "Naypyitaw",
           "orientation": "v",
           "showlegend": true,
           "textposition": "auto",
           "type": "bar",
           "x": [
            "Naypyitaw",
            "Naypyitaw",
            "Naypyitaw",
            "Naypyitaw"
           ],
           "xaxis": "x",
           "y": [
            749.7,
            348.306,
            131.208,
            470.988
           ],
           "yaxis": "y"
          },
          {
           "alignmentgroup": "True",
           "hovertemplate": "city=%{x}<br>date=1/20/2019<br>total=%{y}<extra></extra>",
           "ids": [
            "B",
            "B"
           ],
           "legendgroup": "Mandalay",
           "marker": {
            "color": "#00cc96",
            "pattern": {
             "shape": ""
            }
           },
           "name": "Mandalay",
           "offsetgroup": "Mandalay",
           "orientation": "v",
           "showlegend": true,
           "textposition": "auto",
           "type": "bar",
           "x": [
            "Mandalay",
            "Mandalay"
           ],
           "xaxis": "x",
           "y": [
            112.224,
            118.062
           ],
           "yaxis": "y"
          }
         ],
         "name": "1/20/2019"
        },
        {
         "data": [
          {
           "alignmentgroup": "True",
           "hovertemplate": "city=%{x}<br>date=03/12/2019<br>total=%{y}<extra></extra>",
           "ids": [
            "A",
            "A"
           ],
           "legendgroup": "Yangon",
           "marker": {
            "color": "#636efa",
            "pattern": {
             "shape": ""
            }
           },
           "name": "Yangon",
           "offsetgroup": "Yangon",
           "orientation": "v",
           "showlegend": true,
           "textposition": "auto",
           "type": "bar",
           "x": [
            "Yangon",
            "Yangon"
           ],
           "xaxis": "x",
           "y": [
            723.24,
            200.214
           ],
           "yaxis": "y"
          },
          {
           "alignmentgroup": "True",
           "hovertemplate": "city=%{x}<br>date=03/12/2019<br>total=%{y}<extra></extra>",
           "ids": [
            "C",
            "C",
            "C",
            "C",
            "C"
           ],
           "legendgroup": "Naypyitaw",
           "marker": {
            "color": "#EF553B",
            "pattern": {
             "shape": ""
            }
           },
           "name": "Naypyitaw",
           "offsetgroup": "Naypyitaw",
           "orientation": "v",
           "showlegend": true,
           "textposition": "auto",
           "type": "bar",
           "x": [
            "Naypyitaw",
            "Naypyitaw",
            "Naypyitaw",
            "Naypyitaw",
            "Naypyitaw"
           ],
           "xaxis": "x",
           "y": [
            192.843,
            174.3,
            395.892,
            194.124,
            404.544
           ],
           "yaxis": "y"
          },
          {
           "alignmentgroup": "True",
           "hovertemplate": "city=%{x}<br>date=03/12/2019<br>total=%{y}<extra></extra>",
           "ids": [
            "B",
            "B",
            "B",
            "B",
            "B"
           ],
           "legendgroup": "Mandalay",
           "marker": {
            "color": "#00cc96",
            "pattern": {
             "shape": ""
            }
           },
           "name": "Mandalay",
           "offsetgroup": "Mandalay",
           "orientation": "v",
           "showlegend": true,
           "textposition": "auto",
           "type": "bar",
           "x": [
            "Mandalay",
            "Mandalay",
            "Mandalay",
            "Mandalay",
            "Mandalay"
           ],
           "xaxis": "x",
           "y": [
            608.202,
            33.3585,
            40.9605,
            410.508,
            299.3655
           ],
           "yaxis": "y"
          }
         ],
         "name": "03/12/2019"
        },
        {
         "data": [
          {
           "alignmentgroup": "True",
           "hovertemplate": "city=%{x}<br>date=2/15/2019<br>total=%{y}<extra></extra>",
           "ids": [
            "A",
            "A",
            "A",
            "A",
            "A"
           ],
           "legendgroup": "Yangon",
           "marker": {
            "color": "#636efa",
            "pattern": {
             "shape": ""
            }
           },
           "name": "Yangon",
           "offsetgroup": "Yangon",
           "orientation": "v",
           "showlegend": true,
           "textposition": "auto",
           "type": "bar",
           "x": [
            "Yangon",
            "Yangon",
            "Yangon",
            "Yangon",
            "Yangon"
           ],
           "xaxis": "x",
           "y": [
            587.664,
            96.138,
            164.43,
            211.365,
            163.611
           ],
           "yaxis": "y"
          },
          {
           "alignmentgroup": "True",
           "hovertemplate": "city=%{x}<br>date=2/15/2019<br>total=%{y}<extra></extra>",
           "ids": [
            "C",
            "C",
            "C",
            "C",
            "C",
            "C",
            "C"
           ],
           "legendgroup": "Naypyitaw",
           "marker": {
            "color": "#EF553B",
            "pattern": {
             "shape": ""
            }
           },
           "name": "Naypyitaw",
           "offsetgroup": "Naypyitaw",
           "orientation": "v",
           "showlegend": true,
           "textposition": "auto",
           "type": "bar",
           "x": [
            "Naypyitaw",
            "Naypyitaw",
            "Naypyitaw",
            "Naypyitaw",
            "Naypyitaw",
            "Naypyitaw",
            "Naypyitaw"
           ],
           "xaxis": "x",
           "y": [
            77.931,
            1042.65,
            253.512,
            103.782,
            344.4,
            282.576,
            287.91
           ],
           "yaxis": "y"
          },
          {
           "alignmentgroup": "True",
           "hovertemplate": "city=%{x}<br>date=2/15/2019<br>total=%{y}<extra></extra>",
           "ids": [
            "B",
            "B",
            "B",
            "B",
            "B",
            "B",
            "B"
           ],
           "legendgroup": "Mandalay",
           "marker": {
            "color": "#00cc96",
            "pattern": {
             "shape": ""
            }
           },
           "name": "Mandalay",
           "offsetgroup": "Mandalay",
           "orientation": "v",
           "showlegend": true,
           "textposition": "auto",
           "type": "bar",
           "x": [
            "Mandalay",
            "Mandalay",
            "Mandalay",
            "Mandalay",
            "Mandalay",
            "Mandalay",
            "Mandalay"
           ],
           "xaxis": "x",
           "y": [
            535.374,
            93.2925,
            565.215,
            731.43,
            362.817,
            92.7255,
            833.9625
           ],
           "yaxis": "y"
          }
         ],
         "name": "2/15/2019"
        },
        {
         "data": [
          {
           "alignmentgroup": "True",
           "hovertemplate": "city=%{x}<br>date=03/06/2019<br>total=%{y}<extra></extra>",
           "ids": [
            "A",
            "A",
            "A",
            "A"
           ],
           "legendgroup": "Yangon",
           "marker": {
            "color": "#636efa",
            "pattern": {
             "shape": ""
            }
           },
           "name": "Yangon",
           "offsetgroup": "Yangon",
           "orientation": "v",
           "showlegend": true,
           "textposition": "auto",
           "type": "bar",
           "x": [
            "Yangon",
            "Yangon",
            "Yangon",
            "Yangon"
           ],
           "xaxis": "x",
           "y": [
            166.005,
            580.419,
            203.175,
            83.727
           ],
           "yaxis": "y"
          },
          {
           "alignmentgroup": "True",
           "hovertemplate": "city=%{x}<br>date=03/06/2019<br>total=%{y}<extra></extra>",
           "ids": [
            "C"
           ],
           "legendgroup": "Naypyitaw",
           "marker": {
            "color": "#EF553B",
            "pattern": {
             "shape": ""
            }
           },
           "name": "Naypyitaw",
           "offsetgroup": "Naypyitaw",
           "orientation": "v",
           "showlegend": true,
           "textposition": "auto",
           "type": "bar",
           "x": [
            "Naypyitaw"
           ],
           "xaxis": "x",
           "y": [
            38.85
           ],
           "yaxis": "y"
          },
          {
           "alignmentgroup": "True",
           "hovertemplate": "city=%{x}<br>date=03/06/2019<br>total=%{y}<extra></extra>",
           "ids": [
            "B",
            "B",
            "B",
            "B",
            "B",
            "B"
           ],
           "legendgroup": "Mandalay",
           "marker": {
            "color": "#00cc96",
            "pattern": {
             "shape": ""
            }
           },
           "name": "Mandalay",
           "offsetgroup": "Mandalay",
           "orientation": "v",
           "showlegend": true,
           "textposition": "auto",
           "type": "bar",
           "x": [
            "Mandalay",
            "Mandalay",
            "Mandalay",
            "Mandalay",
            "Mandalay",
            "Mandalay"
           ],
           "xaxis": "x",
           "y": [
            603.624,
            456.288,
            354.0075,
            352.674,
            148.995,
            104.832
           ],
           "yaxis": "y"
          }
         ],
         "name": "03/06/2019"
        },
        {
         "data": [
          {
           "alignmentgroup": "True",
           "hovertemplate": "city=%{x}<br>date=2/14/2019<br>total=%{y}<extra></extra>",
           "ids": [
            "A",
            "A",
            "A"
           ],
           "legendgroup": "Yangon",
           "marker": {
            "color": "#636efa",
            "pattern": {
             "shape": ""
            }
           },
           "name": "Yangon",
           "offsetgroup": "Yangon",
           "orientation": "v",
           "showlegend": true,
           "textposition": "auto",
           "type": "bar",
           "x": [
            "Yangon",
            "Yangon",
            "Yangon"
           ],
           "xaxis": "x",
           "y": [
            836.304,
            140.6475,
            95.865
           ],
           "yaxis": "y"
          },
          {
           "alignmentgroup": "True",
           "hovertemplate": "city=%{x}<br>date=2/14/2019<br>total=%{y}<extra></extra>",
           "ids": [
            "C",
            "C",
            "C"
           ],
           "legendgroup": "Naypyitaw",
           "marker": {
            "color": "#EF553B",
            "pattern": {
             "shape": ""
            }
           },
           "name": "Naypyitaw",
           "offsetgroup": "Naypyitaw",
           "orientation": "v",
           "showlegend": true,
           "textposition": "auto",
           "type": "bar",
           "x": [
            "Naypyitaw",
            "Naypyitaw",
            "Naypyitaw"
           ],
           "xaxis": "x",
           "y": [
            208.677,
            290.43,
            122.472
           ],
           "yaxis": "y"
          },
          {
           "alignmentgroup": "True",
           "hovertemplate": "city=%{x}<br>date=2/14/2019<br>total=%{y}<extra></extra>",
           "ids": [
            "B",
            "B"
           ],
           "legendgroup": "Mandalay",
           "marker": {
            "color": "#00cc96",
            "pattern": {
             "shape": ""
            }
           },
           "name": "Mandalay",
           "offsetgroup": "Mandalay",
           "orientation": "v",
           "showlegend": true,
           "textposition": "auto",
           "type": "bar",
           "x": [
            "Mandalay",
            "Mandalay"
           ],
           "xaxis": "x",
           "y": [
            318.108,
            441.588
           ],
           "yaxis": "y"
          }
         ],
         "name": "2/14/2019"
        },
        {
         "data": [
          {
           "alignmentgroup": "True",
           "hovertemplate": "city=%{x}<br>date=3/13/2019<br>total=%{y}<extra></extra>",
           "ids": [
            "A",
            "A",
            "A"
           ],
           "legendgroup": "Yangon",
           "marker": {
            "color": "#636efa",
            "pattern": {
             "shape": ""
            }
           },
           "name": "Yangon",
           "offsetgroup": "Yangon",
           "orientation": "v",
           "showlegend": true,
           "textposition": "auto",
           "type": "bar",
           "x": [
            "Yangon",
            "Yangon",
            "Yangon"
           ],
           "xaxis": "x",
           "y": [
            166.635,
            336.5565,
            284.9175
           ],
           "yaxis": "y"
          },
          {
           "alignmentgroup": "True",
           "hovertemplate": "city=%{x}<br>date=3/13/2019<br>total=%{y}<extra></extra>",
           "ids": [
            "C",
            "C",
            "C",
            "C"
           ],
           "legendgroup": "Naypyitaw",
           "marker": {
            "color": "#EF553B",
            "pattern": {
             "shape": ""
            }
           },
           "name": "Naypyitaw",
           "offsetgroup": "Naypyitaw",
           "orientation": "v",
           "showlegend": true,
           "textposition": "auto",
           "type": "bar",
           "x": [
            "Naypyitaw",
            "Naypyitaw",
            "Naypyitaw",
            "Naypyitaw"
           ],
           "xaxis": "x",
           "y": [
            536.844,
            153.048,
            59.325,
            102.396
           ],
           "yaxis": "y"
          },
          {
           "alignmentgroup": "True",
           "hovertemplate": "city=%{x}<br>date=3/13/2019<br>total=%{y}<extra></extra>",
           "ids": [
            "B",
            "B",
            "B"
           ],
           "legendgroup": "Mandalay",
           "marker": {
            "color": "#00cc96",
            "pattern": {
             "shape": ""
            }
           },
           "name": "Mandalay",
           "offsetgroup": "Mandalay",
           "orientation": "v",
           "showlegend": true,
           "textposition": "auto",
           "type": "bar",
           "x": [
            "Mandalay",
            "Mandalay",
            "Mandalay"
           ],
           "xaxis": "x",
           "y": [
            160.86,
            190.155,
            72.87
           ],
           "yaxis": "y"
          }
         ],
         "name": "3/13/2019"
        },
        {
         "data": [
          {
           "alignmentgroup": "True",
           "hovertemplate": "city=%{x}<br>date=1/24/2019<br>total=%{y}<extra></extra>",
           "ids": [
            "A",
            "A",
            "A",
            "A",
            "A"
           ],
           "legendgroup": "Yangon",
           "marker": {
            "color": "#636efa",
            "pattern": {
             "shape": ""
            }
           },
           "name": "Yangon",
           "offsetgroup": "Yangon",
           "orientation": "v",
           "showlegend": true,
           "textposition": "auto",
           "type": "bar",
           "x": [
            "Yangon",
            "Yangon",
            "Yangon",
            "Yangon",
            "Yangon"
           ],
           "xaxis": "x",
           "y": [
            827.085,
            406.875,
            728.112,
            408.408,
            88.704
           ],
           "yaxis": "y"
          },
          {
           "alignmentgroup": "True",
           "hovertemplate": "city=%{x}<br>date=1/24/2019<br>total=%{y}<extra></extra>",
           "ids": [
            "C",
            "C"
           ],
           "legendgroup": "Naypyitaw",
           "marker": {
            "color": "#EF553B",
            "pattern": {
             "shape": ""
            }
           },
           "name": "Naypyitaw",
           "offsetgroup": "Naypyitaw",
           "orientation": "v",
           "showlegend": true,
           "textposition": "auto",
           "type": "bar",
           "x": [
            "Naypyitaw",
            "Naypyitaw"
           ],
           "xaxis": "x",
           "y": [
            63.9135,
            270.018
           ],
           "yaxis": "y"
          },
          {
           "alignmentgroup": "True",
           "hovertemplate": "city=%{x}<br>date=1/24/2019<br>total=%{y}<extra></extra>",
           "ids": [
            "B",
            "B",
            "B",
            "B",
            "B",
            "B"
           ],
           "legendgroup": "Mandalay",
           "marker": {
            "color": "#00cc96",
            "pattern": {
             "shape": ""
            }
           },
           "name": "Mandalay",
           "offsetgroup": "Mandalay",
           "orientation": "v",
           "showlegend": true,
           "textposition": "auto",
           "type": "bar",
           "x": [
            "Mandalay",
            "Mandalay",
            "Mandalay",
            "Mandalay",
            "Mandalay",
            "Mandalay"
           ],
           "xaxis": "x",
           "y": [
            423.15,
            293.643,
            145.404,
            557.718,
            384.72,
            804.3
           ],
           "yaxis": "y"
          }
         ],
         "name": "1/24/2019"
        },
        {
         "data": [
          {
           "alignmentgroup": "True",
           "hovertemplate": "city=%{x}<br>date=01/06/2019<br>total=%{y}<extra></extra>",
           "ids": [
            "A",
            "A",
            "A",
            "A",
            "A"
           ],
           "legendgroup": "Yangon",
           "marker": {
            "color": "#636efa",
            "pattern": {
             "shape": ""
            }
           },
           "name": "Yangon",
           "offsetgroup": "Yangon",
           "orientation": "v",
           "showlegend": true,
           "textposition": "auto",
           "type": "bar",
           "x": [
            "Yangon",
            "Yangon",
            "Yangon",
            "Yangon",
            "Yangon"
           ],
           "xaxis": "x",
           "y": [
            494.76,
            16.107,
            214.935,
            271.278,
            312.8895
           ],
           "yaxis": "y"
          },
          {
           "alignmentgroup": "True",
           "hovertemplate": "city=%{x}<br>date=01/06/2019<br>total=%{y}<extra></extra>",
           "ids": [
            "C",
            "C"
           ],
           "legendgroup": "Naypyitaw",
           "marker": {
            "color": "#EF553B",
            "pattern": {
             "shape": ""
            }
           },
           "name": "Naypyitaw",
           "offsetgroup": "Naypyitaw",
           "orientation": "v",
           "showlegend": true,
           "textposition": "auto",
           "type": "bar",
           "x": [
            "Naypyitaw",
            "Naypyitaw"
           ],
           "xaxis": "x",
           "y": [
            939.54,
            343.056
           ],
           "yaxis": "y"
          },
          {
           "alignmentgroup": "True",
           "hovertemplate": "city=%{x}<br>date=01/06/2019<br>total=%{y}<extra></extra>",
           "ids": [
            "B",
            "B"
           ],
           "legendgroup": "Mandalay",
           "marker": {
            "color": "#00cc96",
            "pattern": {
             "shape": ""
            }
           },
           "name": "Mandalay",
           "offsetgroup": "Mandalay",
           "orientation": "v",
           "showlegend": true,
           "textposition": "auto",
           "type": "bar",
           "x": [
            "Mandalay",
            "Mandalay"
           ],
           "xaxis": "x",
           "y": [
            261.198,
            760.4415
           ],
           "yaxis": "y"
          }
         ],
         "name": "01/06/2019"
        },
        {
         "data": [
          {
           "alignmentgroup": "True",
           "hovertemplate": "city=%{x}<br>date=02/11/2019<br>total=%{y}<extra></extra>",
           "ids": [
            "A",
            "A"
           ],
           "legendgroup": "Yangon",
           "marker": {
            "color": "#636efa",
            "pattern": {
             "shape": ""
            }
           },
           "name": "Yangon",
           "offsetgroup": "Yangon",
           "orientation": "v",
           "showlegend": true,
           "textposition": "auto",
           "type": "bar",
           "x": [
            "Yangon",
            "Yangon"
           ],
           "xaxis": "x",
           "y": [
            397.992,
            252.252
           ],
           "yaxis": "y"
          },
          {
           "alignmentgroup": "True",
           "hovertemplate": "city=%{x}<br>date=02/11/2019<br>total=%{y}<extra></extra>",
           "ids": [
            "C",
            "C",
            "C"
           ],
           "legendgroup": "Naypyitaw",
           "marker": {
            "color": "#EF553B",
            "pattern": {
             "shape": ""
            }
           },
           "name": "Naypyitaw",
           "offsetgroup": "Naypyitaw",
           "orientation": "v",
           "showlegend": true,
           "textposition": "auto",
           "type": "bar",
           "x": [
            "Naypyitaw",
            "Naypyitaw",
            "Naypyitaw"
           ],
           "xaxis": "x",
           "y": [
            652.26,
            936.6,
            455.1225
           ],
           "yaxis": "y"
          },
          {
           "alignmentgroup": "True",
           "hovertemplate": "city=%{x}<br>date=02/11/2019<br>total=%{y}<extra></extra>",
           "ids": [
            "B",
            "B",
            "B"
           ],
           "legendgroup": "Mandalay",
           "marker": {
            "color": "#00cc96",
            "pattern": {
             "shape": ""
            }
           },
           "name": "Mandalay",
           "offsetgroup": "Mandalay",
           "orientation": "v",
           "showlegend": true,
           "textposition": "auto",
           "type": "bar",
           "x": [
            "Mandalay",
            "Mandalay",
            "Mandalay"
           ],
           "xaxis": "x",
           "y": [
            242.676,
            794.6505,
            810.6
           ],
           "yaxis": "y"
          }
         ],
         "name": "02/11/2019"
        },
        {
         "data": [
          {
           "alignmentgroup": "True",
           "hovertemplate": "city=%{x}<br>date=1/22/2019<br>total=%{y}<extra></extra>",
           "ids": [
            "A",
            "A"
           ],
           "legendgroup": "Yangon",
           "marker": {
            "color": "#636efa",
            "pattern": {
             "shape": ""
            }
           },
           "name": "Yangon",
           "offsetgroup": "Yangon",
           "orientation": "v",
           "showlegend": true,
           "textposition": "auto",
           "type": "bar",
           "x": [
            "Yangon",
            "Yangon"
           ],
           "xaxis": "x",
           "y": [
            705.6315,
            96.642
           ],
           "yaxis": "y"
          },
          {
           "alignmentgroup": "True",
           "hovertemplate": "city=%{x}<br>date=1/22/2019<br>total=%{y}<extra></extra>",
           "ids": [
            "C",
            "C",
            "C"
           ],
           "legendgroup": "Naypyitaw",
           "marker": {
            "color": "#EF553B",
            "pattern": {
             "shape": ""
            }
           },
           "name": "Naypyitaw",
           "offsetgroup": "Naypyitaw",
           "orientation": "v",
           "showlegend": true,
           "textposition": "auto",
           "type": "bar",
           "x": [
            "Naypyitaw",
            "Naypyitaw",
            "Naypyitaw"
           ],
           "xaxis": "x",
           "y": [
            106.995,
            85.5855,
            206.7975
           ],
           "yaxis": "y"
          },
          {
           "alignmentgroup": "True",
           "hovertemplate": "city=%{x}<br>date=1/22/2019<br>total=%{y}<extra></extra>",
           "ids": [
            "B",
            "B"
           ],
           "legendgroup": "Mandalay",
           "marker": {
            "color": "#00cc96",
            "pattern": {
             "shape": ""
            }
           },
           "name": "Mandalay",
           "offsetgroup": "Mandalay",
           "orientation": "v",
           "showlegend": true,
           "textposition": "auto",
           "type": "bar",
           "x": [
            "Mandalay",
            "Mandalay"
           ],
           "xaxis": "x",
           "y": [
            351.603,
            151.515
           ],
           "yaxis": "y"
          }
         ],
         "name": "1/22/2019"
        },
        {
         "data": [
          {
           "alignmentgroup": "True",
           "hovertemplate": "city=%{x}<br>date=1/13/2019<br>total=%{y}<extra></extra>",
           "ids": [
            "A",
            "A",
            "A",
            "A"
           ],
           "legendgroup": "Yangon",
           "marker": {
            "color": "#636efa",
            "pattern": {
             "shape": ""
            }
           },
           "name": "Yangon",
           "offsetgroup": "Yangon",
           "orientation": "v",
           "showlegend": true,
           "textposition": "auto",
           "type": "bar",
           "x": [
            "Yangon",
            "Yangon",
            "Yangon",
            "Yangon"
           ],
           "xaxis": "x",
           "y": [
            147.798,
            335.013,
            374.409,
            255.1815
           ],
           "yaxis": "y"
          },
          {
           "alignmentgroup": "True",
           "hovertemplate": "city=%{x}<br>date=1/13/2019<br>total=%{y}<extra></extra>",
           "ids": [
            "C",
            "C",
            "C"
           ],
           "legendgroup": "Naypyitaw",
           "marker": {
            "color": "#EF553B",
            "pattern": {
             "shape": ""
            }
           },
           "name": "Naypyitaw",
           "offsetgroup": "Naypyitaw",
           "orientation": "v",
           "showlegend": true,
           "textposition": "auto",
           "type": "bar",
           "x": [
            "Naypyitaw",
            "Naypyitaw",
            "Naypyitaw"
           ],
           "xaxis": "x",
           "y": [
            437.325,
            78.0045,
            88.368
           ],
           "yaxis": "y"
          },
          {
           "alignmentgroup": "True",
           "hovertemplate": "city=%{x}<br>date=1/13/2019<br>total=%{y}<extra></extra>",
           "ids": [
            "B",
            "B",
            "B"
           ],
           "legendgroup": "Mandalay",
           "marker": {
            "color": "#00cc96",
            "pattern": {
             "shape": ""
            }
           },
           "name": "Mandalay",
           "offsetgroup": "Mandalay",
           "orientation": "v",
           "showlegend": true,
           "textposition": "auto",
           "type": "bar",
           "x": [
            "Mandalay",
            "Mandalay",
            "Mandalay"
           ],
           "xaxis": "x",
           "y": [
            125.706,
            152.019,
            457.38
           ],
           "yaxis": "y"
          }
         ],
         "name": "1/13/2019"
        },
        {
         "data": [
          {
           "alignmentgroup": "True",
           "hovertemplate": "city=%{x}<br>date=01/09/2019<br>total=%{y}<extra></extra>",
           "ids": [
            "A"
           ],
           "legendgroup": "Yangon",
           "marker": {
            "color": "#636efa",
            "pattern": {
             "shape": ""
            }
           },
           "name": "Yangon",
           "offsetgroup": "Yangon",
           "orientation": "v",
           "showlegend": true,
           "textposition": "auto",
           "type": "bar",
           "x": [
            "Yangon"
           ],
           "xaxis": "x",
           "y": [
            202.335
           ],
           "yaxis": "y"
          },
          {
           "alignmentgroup": "True",
           "hovertemplate": "city=%{x}<br>date=01/09/2019<br>total=%{y}<extra></extra>",
           "ids": [
            "C",
            "C",
            "C",
            "C",
            "C"
           ],
           "legendgroup": "Naypyitaw",
           "marker": {
            "color": "#EF553B",
            "pattern": {
             "shape": ""
            }
           },
           "name": "Naypyitaw",
           "offsetgroup": "Naypyitaw",
           "orientation": "v",
           "showlegend": true,
           "textposition": "auto",
           "type": "bar",
           "x": [
            "Naypyitaw",
            "Naypyitaw",
            "Naypyitaw",
            "Naypyitaw",
            "Naypyitaw"
           ],
           "xaxis": "x",
           "y": [
            463.428,
            1002.12,
            310.716,
            165.9,
            708.3195
           ],
           "yaxis": "y"
          },
          {
           "alignmentgroup": "True",
           "hovertemplate": "city=%{x}<br>date=01/09/2019<br>total=%{y}<extra></extra>",
           "ids": [
            "B",
            "B"
           ],
           "legendgroup": "Mandalay",
           "marker": {
            "color": "#00cc96",
            "pattern": {
             "shape": ""
            }
           },
           "name": "Mandalay",
           "offsetgroup": "Mandalay",
           "orientation": "v",
           "showlegend": true,
           "textposition": "auto",
           "type": "bar",
           "x": [
            "Mandalay",
            "Mandalay"
           ],
           "xaxis": "x",
           "y": [
            99.54,
            68.985
           ],
           "yaxis": "y"
          }
         ],
         "name": "01/09/2019"
        },
        {
         "data": [
          {
           "alignmentgroup": "True",
           "hovertemplate": "city=%{x}<br>date=01/12/2019<br>total=%{y}<extra></extra>",
           "ids": [
            "A",
            "A",
            "A"
           ],
           "legendgroup": "Yangon",
           "marker": {
            "color": "#636efa",
            "pattern": {
             "shape": ""
            }
           },
           "name": "Yangon",
           "offsetgroup": "Yangon",
           "orientation": "v",
           "showlegend": true,
           "textposition": "auto",
           "type": "bar",
           "x": [
            "Yangon",
            "Yangon",
            "Yangon"
           ],
           "xaxis": "x",
           "y": [
            189.0945,
            931.035,
            308.91
           ],
           "yaxis": "y"
          },
          {
           "alignmentgroup": "True",
           "hovertemplate": "city=%{x}<br>date=01/12/2019<br>total=%{y}<extra></extra>",
           "ids": [
            "C",
            "C"
           ],
           "legendgroup": "Naypyitaw",
           "marker": {
            "color": "#EF553B",
            "pattern": {
             "shape": ""
            }
           },
           "name": "Naypyitaw",
           "offsetgroup": "Naypyitaw",
           "orientation": "v",
           "showlegend": true,
           "textposition": "auto",
           "type": "bar",
           "x": [
            "Naypyitaw",
            "Naypyitaw"
           ],
           "xaxis": "x",
           "y": [
            419.832,
            1023.75
           ],
           "yaxis": "y"
          },
          {
           "alignmentgroup": "True",
           "hovertemplate": "city=%{x}<br>date=01/12/2019<br>total=%{y}<extra></extra>",
           "ids": [
            "B",
            "B",
            "B",
            "B",
            "B",
            "B"
           ],
           "legendgroup": "Mandalay",
           "marker": {
            "color": "#00cc96",
            "pattern": {
             "shape": ""
            }
           },
           "name": "Mandalay",
           "offsetgroup": "Mandalay",
           "orientation": "v",
           "showlegend": true,
           "textposition": "auto",
           "type": "bar",
           "x": [
            "Mandalay",
            "Mandalay",
            "Mandalay",
            "Mandalay",
            "Mandalay",
            "Mandalay"
           ],
           "xaxis": "x",
           "y": [
            120.162,
            28.4235,
            874.125,
            769.104,
            144.963,
            375.3645
           ],
           "yaxis": "y"
          }
         ],
         "name": "01/12/2019"
        },
        {
         "data": [
          {
           "alignmentgroup": "True",
           "hovertemplate": "city=%{x}<br>date=1/26/2019<br>total=%{y}<extra></extra>",
           "ids": [
            "A",
            "A",
            "A"
           ],
           "legendgroup": "Yangon",
           "marker": {
            "color": "#636efa",
            "pattern": {
             "shape": ""
            }
           },
           "name": "Yangon",
           "offsetgroup": "Yangon",
           "orientation": "v",
           "showlegend": true,
           "textposition": "auto",
           "type": "bar",
           "x": [
            "Yangon",
            "Yangon",
            "Yangon"
           ],
           "xaxis": "x",
           "y": [
            379.9215,
            12.6945,
            22.386
           ],
           "yaxis": "y"
          },
          {
           "alignmentgroup": "True",
           "hovertemplate": "city=%{x}<br>date=1/26/2019<br>total=%{y}<extra></extra>",
           "ids": [
            "C",
            "C",
            "C",
            "C"
           ],
           "legendgroup": "Naypyitaw",
           "marker": {
            "color": "#EF553B",
            "pattern": {
             "shape": ""
            }
           },
           "name": "Naypyitaw",
           "offsetgroup": "Naypyitaw",
           "orientation": "v",
           "showlegend": true,
           "textposition": "auto",
           "type": "bar",
           "x": [
            "Naypyitaw",
            "Naypyitaw",
            "Naypyitaw",
            "Naypyitaw"
           ],
           "xaxis": "x",
           "y": [
            471.03,
            193.4625,
            68.2395,
            106.5015
           ],
           "yaxis": "y"
          },
          {
           "alignmentgroup": "True",
           "hovertemplate": "city=%{x}<br>date=1/26/2019<br>total=%{y}<extra></extra>",
           "ids": [
            "B",
            "B",
            "B",
            "B",
            "B",
            "B",
            "B",
            "B",
            "B",
            "B"
           ],
           "legendgroup": "Mandalay",
           "marker": {
            "color": "#00cc96",
            "pattern": {
             "shape": ""
            }
           },
           "name": "Mandalay",
           "offsetgroup": "Mandalay",
           "orientation": "v",
           "showlegend": true,
           "textposition": "auto",
           "type": "bar",
           "x": [
            "Mandalay",
            "Mandalay",
            "Mandalay",
            "Mandalay",
            "Mandalay",
            "Mandalay",
            "Mandalay",
            "Mandalay",
            "Mandalay",
            "Mandalay"
           ],
           "xaxis": "x",
           "y": [
            304.542,
            420.2625,
            107.31,
            655.5465,
            170.877,
            398.475,
            270.585,
            165.648,
            69.993,
            640.038
           ],
           "yaxis": "y"
          }
         ],
         "name": "1/26/2019"
        },
        {
         "data": [
          {
           "alignmentgroup": "True",
           "hovertemplate": "city=%{x}<br>date=1/23/2019<br>total=%{y}<extra></extra>",
           "ids": [
            "A",
            "A",
            "A",
            "A",
            "A",
            "A",
            "A"
           ],
           "legendgroup": "Yangon",
           "marker": {
            "color": "#636efa",
            "pattern": {
             "shape": ""
            }
           },
           "name": "Yangon",
           "offsetgroup": "Yangon",
           "orientation": "v",
           "showlegend": true,
           "textposition": "auto",
           "type": "bar",
           "x": [
            "Yangon",
            "Yangon",
            "Yangon",
            "Yangon",
            "Yangon",
            "Yangon",
            "Yangon"
           ],
           "xaxis": "x",
           "y": [
            94.185,
            416.178,
            32.1405,
            620.739,
            503.7375,
            450.1035,
            244.23
           ],
           "yaxis": "y"
          },
          {
           "alignmentgroup": "True",
           "hovertemplate": "city=%{x}<br>date=1/23/2019<br>total=%{y}<extra></extra>",
           "ids": [
            "C",
            "C",
            "C",
            "C",
            "C",
            "C",
            "C",
            "C",
            "C",
            "C"
           ],
           "legendgroup": "Naypyitaw",
           "marker": {
            "color": "#EF553B",
            "pattern": {
             "shape": ""
            }
           },
           "name": "Naypyitaw",
           "offsetgroup": "Naypyitaw",
           "orientation": "v",
           "showlegend": true,
           "textposition": "auto",
           "type": "bar",
           "x": [
            "Naypyitaw",
            "Naypyitaw",
            "Naypyitaw",
            "Naypyitaw",
            "Naypyitaw",
            "Naypyitaw",
            "Naypyitaw",
            "Naypyitaw",
            "Naypyitaw",
            "Naypyitaw"
           ],
           "xaxis": "x",
           "y": [
            161.7,
            198.996,
            942.9,
            323.148,
            264.7575,
            527.751,
            87.234,
            57.6975,
            333.984,
            734.706
           ],
           "yaxis": "y"
          }
         ],
         "name": "1/23/2019"
        },
        {
         "data": [
          {
           "alignmentgroup": "True",
           "hovertemplate": "city=%{x}<br>date=2/23/2019<br>total=%{y}<extra></extra>",
           "ids": [
            "A"
           ],
           "legendgroup": "Yangon",
           "marker": {
            "color": "#636efa",
            "pattern": {
             "shape": ""
            }
           },
           "name": "Yangon",
           "offsetgroup": "Yangon",
           "orientation": "v",
           "showlegend": true,
           "textposition": "auto",
           "type": "bar",
           "x": [
            "Yangon"
           ],
           "xaxis": "x",
           "y": [
            308.574
           ],
           "yaxis": "y"
          },
          {
           "alignmentgroup": "True",
           "hovertemplate": "city=%{x}<br>date=2/23/2019<br>total=%{y}<extra></extra>",
           "ids": [
            "C",
            "C",
            "C"
           ],
           "legendgroup": "Naypyitaw",
           "marker": {
            "color": "#EF553B",
            "pattern": {
             "shape": ""
            }
           },
           "name": "Naypyitaw",
           "offsetgroup": "Naypyitaw",
           "orientation": "v",
           "showlegend": true,
           "textposition": "auto",
           "type": "bar",
           "x": [
            "Naypyitaw",
            "Naypyitaw",
            "Naypyitaw"
           ],
           "xaxis": "x",
           "y": [
            337.512,
            37.6845,
            429.1665
           ],
           "yaxis": "y"
          },
          {
           "alignmentgroup": "True",
           "hovertemplate": "city=%{x}<br>date=2/23/2019<br>total=%{y}<extra></extra>",
           "ids": [
            "B",
            "B",
            "B",
            "B"
           ],
           "legendgroup": "Mandalay",
           "marker": {
            "color": "#00cc96",
            "pattern": {
             "shape": ""
            }
           },
           "name": "Mandalay",
           "offsetgroup": "Mandalay",
           "orientation": "v",
           "showlegend": true,
           "textposition": "auto",
           "type": "bar",
           "x": [
            "Mandalay",
            "Mandalay",
            "Mandalay",
            "Mandalay"
           ],
           "xaxis": "x",
           "y": [
            125.664,
            311.1885,
            75.474,
            714.3255
           ],
           "yaxis": "y"
          }
         ],
         "name": "2/23/2019"
        },
        {
         "data": [
          {
           "alignmentgroup": "True",
           "hovertemplate": "city=%{x}<br>date=01/02/2019<br>total=%{y}<extra></extra>",
           "ids": [
            "A",
            "A"
           ],
           "legendgroup": "Yangon",
           "marker": {
            "color": "#636efa",
            "pattern": {
             "shape": ""
            }
           },
           "name": "Yangon",
           "offsetgroup": "Yangon",
           "orientation": "v",
           "showlegend": true,
           "textposition": "auto",
           "type": "bar",
           "x": [
            "Yangon",
            "Yangon"
           ],
           "xaxis": "x",
           "y": [
            44.5935,
            262.458
           ],
           "yaxis": "y"
          },
          {
           "alignmentgroup": "True",
           "hovertemplate": "city=%{x}<br>date=01/02/2019<br>total=%{y}<extra></extra>",
           "ids": [
            "C",
            "C"
           ],
           "legendgroup": "Naypyitaw",
           "marker": {
            "color": "#EF553B",
            "pattern": {
             "shape": ""
            }
           },
           "name": "Naypyitaw",
           "offsetgroup": "Naypyitaw",
           "orientation": "v",
           "showlegend": true,
           "textposition": "auto",
           "type": "bar",
           "x": [
            "Naypyitaw",
            "Naypyitaw"
           ],
           "xaxis": "x",
           "y": [
            209.622,
            266.028
           ],
           "yaxis": "y"
          },
          {
           "alignmentgroup": "True",
           "hovertemplate": "city=%{x}<br>date=01/02/2019<br>total=%{y}<extra></extra>",
           "ids": [
            "B",
            "B",
            "B",
            "B"
           ],
           "legendgroup": "Mandalay",
           "marker": {
            "color": "#00cc96",
            "pattern": {
             "shape": ""
            }
           },
           "name": "Mandalay",
           "offsetgroup": "Mandalay",
           "orientation": "v",
           "showlegend": true,
           "textposition": "auto",
           "type": "bar",
           "x": [
            "Mandalay",
            "Mandalay",
            "Mandalay",
            "Mandalay"
           ],
           "xaxis": "x",
           "y": [
            359.205,
            383.7645,
            138.663,
            281.169
           ],
           "yaxis": "y"
          }
         ],
         "name": "01/02/2019"
        },
        {
         "data": [
          {
           "alignmentgroup": "True",
           "hovertemplate": "city=%{x}<br>date=02/09/2019<br>total=%{y}<extra></extra>",
           "ids": [
            "A",
            "A",
            "A"
           ],
           "legendgroup": "Yangon",
           "marker": {
            "color": "#636efa",
            "pattern": {
             "shape": ""
            }
           },
           "name": "Yangon",
           "offsetgroup": "Yangon",
           "orientation": "v",
           "showlegend": true,
           "textposition": "auto",
           "type": "bar",
           "x": [
            "Yangon",
            "Yangon",
            "Yangon"
           ],
           "xaxis": "x",
           "y": [
            233.52,
            331.128,
            33.432
           ],
           "yaxis": "y"
          },
          {
           "alignmentgroup": "True",
           "hovertemplate": "city=%{x}<br>date=02/09/2019<br>total=%{y}<extra></extra>",
           "ids": [
            "C",
            "C",
            "C",
            "C",
            "C",
            "C"
           ],
           "legendgroup": "Naypyitaw",
           "marker": {
            "color": "#EF553B",
            "pattern": {
             "shape": ""
            }
           },
           "name": "Naypyitaw",
           "offsetgroup": "Naypyitaw",
           "orientation": "v",
           "showlegend": true,
           "textposition": "auto",
           "type": "bar",
           "x": [
            "Naypyitaw",
            "Naypyitaw",
            "Naypyitaw",
            "Naypyitaw",
            "Naypyitaw",
            "Naypyitaw"
           ],
           "xaxis": "x",
           "y": [
            78.435,
            472.311,
            66.402,
            22.659,
            100.485,
            888.405
           ],
           "yaxis": "y"
          },
          {
           "alignmentgroup": "True",
           "hovertemplate": "city=%{x}<br>date=02/09/2019<br>total=%{y}<extra></extra>",
           "ids": [
            "B",
            "B",
            "B",
            "B"
           ],
           "legendgroup": "Mandalay",
           "marker": {
            "color": "#00cc96",
            "pattern": {
             "shape": ""
            }
           },
           "name": "Mandalay",
           "offsetgroup": "Mandalay",
           "orientation": "v",
           "showlegend": true,
           "textposition": "auto",
           "type": "bar",
           "x": [
            "Mandalay",
            "Mandalay",
            "Mandalay",
            "Mandalay"
           ],
           "xaxis": "x",
           "y": [
            256.41,
            180.4005,
            193.074,
            415.233
           ],
           "yaxis": "y"
          }
         ],
         "name": "02/09/2019"
        },
        {
         "data": [
          {
           "alignmentgroup": "True",
           "hovertemplate": "city=%{x}<br>date=3/26/2019<br>total=%{y}<extra></extra>",
           "ids": [
            "A",
            "A",
            "A",
            "A",
            "A",
            "A"
           ],
           "legendgroup": "Yangon",
           "marker": {
            "color": "#636efa",
            "pattern": {
             "shape": ""
            }
           },
           "name": "Yangon",
           "offsetgroup": "Yangon",
           "orientation": "v",
           "showlegend": true,
           "textposition": "auto",
           "type": "bar",
           "x": [
            "Yangon",
            "Yangon",
            "Yangon",
            "Yangon",
            "Yangon",
            "Yangon"
           ],
           "xaxis": "x",
           "y": [
            530.67,
            269.934,
            56.1225,
            130.032,
            54.999,
            145.5825
           ],
           "yaxis": "y"
          },
          {
           "alignmentgroup": "True",
           "hovertemplate": "city=%{x}<br>date=3/26/2019<br>total=%{y}<extra></extra>",
           "ids": [
            "C",
            "C",
            "C",
            "C"
           ],
           "legendgroup": "Naypyitaw",
           "marker": {
            "color": "#EF553B",
            "pattern": {
             "shape": ""
            }
           },
           "name": "Naypyitaw",
           "offsetgroup": "Naypyitaw",
           "orientation": "v",
           "showlegend": true,
           "textposition": "auto",
           "type": "bar",
           "x": [
            "Naypyitaw",
            "Naypyitaw",
            "Naypyitaw",
            "Naypyitaw"
           ],
           "xaxis": "x",
           "y": [
            51.1455,
            91.77,
            154.1295,
            176.925
           ],
           "yaxis": "y"
          },
          {
           "alignmentgroup": "True",
           "hovertemplate": "city=%{x}<br>date=3/26/2019<br>total=%{y}<extra></extra>",
           "ids": [
            "B",
            "B",
            "B"
           ],
           "legendgroup": "Mandalay",
           "marker": {
            "color": "#00cc96",
            "pattern": {
             "shape": ""
            }
           },
           "name": "Mandalay",
           "offsetgroup": "Mandalay",
           "orientation": "v",
           "showlegend": true,
           "textposition": "auto",
           "type": "bar",
           "x": [
            "Mandalay",
            "Mandalay",
            "Mandalay"
           ],
           "xaxis": "x",
           "y": [
            41.076,
            143.9865,
            116.1405
           ],
           "yaxis": "y"
          }
         ],
         "name": "3/26/2019"
        },
        {
         "data": [
          {
           "alignmentgroup": "True",
           "hovertemplate": "city=%{x}<br>date=03/01/2019<br>total=%{y}<extra></extra>",
           "ids": [
            "A",
            "A",
            "A"
           ],
           "legendgroup": "Yangon",
           "marker": {
            "color": "#636efa",
            "pattern": {
             "shape": ""
            }
           },
           "name": "Yangon",
           "offsetgroup": "Yangon",
           "orientation": "v",
           "showlegend": true,
           "textposition": "auto",
           "type": "bar",
           "x": [
            "Yangon",
            "Yangon",
            "Yangon"
           ],
           "xaxis": "x",
           "y": [
            72.933,
            477.54,
            93.744
           ],
           "yaxis": "y"
          },
          {
           "alignmentgroup": "True",
           "hovertemplate": "city=%{x}<br>date=03/01/2019<br>total=%{y}<extra></extra>",
           "ids": [
            "C",
            "C"
           ],
           "legendgroup": "Naypyitaw",
           "marker": {
            "color": "#EF553B",
            "pattern": {
             "shape": ""
            }
           },
           "name": "Naypyitaw",
           "offsetgroup": "Naypyitaw",
           "orientation": "v",
           "showlegend": true,
           "textposition": "auto",
           "type": "bar",
           "x": [
            "Naypyitaw",
            "Naypyitaw"
           ],
           "xaxis": "x",
           "y": [
            742.2975,
            314.538
           ],
           "yaxis": "y"
          },
          {
           "alignmentgroup": "True",
           "hovertemplate": "city=%{x}<br>date=03/01/2019<br>total=%{y}<extra></extra>",
           "ids": [
            "B",
            "B",
            "B",
            "B",
            "B"
           ],
           "legendgroup": "Mandalay",
           "marker": {
            "color": "#00cc96",
            "pattern": {
             "shape": ""
            }
           },
           "name": "Mandalay",
           "offsetgroup": "Mandalay",
           "orientation": "v",
           "showlegend": true,
           "textposition": "auto",
           "type": "bar",
           "x": [
            "Mandalay",
            "Mandalay",
            "Mandalay",
            "Mandalay",
            "Mandalay"
           ],
           "xaxis": "x",
           "y": [
            86.625,
            597.6285,
            145.971,
            46.683,
            56.406
           ],
           "yaxis": "y"
          }
         ],
         "name": "03/01/2019"
        },
        {
         "data": [
          {
           "alignmentgroup": "True",
           "hovertemplate": "city=%{x}<br>date=02/01/2019<br>total=%{y}<extra></extra>",
           "ids": [
            "A",
            "A",
            "A"
           ],
           "legendgroup": "Yangon",
           "marker": {
            "color": "#636efa",
            "pattern": {
             "shape": ""
            }
           },
           "name": "Yangon",
           "offsetgroup": "Yangon",
           "orientation": "v",
           "showlegend": true,
           "textposition": "auto",
           "type": "bar",
           "x": [
            "Yangon",
            "Yangon",
            "Yangon"
           ],
           "xaxis": "x",
           "y": [
            510.972,
            74.7075,
            326.256
           ],
           "yaxis": "y"
          },
          {
           "alignmentgroup": "True",
           "hovertemplate": "city=%{x}<br>date=02/01/2019<br>total=%{y}<extra></extra>",
           "ids": [
            "C",
            "C",
            "C"
           ],
           "legendgroup": "Naypyitaw",
           "marker": {
            "color": "#EF553B",
            "pattern": {
             "shape": ""
            }
           },
           "name": "Naypyitaw",
           "offsetgroup": "Naypyitaw",
           "orientation": "v",
           "showlegend": true,
           "textposition": "auto",
           "type": "bar",
           "x": [
            "Naypyitaw",
            "Naypyitaw",
            "Naypyitaw"
           ],
           "xaxis": "x",
           "y": [
            218.0115,
            763.4655,
            551.124
           ],
           "yaxis": "y"
          }
         ],
         "name": "02/01/2019"
        },
        {
         "data": [
          {
           "alignmentgroup": "True",
           "hovertemplate": "city=%{x}<br>date=3/28/2019<br>total=%{y}<extra></extra>",
           "ids": [
            "A",
            "A",
            "A",
            "A",
            "A",
            "A"
           ],
           "legendgroup": "Yangon",
           "marker": {
            "color": "#636efa",
            "pattern": {
             "shape": ""
            }
           },
           "name": "Yangon",
           "offsetgroup": "Yangon",
           "orientation": "v",
           "showlegend": true,
           "textposition": "auto",
           "type": "bar",
           "x": [
            "Yangon",
            "Yangon",
            "Yangon",
            "Yangon",
            "Yangon",
            "Yangon"
           ],
           "xaxis": "x",
           "y": [
            367.038,
            191.247,
            269.535,
            225.792,
            525.231,
            74.088
           ],
           "yaxis": "y"
          },
          {
           "alignmentgroup": "True",
           "hovertemplate": "city=%{x}<br>date=3/28/2019<br>total=%{y}<extra></extra>",
           "ids": [
            "C",
            "C",
            "C"
           ],
           "legendgroup": "Naypyitaw",
           "marker": {
            "color": "#EF553B",
            "pattern": {
             "shape": ""
            }
           },
           "name": "Naypyitaw",
           "offsetgroup": "Naypyitaw",
           "orientation": "v",
           "showlegend": true,
           "textposition": "auto",
           "type": "bar",
           "x": [
            "Naypyitaw",
            "Naypyitaw",
            "Naypyitaw"
           ],
           "xaxis": "x",
           "y": [
            150.0975,
            121.59,
            209.118
           ],
           "yaxis": "y"
          },
          {
           "alignmentgroup": "True",
           "hovertemplate": "city=%{x}<br>date=3/28/2019<br>total=%{y}<extra></extra>",
           "ids": [
            "B"
           ],
           "legendgroup": "Mandalay",
           "marker": {
            "color": "#00cc96",
            "pattern": {
             "shape": ""
            }
           },
           "name": "Mandalay",
           "offsetgroup": "Mandalay",
           "orientation": "v",
           "showlegend": true,
           "textposition": "auto",
           "type": "bar",
           "x": [
            "Mandalay"
           ],
           "xaxis": "x",
           "y": [
            95.6655
           ],
           "yaxis": "y"
          }
         ],
         "name": "3/28/2019"
        },
        {
         "data": [
          {
           "alignmentgroup": "True",
           "hovertemplate": "city=%{x}<br>date=3/24/2019<br>total=%{y}<extra></extra>",
           "ids": [
            "A",
            "A"
           ],
           "legendgroup": "Yangon",
           "marker": {
            "color": "#636efa",
            "pattern": {
             "shape": ""
            }
           },
           "name": "Yangon",
           "offsetgroup": "Yangon",
           "orientation": "v",
           "showlegend": true,
           "textposition": "auto",
           "type": "bar",
           "x": [
            "Yangon",
            "Yangon"
           ],
           "xaxis": "x",
           "y": [
            276.948,
            147.672
           ],
           "yaxis": "y"
          },
          {
           "alignmentgroup": "True",
           "hovertemplate": "city=%{x}<br>date=3/24/2019<br>total=%{y}<extra></extra>",
           "ids": [
            "C",
            "C",
            "C",
            "C",
            "C"
           ],
           "legendgroup": "Naypyitaw",
           "marker": {
            "color": "#EF553B",
            "pattern": {
             "shape": ""
            }
           },
           "name": "Naypyitaw",
           "offsetgroup": "Naypyitaw",
           "orientation": "v",
           "showlegend": true,
           "textposition": "auto",
           "type": "bar",
           "x": [
            "Naypyitaw",
            "Naypyitaw",
            "Naypyitaw",
            "Naypyitaw",
            "Naypyitaw"
           ],
           "xaxis": "x",
           "y": [
            321.111,
            78.603,
            77.175,
            681.975,
            329.196
           ],
           "yaxis": "y"
          },
          {
           "alignmentgroup": "True",
           "hovertemplate": "city=%{x}<br>date=3/24/2019<br>total=%{y}<extra></extra>",
           "ids": [
            "B",
            "B",
            "B",
            "B"
           ],
           "legendgroup": "Mandalay",
           "marker": {
            "color": "#00cc96",
            "pattern": {
             "shape": ""
            }
           },
           "name": "Mandalay",
           "offsetgroup": "Mandalay",
           "orientation": "v",
           "showlegend": true,
           "textposition": "auto",
           "type": "bar",
           "x": [
            "Mandalay",
            "Mandalay",
            "Mandalay",
            "Mandalay"
           ],
           "xaxis": "x",
           "y": [
            130.0425,
            370.125,
            435.12,
            629.496
           ],
           "yaxis": "y"
          }
         ],
         "name": "3/24/2019"
        },
        {
         "data": [
          {
           "alignmentgroup": "True",
           "hovertemplate": "city=%{x}<br>date=02/05/2019<br>total=%{y}<extra></extra>",
           "ids": [
            "A",
            "A",
            "A",
            "A",
            "A"
           ],
           "legendgroup": "Yangon",
           "marker": {
            "color": "#636efa",
            "pattern": {
             "shape": ""
            }
           },
           "name": "Yangon",
           "offsetgroup": "Yangon",
           "orientation": "v",
           "showlegend": true,
           "textposition": "auto",
           "type": "bar",
           "x": [
            "Yangon",
            "Yangon",
            "Yangon",
            "Yangon",
            "Yangon"
           ],
           "xaxis": "x",
           "y": [
            163.233,
            236.88,
            32.151,
            92.295,
            43.869
           ],
           "yaxis": "y"
          },
          {
           "alignmentgroup": "True",
           "hovertemplate": "city=%{x}<br>date=02/05/2019<br>total=%{y}<extra></extra>",
           "ids": [
            "C",
            "C",
            "C",
            "C"
           ],
           "legendgroup": "Naypyitaw",
           "marker": {
            "color": "#EF553B",
            "pattern": {
             "shape": ""
            }
           },
           "name": "Naypyitaw",
           "offsetgroup": "Naypyitaw",
           "orientation": "v",
           "showlegend": true,
           "textposition": "auto",
           "type": "bar",
           "x": [
            "Naypyitaw",
            "Naypyitaw",
            "Naypyitaw",
            "Naypyitaw"
           ],
           "xaxis": "x",
           "y": [
            309.3615,
            720.3,
            145.593,
            297.801
           ],
           "yaxis": "y"
          },
          {
           "alignmentgroup": "True",
           "hovertemplate": "city=%{x}<br>date=02/05/2019<br>total=%{y}<extra></extra>",
           "ids": [
            "B",
            "B",
            "B"
           ],
           "legendgroup": "Mandalay",
           "marker": {
            "color": "#00cc96",
            "pattern": {
             "shape": ""
            }
           },
           "name": "Mandalay",
           "offsetgroup": "Mandalay",
           "orientation": "v",
           "showlegend": true,
           "textposition": "auto",
           "type": "bar",
           "x": [
            "Mandalay",
            "Mandalay",
            "Mandalay"
           ],
           "xaxis": "x",
           "y": [
            34.629,
            404.649,
            550.368
           ],
           "yaxis": "y"
          }
         ],
         "name": "02/05/2019"
        },
        {
         "data": [
          {
           "alignmentgroup": "True",
           "hovertemplate": "city=%{x}<br>date=1/19/2019<br>total=%{y}<extra></extra>",
           "ids": [
            "A",
            "A",
            "A",
            "A",
            "A",
            "A",
            "A",
            "A"
           ],
           "legendgroup": "Yangon",
           "marker": {
            "color": "#636efa",
            "pattern": {
             "shape": ""
            }
           },
           "name": "Yangon",
           "offsetgroup": "Yangon",
           "orientation": "v",
           "showlegend": true,
           "textposition": "auto",
           "type": "bar",
           "x": [
            "Yangon",
            "Yangon",
            "Yangon",
            "Yangon",
            "Yangon",
            "Yangon",
            "Yangon",
            "Yangon"
           ],
           "xaxis": "x",
           "y": [
            548.7615,
            323.064,
            282.492,
            673.995,
            37.611,
            284.592,
            624.33,
            479.64
           ],
           "yaxis": "y"
          },
          {
           "alignmentgroup": "True",
           "hovertemplate": "city=%{x}<br>date=1/19/2019<br>total=%{y}<extra></extra>",
           "ids": [
            "C",
            "C",
            "C",
            "C",
            "C"
           ],
           "legendgroup": "Naypyitaw",
           "marker": {
            "color": "#EF553B",
            "pattern": {
             "shape": ""
            }
           },
           "name": "Naypyitaw",
           "offsetgroup": "Naypyitaw",
           "orientation": "v",
           "showlegend": true,
           "textposition": "auto",
           "type": "bar",
           "x": [
            "Naypyitaw",
            "Naypyitaw",
            "Naypyitaw",
            "Naypyitaw",
            "Naypyitaw"
           ],
           "xaxis": "x",
           "y": [
            362.712,
            93.0405,
            84.9765,
            235.746,
            250.278
           ],
           "yaxis": "y"
          },
          {
           "alignmentgroup": "True",
           "hovertemplate": "city=%{x}<br>date=1/19/2019<br>total=%{y}<extra></extra>",
           "ids": [
            "B",
            "B",
            "B"
           ],
           "legendgroup": "Mandalay",
           "marker": {
            "color": "#00cc96",
            "pattern": {
             "shape": ""
            }
           },
           "name": "Mandalay",
           "offsetgroup": "Mandalay",
           "orientation": "v",
           "showlegend": true,
           "textposition": "auto",
           "type": "bar",
           "x": [
            "Mandalay",
            "Mandalay",
            "Mandalay"
           ],
           "xaxis": "x",
           "y": [
            333.207,
            198.639,
            101.64
           ],
           "yaxis": "y"
          }
         ],
         "name": "1/19/2019"
        },
        {
         "data": [
          {
           "alignmentgroup": "True",
           "hovertemplate": "city=%{x}<br>date=1/16/2019<br>total=%{y}<extra></extra>",
           "ids": [
            "A",
            "A"
           ],
           "legendgroup": "Yangon",
           "marker": {
            "color": "#636efa",
            "pattern": {
             "shape": ""
            }
           },
           "name": "Yangon",
           "offsetgroup": "Yangon",
           "orientation": "v",
           "showlegend": true,
           "textposition": "auto",
           "type": "bar",
           "x": [
            "Yangon",
            "Yangon"
           ],
           "xaxis": "x",
           "y": [
            667.38,
            195.678
           ],
           "yaxis": "y"
          },
          {
           "alignmentgroup": "True",
           "hovertemplate": "city=%{x}<br>date=1/16/2019<br>total=%{y}<extra></extra>",
           "ids": [
            "C",
            "C",
            "C",
            "C",
            "C"
           ],
           "legendgroup": "Naypyitaw",
           "marker": {
            "color": "#EF553B",
            "pattern": {
             "shape": ""
            }
           },
           "name": "Naypyitaw",
           "offsetgroup": "Naypyitaw",
           "orientation": "v",
           "showlegend": true,
           "textposition": "auto",
           "type": "bar",
           "x": [
            "Naypyitaw",
            "Naypyitaw",
            "Naypyitaw",
            "Naypyitaw",
            "Naypyitaw"
           ],
           "xaxis": "x",
           "y": [
            1003.59,
            881.307,
            32.529,
            125.979,
            497.07
           ],
           "yaxis": "y"
          },
          {
           "alignmentgroup": "True",
           "hovertemplate": "city=%{x}<br>date=1/16/2019<br>total=%{y}<extra></extra>",
           "ids": [
            "B",
            "B",
            "B"
           ],
           "legendgroup": "Mandalay",
           "marker": {
            "color": "#00cc96",
            "pattern": {
             "shape": ""
            }
           },
           "name": "Mandalay",
           "offsetgroup": "Mandalay",
           "orientation": "v",
           "showlegend": true,
           "textposition": "auto",
           "type": "bar",
           "x": [
            "Mandalay",
            "Mandalay",
            "Mandalay"
           ],
           "xaxis": "x",
           "y": [
            53.928,
            666.939,
            164.682
           ],
           "yaxis": "y"
          }
         ],
         "name": "1/16/2019"
        },
        {
         "data": [
          {
           "alignmentgroup": "True",
           "hovertemplate": "city=%{x}<br>date=01/08/2019<br>total=%{y}<extra></extra>",
           "ids": [
            "A",
            "A",
            "A",
            "A"
           ],
           "legendgroup": "Yangon",
           "marker": {
            "color": "#636efa",
            "pattern": {
             "shape": ""
            }
           },
           "name": "Yangon",
           "offsetgroup": "Yangon",
           "orientation": "v",
           "showlegend": true,
           "textposition": "auto",
           "type": "bar",
           "x": [
            "Yangon",
            "Yangon",
            "Yangon",
            "Yangon"
           ],
           "xaxis": "x",
           "y": [
            194.985,
            210.966,
            26.796,
            250.7085
           ],
           "yaxis": "y"
          },
          {
           "alignmentgroup": "True",
           "hovertemplate": "city=%{x}<br>date=01/08/2019<br>total=%{y}<extra></extra>",
           "ids": [
            "C",
            "C",
            "C",
            "C",
            "C",
            "C",
            "C",
            "C"
           ],
           "legendgroup": "Naypyitaw",
           "marker": {
            "color": "#EF553B",
            "pattern": {
             "shape": ""
            }
           },
           "name": "Naypyitaw",
           "offsetgroup": "Naypyitaw",
           "orientation": "v",
           "showlegend": true,
           "textposition": "auto",
           "type": "bar",
           "x": [
            "Naypyitaw",
            "Naypyitaw",
            "Naypyitaw",
            "Naypyitaw",
            "Naypyitaw",
            "Naypyitaw",
            "Naypyitaw",
            "Naypyitaw"
           ],
           "xaxis": "x",
           "y": [
            299.8485,
            575.736,
            190.596,
            13.419,
            381.3915,
            175.0455,
            688.716,
            76.5765
           ],
           "yaxis": "y"
          },
          {
           "alignmentgroup": "True",
           "hovertemplate": "city=%{x}<br>date=01/08/2019<br>total=%{y}<extra></extra>",
           "ids": [
            "B",
            "B",
            "B",
            "B",
            "B",
            "B"
           ],
           "legendgroup": "Mandalay",
           "marker": {
            "color": "#00cc96",
            "pattern": {
             "shape": ""
            }
           },
           "name": "Mandalay",
           "offsetgroup": "Mandalay",
           "orientation": "v",
           "showlegend": true,
           "textposition": "auto",
           "type": "bar",
           "x": [
            "Mandalay",
            "Mandalay",
            "Mandalay",
            "Mandalay",
            "Mandalay",
            "Mandalay"
           ],
           "xaxis": "x",
           "y": [
            783.3,
            152.775,
            103.11,
            136.143,
            684.915,
            348.705
           ],
           "yaxis": "y"
          }
         ],
         "name": "01/08/2019"
        },
        {
         "data": [
          {
           "alignmentgroup": "True",
           "hovertemplate": "city=%{x}<br>date=2/18/2019<br>total=%{y}<extra></extra>",
           "ids": [
            "A",
            "A",
            "A"
           ],
           "legendgroup": "Yangon",
           "marker": {
            "color": "#636efa",
            "pattern": {
             "shape": ""
            }
           },
           "name": "Yangon",
           "offsetgroup": "Yangon",
           "orientation": "v",
           "showlegend": true,
           "textposition": "auto",
           "type": "bar",
           "x": [
            "Yangon",
            "Yangon",
            "Yangon"
           ],
           "xaxis": "x",
           "y": [
            216.846,
            65.604,
            649.299
           ],
           "yaxis": "y"
          },
          {
           "alignmentgroup": "True",
           "hovertemplate": "city=%{x}<br>date=2/18/2019<br>total=%{y}<extra></extra>",
           "ids": [
            "C",
            "C",
            "C"
           ],
           "legendgroup": "Naypyitaw",
           "marker": {
            "color": "#EF553B",
            "pattern": {
             "shape": ""
            }
           },
           "name": "Naypyitaw",
           "offsetgroup": "Naypyitaw",
           "orientation": "v",
           "showlegend": true,
           "textposition": "auto",
           "type": "bar",
           "x": [
            "Naypyitaw",
            "Naypyitaw",
            "Naypyitaw"
           ],
           "xaxis": "x",
           "y": [
            284.193,
            185.094,
            63.9975
           ],
           "yaxis": "y"
          },
          {
           "alignmentgroup": "True",
           "hovertemplate": "city=%{x}<br>date=2/18/2019<br>total=%{y}<extra></extra>",
           "ids": [
            "B"
           ],
           "legendgroup": "Mandalay",
           "marker": {
            "color": "#00cc96",
            "pattern": {
             "shape": ""
            }
           },
           "name": "Mandalay",
           "offsetgroup": "Mandalay",
           "orientation": "v",
           "showlegend": true,
           "textposition": "auto",
           "type": "bar",
           "x": [
            "Mandalay"
           ],
           "xaxis": "x",
           "y": [
            30.996
           ],
           "yaxis": "y"
          }
         ],
         "name": "2/18/2019"
        },
        {
         "data": [
          {
           "alignmentgroup": "True",
           "hovertemplate": "city=%{x}<br>date=1/18/2019<br>total=%{y}<extra></extra>",
           "ids": [
            "A",
            "A",
            "A",
            "A"
           ],
           "legendgroup": "Yangon",
           "marker": {
            "color": "#636efa",
            "pattern": {
             "shape": ""
            }
           },
           "name": "Yangon",
           "offsetgroup": "Yangon",
           "orientation": "v",
           "showlegend": true,
           "textposition": "auto",
           "type": "bar",
           "x": [
            "Yangon",
            "Yangon",
            "Yangon",
            "Yangon"
           ],
           "xaxis": "x",
           "y": [
            138.1275,
            182.952,
            277.6725,
            561.078
           ],
           "yaxis": "y"
          },
          {
           "alignmentgroup": "True",
           "hovertemplate": "city=%{x}<br>date=1/18/2019<br>total=%{y}<extra></extra>",
           "ids": [
            "C",
            "C",
            "C"
           ],
           "legendgroup": "Naypyitaw",
           "marker": {
            "color": "#EF553B",
            "pattern": {
             "shape": ""
            }
           },
           "name": "Naypyitaw",
           "offsetgroup": "Naypyitaw",
           "orientation": "v",
           "showlegend": true,
           "textposition": "auto",
           "type": "bar",
           "x": [
            "Naypyitaw",
            "Naypyitaw",
            "Naypyitaw"
           ],
           "xaxis": "x",
           "y": [
            41.391,
            856.4535,
            446.439
           ],
           "yaxis": "y"
          },
          {
           "alignmentgroup": "True",
           "hovertemplate": "city=%{x}<br>date=1/18/2019<br>total=%{y}<extra></extra>",
           "ids": [
            "B",
            "B"
           ],
           "legendgroup": "Mandalay",
           "marker": {
            "color": "#00cc96",
            "pattern": {
             "shape": ""
            }
           },
           "name": "Mandalay",
           "offsetgroup": "Mandalay",
           "orientation": "v",
           "showlegend": true,
           "textposition": "auto",
           "type": "bar",
           "x": [
            "Mandalay",
            "Mandalay"
           ],
           "xaxis": "x",
           "y": [
            166.236,
            110.124
           ],
           "yaxis": "y"
          }
         ],
         "name": "1/18/2019"
        },
        {
         "data": [
          {
           "alignmentgroup": "True",
           "hovertemplate": "city=%{x}<br>date=2/16/2019<br>total=%{y}<extra></extra>",
           "ids": [
            "A"
           ],
           "legendgroup": "Yangon",
           "marker": {
            "color": "#636efa",
            "pattern": {
             "shape": ""
            }
           },
           "name": "Yangon",
           "offsetgroup": "Yangon",
           "orientation": "v",
           "showlegend": true,
           "textposition": "auto",
           "type": "bar",
           "x": [
            "Yangon"
           ],
           "xaxis": "x",
           "y": [
            182.427
           ],
           "yaxis": "y"
          },
          {
           "alignmentgroup": "True",
           "hovertemplate": "city=%{x}<br>date=2/16/2019<br>total=%{y}<extra></extra>",
           "ids": [
            "C",
            "C",
            "C"
           ],
           "legendgroup": "Naypyitaw",
           "marker": {
            "color": "#EF553B",
            "pattern": {
             "shape": ""
            }
           },
           "name": "Naypyitaw",
           "offsetgroup": "Naypyitaw",
           "orientation": "v",
           "showlegend": true,
           "textposition": "auto",
           "type": "bar",
           "x": [
            "Naypyitaw",
            "Naypyitaw",
            "Naypyitaw"
           ],
           "xaxis": "x",
           "y": [
            718.7565,
            63.2625,
            300.573
           ],
           "yaxis": "y"
          },
          {
           "alignmentgroup": "True",
           "hovertemplate": "city=%{x}<br>date=2/16/2019<br>total=%{y}<extra></extra>",
           "ids": [
            "B",
            "B",
            "B",
            "B"
           ],
           "legendgroup": "Mandalay",
           "marker": {
            "color": "#00cc96",
            "pattern": {
             "shape": ""
            }
           },
           "name": "Mandalay",
           "offsetgroup": "Mandalay",
           "orientation": "v",
           "showlegend": true,
           "textposition": "auto",
           "type": "bar",
           "x": [
            "Mandalay",
            "Mandalay",
            "Mandalay",
            "Mandalay"
           ],
           "xaxis": "x",
           "y": [
            545.055,
            95.9175,
            252.756,
            345.0195
           ],
           "yaxis": "y"
          }
         ],
         "name": "2/16/2019"
        },
        {
         "data": [
          {
           "alignmentgroup": "True",
           "hovertemplate": "city=%{x}<br>date=2/22/2019<br>total=%{y}<extra></extra>",
           "ids": [
            "A",
            "A",
            "A"
           ],
           "legendgroup": "Yangon",
           "marker": {
            "color": "#636efa",
            "pattern": {
             "shape": ""
            }
           },
           "name": "Yangon",
           "offsetgroup": "Yangon",
           "orientation": "v",
           "showlegend": true,
           "textposition": "auto",
           "type": "bar",
           "x": [
            "Yangon",
            "Yangon",
            "Yangon"
           ],
           "xaxis": "x",
           "y": [
            182.91,
            257.145,
            69.111
           ],
           "yaxis": "y"
          },
          {
           "alignmentgroup": "True",
           "hovertemplate": "city=%{x}<br>date=2/22/2019<br>total=%{y}<extra></extra>",
           "ids": [
            "C",
            "C",
            "C"
           ],
           "legendgroup": "Naypyitaw",
           "marker": {
            "color": "#EF553B",
            "pattern": {
             "shape": ""
            }
           },
           "name": "Naypyitaw",
           "offsetgroup": "Naypyitaw",
           "orientation": "v",
           "showlegend": true,
           "textposition": "auto",
           "type": "bar",
           "x": [
            "Naypyitaw",
            "Naypyitaw",
            "Naypyitaw"
           ],
           "xaxis": "x",
           "y": [
            31.9305,
            701.8515,
            26.733
           ],
           "yaxis": "y"
          },
          {
           "alignmentgroup": "True",
           "hovertemplate": "city=%{x}<br>date=2/22/2019<br>total=%{y}<extra></extra>",
           "ids": [
            "B",
            "B",
            "B",
            "B",
            "B"
           ],
           "legendgroup": "Mandalay",
           "marker": {
            "color": "#00cc96",
            "pattern": {
             "shape": ""
            }
           },
           "name": "Mandalay",
           "offsetgroup": "Mandalay",
           "orientation": "v",
           "showlegend": true,
           "textposition": "auto",
           "type": "bar",
           "x": [
            "Mandalay",
            "Mandalay",
            "Mandalay",
            "Mandalay",
            "Mandalay"
           ],
           "xaxis": "x",
           "y": [
            208.6875,
            49.812,
            513.2295,
            217.2555,
            183.645
           ],
           "yaxis": "y"
          }
         ],
         "name": "2/22/2019"
        },
        {
         "data": [
          {
           "alignmentgroup": "True",
           "hovertemplate": "city=%{x}<br>date=1/29/2019<br>total=%{y}<extra></extra>",
           "ids": [
            "A",
            "A",
            "A",
            "A",
            "A"
           ],
           "legendgroup": "Yangon",
           "marker": {
            "color": "#636efa",
            "pattern": {
             "shape": ""
            }
           },
           "name": "Yangon",
           "offsetgroup": "Yangon",
           "orientation": "v",
           "showlegend": true,
           "textposition": "auto",
           "type": "bar",
           "x": [
            "Yangon",
            "Yangon",
            "Yangon",
            "Yangon",
            "Yangon"
           ],
           "xaxis": "x",
           "y": [
            786.618,
            40.53,
            146.6325,
            458.6925,
            92.442
           ],
           "yaxis": "y"
          },
          {
           "alignmentgroup": "True",
           "hovertemplate": "city=%{x}<br>date=1/29/2019<br>total=%{y}<extra></extra>",
           "ids": [
            "C",
            "C",
            "C",
            "C"
           ],
           "legendgroup": "Naypyitaw",
           "marker": {
            "color": "#EF553B",
            "pattern": {
             "shape": ""
            }
           },
           "name": "Naypyitaw",
           "offsetgroup": "Naypyitaw",
           "orientation": "v",
           "showlegend": true,
           "textposition": "auto",
           "type": "bar",
           "x": [
            "Naypyitaw",
            "Naypyitaw",
            "Naypyitaw",
            "Naypyitaw"
           ],
           "xaxis": "x",
           "y": [
            120.645,
            265.104,
            616.98,
            42.3675
           ],
           "yaxis": "y"
          },
          {
           "alignmentgroup": "True",
           "hovertemplate": "city=%{x}<br>date=1/29/2019<br>total=%{y}<extra></extra>",
           "ids": [
            "B",
            "B",
            "B"
           ],
           "legendgroup": "Mandalay",
           "marker": {
            "color": "#00cc96",
            "pattern": {
             "shape": ""
            }
           },
           "name": "Mandalay",
           "offsetgroup": "Mandalay",
           "orientation": "v",
           "showlegend": true,
           "textposition": "auto",
           "type": "bar",
           "x": [
            "Mandalay",
            "Mandalay",
            "Mandalay"
           ],
           "xaxis": "x",
           "y": [
            137.004,
            529.515,
            280.035
           ],
           "yaxis": "y"
          }
         ],
         "name": "1/29/2019"
        },
        {
         "data": [
          {
           "alignmentgroup": "True",
           "hovertemplate": "city=%{x}<br>date=01/04/2019<br>total=%{y}<extra></extra>",
           "ids": [
            "A",
            "A"
           ],
           "legendgroup": "Yangon",
           "marker": {
            "color": "#636efa",
            "pattern": {
             "shape": ""
            }
           },
           "name": "Yangon",
           "offsetgroup": "Yangon",
           "orientation": "v",
           "showlegend": true,
           "textposition": "auto",
           "type": "bar",
           "x": [
            "Yangon",
            "Yangon"
           ],
           "xaxis": "x",
           "y": [
            373.17,
            110.0925
           ],
           "yaxis": "y"
          },
          {
           "alignmentgroup": "True",
           "hovertemplate": "city=%{x}<br>date=01/04/2019<br>total=%{y}<extra></extra>",
           "ids": [
            "C"
           ],
           "legendgroup": "Naypyitaw",
           "marker": {
            "color": "#EF553B",
            "pattern": {
             "shape": ""
            }
           },
           "name": "Naypyitaw",
           "offsetgroup": "Naypyitaw",
           "orientation": "v",
           "showlegend": true,
           "textposition": "auto",
           "type": "bar",
           "x": [
            "Naypyitaw"
           ],
           "xaxis": "x",
           "y": [
            629.8425
           ],
           "yaxis": "y"
          },
          {
           "alignmentgroup": "True",
           "hovertemplate": "city=%{x}<br>date=01/04/2019<br>total=%{y}<extra></extra>",
           "ids": [
            "B",
            "B",
            "B"
           ],
           "legendgroup": "Mandalay",
           "marker": {
            "color": "#00cc96",
            "pattern": {
             "shape": ""
            }
           },
           "name": "Mandalay",
           "offsetgroup": "Mandalay",
           "orientation": "v",
           "showlegend": true,
           "textposition": "auto",
           "type": "bar",
           "x": [
            "Mandalay",
            "Mandalay",
            "Mandalay"
           ],
           "xaxis": "x",
           "y": [
            75.7785,
            146.223,
            288.582
           ],
           "yaxis": "y"
          }
         ],
         "name": "01/04/2019"
        },
        {
         "data": [
          {
           "alignmentgroup": "True",
           "hovertemplate": "city=%{x}<br>date=3/30/2019<br>total=%{y}<extra></extra>",
           "ids": [
            "A",
            "A",
            "A",
            "A"
           ],
           "legendgroup": "Yangon",
           "marker": {
            "color": "#636efa",
            "pattern": {
             "shape": ""
            }
           },
           "name": "Yangon",
           "offsetgroup": "Yangon",
           "orientation": "v",
           "showlegend": true,
           "textposition": "auto",
           "type": "bar",
           "x": [
            "Yangon",
            "Yangon",
            "Yangon",
            "Yangon"
           ],
           "xaxis": "x",
           "y": [
            295.6905,
            338.31,
            216.846,
            469.77
           ],
           "yaxis": "y"
          },
          {
           "alignmentgroup": "True",
           "hovertemplate": "city=%{x}<br>date=3/30/2019<br>total=%{y}<extra></extra>",
           "ids": [
            "C",
            "C",
            "C",
            "C"
           ],
           "legendgroup": "Naypyitaw",
           "marker": {
            "color": "#EF553B",
            "pattern": {
             "shape": ""
            }
           },
           "name": "Naypyitaw",
           "offsetgroup": "Naypyitaw",
           "orientation": "v",
           "showlegend": true,
           "textposition": "auto",
           "type": "bar",
           "x": [
            "Naypyitaw",
            "Naypyitaw",
            "Naypyitaw",
            "Naypyitaw"
           ],
           "xaxis": "x",
           "y": [
            609.168,
            442.323,
            85.512,
            304.983
           ],
           "yaxis": "y"
          },
          {
           "alignmentgroup": "True",
           "hovertemplate": "city=%{x}<br>date=3/30/2019<br>total=%{y}<extra></extra>",
           "ids": [
            "B",
            "B",
            "B"
           ],
           "legendgroup": "Mandalay",
           "marker": {
            "color": "#00cc96",
            "pattern": {
             "shape": ""
            }
           },
           "name": "Mandalay",
           "offsetgroup": "Mandalay",
           "orientation": "v",
           "showlegend": true,
           "textposition": "auto",
           "type": "bar",
           "x": [
            "Mandalay",
            "Mandalay",
            "Mandalay"
           ],
           "xaxis": "x",
           "y": [
            918.729,
            609.588,
            196.14
           ],
           "yaxis": "y"
          }
         ],
         "name": "3/30/2019"
        },
        {
         "data": [
          {
           "alignmentgroup": "True",
           "hovertemplate": "city=%{x}<br>date=1/30/2019<br>total=%{y}<extra></extra>",
           "ids": [
            "A"
           ],
           "legendgroup": "Yangon",
           "marker": {
            "color": "#636efa",
            "pattern": {
             "shape": ""
            }
           },
           "name": "Yangon",
           "offsetgroup": "Yangon",
           "orientation": "v",
           "showlegend": true,
           "textposition": "auto",
           "type": "bar",
           "x": [
            "Yangon"
           ],
           "xaxis": "x",
           "y": [
            295.407
           ],
           "yaxis": "y"
          },
          {
           "alignmentgroup": "True",
           "hovertemplate": "city=%{x}<br>date=1/30/2019<br>total=%{y}<extra></extra>",
           "ids": [
            "C",
            "C",
            "C",
            "C",
            "C",
            "C"
           ],
           "legendgroup": "Naypyitaw",
           "marker": {
            "color": "#EF553B",
            "pattern": {
             "shape": ""
            }
           },
           "name": "Naypyitaw",
           "offsetgroup": "Naypyitaw",
           "orientation": "v",
           "showlegend": true,
           "textposition": "auto",
           "type": "bar",
           "x": [
            "Naypyitaw",
            "Naypyitaw",
            "Naypyitaw",
            "Naypyitaw",
            "Naypyitaw",
            "Naypyitaw"
           ],
           "xaxis": "x",
           "y": [
            160.44,
            509.4075,
            24.108,
            1034.46,
            55.2825,
            23.499
           ],
           "yaxis": "y"
          },
          {
           "alignmentgroup": "True",
           "hovertemplate": "city=%{x}<br>date=1/30/2019<br>total=%{y}<extra></extra>",
           "ids": [
            "B",
            "B"
           ],
           "legendgroup": "Mandalay",
           "marker": {
            "color": "#00cc96",
            "pattern": {
             "shape": ""
            }
           },
           "name": "Mandalay",
           "offsetgroup": "Mandalay",
           "orientation": "v",
           "showlegend": true,
           "textposition": "auto",
           "type": "bar",
           "x": [
            "Mandalay",
            "Mandalay"
           ],
           "xaxis": "x",
           "y": [
            99.33,
            356.328
           ],
           "yaxis": "y"
          }
         ],
         "name": "1/30/2019"
        },
        {
         "data": [
          {
           "alignmentgroup": "True",
           "hovertemplate": "city=%{x}<br>date=01/03/2019<br>total=%{y}<extra></extra>",
           "ids": [
            "A",
            "A",
            "A"
           ],
           "legendgroup": "Yangon",
           "marker": {
            "color": "#636efa",
            "pattern": {
             "shape": ""
            }
           },
           "name": "Yangon",
           "offsetgroup": "Yangon",
           "orientation": "v",
           "showlegend": true,
           "textposition": "auto",
           "type": "bar",
           "x": [
            "Yangon",
            "Yangon",
            "Yangon"
           ],
           "xaxis": "x",
           "y": [
            367.5525,
            217.6335,
            352.2225
           ],
           "yaxis": "y"
          },
          {
           "alignmentgroup": "True",
           "hovertemplate": "city=%{x}<br>date=01/03/2019<br>total=%{y}<extra></extra>",
           "ids": [
            "C",
            "C"
           ],
           "legendgroup": "Naypyitaw",
           "marker": {
            "color": "#EF553B",
            "pattern": {
             "shape": ""
            }
           },
           "name": "Naypyitaw",
           "offsetgroup": "Naypyitaw",
           "orientation": "v",
           "showlegend": true,
           "textposition": "auto",
           "type": "bar",
           "x": [
            "Naypyitaw",
            "Naypyitaw"
           ],
           "xaxis": "x",
           "y": [
            44.352,
            79.674
           ],
           "yaxis": "y"
          },
          {
           "alignmentgroup": "True",
           "hovertemplate": "city=%{x}<br>date=01/03/2019<br>total=%{y}<extra></extra>",
           "ids": [
            "B",
            "B",
            "B"
           ],
           "legendgroup": "Mandalay",
           "marker": {
            "color": "#00cc96",
            "pattern": {
             "shape": ""
            }
           },
           "name": "Mandalay",
           "offsetgroup": "Mandalay",
           "orientation": "v",
           "showlegend": true,
           "textposition": "auto",
           "type": "bar",
           "x": [
            "Mandalay",
            "Mandalay",
            "Mandalay"
           ],
           "xaxis": "x",
           "y": [
            98.049,
            397.845,
            520.8
           ],
           "yaxis": "y"
          }
         ],
         "name": "01/03/2019"
        },
        {
         "data": [
          {
           "alignmentgroup": "True",
           "hovertemplate": "city=%{x}<br>date=3/21/2019<br>total=%{y}<extra></extra>",
           "ids": [
            "A",
            "A",
            "A",
            "A"
           ],
           "legendgroup": "Yangon",
           "marker": {
            "color": "#636efa",
            "pattern": {
             "shape": ""
            }
           },
           "name": "Yangon",
           "offsetgroup": "Yangon",
           "orientation": "v",
           "showlegend": true,
           "textposition": "auto",
           "type": "bar",
           "x": [
            "Yangon",
            "Yangon",
            "Yangon",
            "Yangon"
           ],
           "xaxis": "x",
           "y": [
            319.788,
            83.412,
            149.3625,
            756.168
           ],
           "yaxis": "y"
          },
          {
           "alignmentgroup": "True",
           "hovertemplate": "city=%{x}<br>date=3/21/2019<br>total=%{y}<extra></extra>",
           "ids": [
            "C"
           ],
           "legendgroup": "Naypyitaw",
           "marker": {
            "color": "#EF553B",
            "pattern": {
             "shape": ""
            }
           },
           "name": "Naypyitaw",
           "offsetgroup": "Naypyitaw",
           "orientation": "v",
           "showlegend": true,
           "textposition": "auto",
           "type": "bar",
           "x": [
            "Naypyitaw"
           ],
           "xaxis": "x",
           "y": [
            360.927
           ],
           "yaxis": "y"
          },
          {
           "alignmentgroup": "True",
           "hovertemplate": "city=%{x}<br>date=3/21/2019<br>total=%{y}<extra></extra>",
           "ids": [
            "B"
           ],
           "legendgroup": "Mandalay",
           "marker": {
            "color": "#00cc96",
            "pattern": {
             "shape": ""
            }
           },
           "name": "Mandalay",
           "offsetgroup": "Mandalay",
           "orientation": "v",
           "showlegend": true,
           "textposition": "auto",
           "type": "bar",
           "x": [
            "Mandalay"
           ],
           "xaxis": "x",
           "y": [
            207.858
           ],
           "yaxis": "y"
          }
         ],
         "name": "3/21/2019"
        },
        {
         "data": [
          {
           "alignmentgroup": "True",
           "hovertemplate": "city=%{x}<br>date=2/13/2019<br>total=%{y}<extra></extra>",
           "ids": [
            "A",
            "A"
           ],
           "legendgroup": "Yangon",
           "marker": {
            "color": "#636efa",
            "pattern": {
             "shape": ""
            }
           },
           "name": "Yangon",
           "offsetgroup": "Yangon",
           "orientation": "v",
           "showlegend": true,
           "textposition": "auto",
           "type": "bar",
           "x": [
            "Yangon",
            "Yangon"
           ],
           "xaxis": "x",
           "y": [
            135.45,
            80.661
           ],
           "yaxis": "y"
          },
          {
           "alignmentgroup": "True",
           "hovertemplate": "city=%{x}<br>date=2/13/2019<br>total=%{y}<extra></extra>",
           "ids": [
            "C",
            "C",
            "C"
           ],
           "legendgroup": "Naypyitaw",
           "marker": {
            "color": "#EF553B",
            "pattern": {
             "shape": ""
            }
           },
           "name": "Naypyitaw",
           "offsetgroup": "Naypyitaw",
           "orientation": "v",
           "showlegend": true,
           "textposition": "auto",
           "type": "bar",
           "x": [
            "Naypyitaw",
            "Naypyitaw",
            "Naypyitaw"
           ],
           "xaxis": "x",
           "y": [
            165.4485,
            195.258,
            31.227
           ],
           "yaxis": "y"
          },
          {
           "alignmentgroup": "True",
           "hovertemplate": "city=%{x}<br>date=2/13/2019<br>total=%{y}<extra></extra>",
           "ids": [
            "B",
            "B",
            "B"
           ],
           "legendgroup": "Mandalay",
           "marker": {
            "color": "#00cc96",
            "pattern": {
             "shape": ""
            }
           },
           "name": "Mandalay",
           "offsetgroup": "Mandalay",
           "orientation": "v",
           "showlegend": true,
           "textposition": "auto",
           "type": "bar",
           "x": [
            "Mandalay",
            "Mandalay",
            "Mandalay"
           ],
           "xaxis": "x",
           "y": [
            155.19,
            84.756,
            86.247
           ],
           "yaxis": "y"
          }
         ],
         "name": "2/13/2019"
        },
        {
         "data": [
          {
           "alignmentgroup": "True",
           "hovertemplate": "city=%{x}<br>date=1/14/2019<br>total=%{y}<extra></extra>",
           "ids": [
            "A",
            "A"
           ],
           "legendgroup": "Yangon",
           "marker": {
            "color": "#636efa",
            "pattern": {
             "shape": ""
            }
           },
           "name": "Yangon",
           "offsetgroup": "Yangon",
           "orientation": "v",
           "showlegend": true,
           "textposition": "auto",
           "type": "bar",
           "x": [
            "Yangon",
            "Yangon"
           ],
           "xaxis": "x",
           "y": [
            507.675,
            588.42
           ],
           "yaxis": "y"
          },
          {
           "alignmentgroup": "True",
           "hovertemplate": "city=%{x}<br>date=1/14/2019<br>total=%{y}<extra></extra>",
           "ids": [
            "C",
            "C",
            "C",
            "C",
            "C",
            "C"
           ],
           "legendgroup": "Naypyitaw",
           "marker": {
            "color": "#EF553B",
            "pattern": {
             "shape": ""
            }
           },
           "name": "Naypyitaw",
           "offsetgroup": "Naypyitaw",
           "orientation": "v",
           "showlegend": true,
           "textposition": "auto",
           "type": "bar",
           "x": [
            "Naypyitaw",
            "Naypyitaw",
            "Naypyitaw",
            "Naypyitaw",
            "Naypyitaw",
            "Naypyitaw"
           ],
           "xaxis": "x",
           "y": [
            451.3635,
            133.434,
            89.0715,
            190.4805,
            390.9465,
            423.738
           ],
           "yaxis": "y"
          },
          {
           "alignmentgroup": "True",
           "hovertemplate": "city=%{x}<br>date=1/14/2019<br>total=%{y}<extra></extra>",
           "ids": [
            "B",
            "B",
            "B",
            "B",
            "B"
           ],
           "legendgroup": "Mandalay",
           "marker": {
            "color": "#00cc96",
            "pattern": {
             "shape": ""
            }
           },
           "name": "Mandalay",
           "offsetgroup": "Mandalay",
           "orientation": "v",
           "showlegend": true,
           "textposition": "auto",
           "type": "bar",
           "x": [
            "Mandalay",
            "Mandalay",
            "Mandalay",
            "Mandalay",
            "Mandalay"
           ],
           "xaxis": "x",
           "y": [
            536.991,
            523.3725,
            75.936,
            36.5505,
            18.6375
           ],
           "yaxis": "y"
          }
         ],
         "name": "1/14/2019"
        },
        {
         "data": [
          {
           "alignmentgroup": "True",
           "hovertemplate": "city=%{x}<br>date=3/18/2019<br>total=%{y}<extra></extra>",
           "ids": [
            "A",
            "A"
           ],
           "legendgroup": "Yangon",
           "marker": {
            "color": "#636efa",
            "pattern": {
             "shape": ""
            }
           },
           "name": "Yangon",
           "offsetgroup": "Yangon",
           "orientation": "v",
           "showlegend": true,
           "textposition": "auto",
           "type": "bar",
           "x": [
            "Yangon",
            "Yangon"
           ],
           "xaxis": "x",
           "y": [
            214.998,
            174.615
           ],
           "yaxis": "y"
          },
          {
           "alignmentgroup": "True",
           "hovertemplate": "city=%{x}<br>date=3/18/2019<br>total=%{y}<extra></extra>",
           "ids": [
            "C",
            "C",
            "C"
           ],
           "legendgroup": "Naypyitaw",
           "marker": {
            "color": "#EF553B",
            "pattern": {
             "shape": ""
            }
           },
           "name": "Naypyitaw",
           "offsetgroup": "Naypyitaw",
           "orientation": "v",
           "showlegend": true,
           "textposition": "auto",
           "type": "bar",
           "x": [
            "Naypyitaw",
            "Naypyitaw",
            "Naypyitaw"
           ],
           "xaxis": "x",
           "y": [
            299.565,
            54.0435,
            96.579
           ],
           "yaxis": "y"
          },
          {
           "alignmentgroup": "True",
           "hovertemplate": "city=%{x}<br>date=3/18/2019<br>total=%{y}<extra></extra>",
           "ids": [
            "B",
            "B"
           ],
           "legendgroup": "Mandalay",
           "marker": {
            "color": "#00cc96",
            "pattern": {
             "shape": ""
            }
           },
           "name": "Mandalay",
           "offsetgroup": "Mandalay",
           "orientation": "v",
           "showlegend": true,
           "textposition": "auto",
           "type": "bar",
           "x": [
            "Mandalay",
            "Mandalay"
           ],
           "xaxis": "x",
           "y": [
            314.055,
            138.978
           ],
           "yaxis": "y"
          }
         ],
         "name": "3/18/2019"
        },
        {
         "data": [
          {
           "alignmentgroup": "True",
           "hovertemplate": "city=%{x}<br>date=3/20/2019<br>total=%{y}<extra></extra>",
           "ids": [
            "A",
            "A",
            "A",
            "A",
            "A",
            "A"
           ],
           "legendgroup": "Yangon",
           "marker": {
            "color": "#636efa",
            "pattern": {
             "shape": ""
            }
           },
           "name": "Yangon",
           "offsetgroup": "Yangon",
           "orientation": "v",
           "showlegend": true,
           "textposition": "auto",
           "type": "bar",
           "x": [
            "Yangon",
            "Yangon",
            "Yangon",
            "Yangon",
            "Yangon",
            "Yangon"
           ],
           "xaxis": "x",
           "y": [
            90.825,
            462.21,
            469.413,
            365.904,
            96.1905,
            887.922
           ],
           "yaxis": "y"
          },
          {
           "alignmentgroup": "True",
           "hovertemplate": "city=%{x}<br>date=3/20/2019<br>total=%{y}<extra></extra>",
           "ids": [
            "C",
            "C",
            "C"
           ],
           "legendgroup": "Naypyitaw",
           "marker": {
            "color": "#EF553B",
            "pattern": {
             "shape": ""
            }
           },
           "name": "Naypyitaw",
           "offsetgroup": "Naypyitaw",
           "orientation": "v",
           "showlegend": true,
           "textposition": "auto",
           "type": "bar",
           "x": [
            "Naypyitaw",
            "Naypyitaw",
            "Naypyitaw"
           ],
           "xaxis": "x",
           "y": [
            745.395,
            523.971,
            132.5625
           ],
           "yaxis": "y"
          },
          {
           "alignmentgroup": "True",
           "hovertemplate": "city=%{x}<br>date=3/20/2019<br>total=%{y}<extra></extra>",
           "ids": [
            "B",
            "B",
            "B",
            "B",
            "B",
            "B"
           ],
           "legendgroup": "Mandalay",
           "marker": {
            "color": "#00cc96",
            "pattern": {
             "shape": ""
            }
           },
           "name": "Mandalay",
           "offsetgroup": "Mandalay",
           "orientation": "v",
           "showlegend": true,
           "textposition": "auto",
           "type": "bar",
           "x": [
            "Mandalay",
            "Mandalay",
            "Mandalay",
            "Mandalay",
            "Mandalay",
            "Mandalay"
           ],
           "xaxis": "x",
           "y": [
            484.89,
            65.7405,
            637.728,
            208.425,
            251.7165,
            35.3115
           ],
           "yaxis": "y"
          }
         ],
         "name": "3/20/2019"
        },
        {
         "data": [
          {
           "alignmentgroup": "True",
           "hovertemplate": "city=%{x}<br>date=2/21/2019<br>total=%{y}<extra></extra>",
           "ids": [
            "A"
           ],
           "legendgroup": "Yangon",
           "marker": {
            "color": "#636efa",
            "pattern": {
             "shape": ""
            }
           },
           "name": "Yangon",
           "offsetgroup": "Yangon",
           "orientation": "v",
           "showlegend": true,
           "textposition": "auto",
           "type": "bar",
           "x": [
            "Yangon"
           ],
           "xaxis": "x",
           "y": [
            298.116
           ],
           "yaxis": "y"
          },
          {
           "alignmentgroup": "True",
           "hovertemplate": "city=%{x}<br>date=2/21/2019<br>total=%{y}<extra></extra>",
           "ids": [
            "C",
            "C",
            "C"
           ],
           "legendgroup": "Naypyitaw",
           "marker": {
            "color": "#EF553B",
            "pattern": {
             "shape": ""
            }
           },
           "name": "Naypyitaw",
           "offsetgroup": "Naypyitaw",
           "orientation": "v",
           "showlegend": true,
           "textposition": "auto",
           "type": "bar",
           "x": [
            "Naypyitaw",
            "Naypyitaw",
            "Naypyitaw"
           ],
           "xaxis": "x",
           "y": [
            13.167,
            207.48,
            439.215
           ],
           "yaxis": "y"
          },
          {
           "alignmentgroup": "True",
           "hovertemplate": "city=%{x}<br>date=2/21/2019<br>total=%{y}<extra></extra>",
           "ids": [
            "B",
            "B"
           ],
           "legendgroup": "Mandalay",
           "marker": {
            "color": "#00cc96",
            "pattern": {
             "shape": ""
            }
           },
           "name": "Mandalay",
           "offsetgroup": "Mandalay",
           "orientation": "v",
           "showlegend": true,
           "textposition": "auto",
           "type": "bar",
           "x": [
            "Mandalay",
            "Mandalay"
           ],
           "xaxis": "x",
           "y": [
            310.044,
            125.7165
           ],
           "yaxis": "y"
          }
         ],
         "name": "2/21/2019"
        },
        {
         "data": [
          {
           "alignmentgroup": "True",
           "hovertemplate": "city=%{x}<br>date=1/31/2019<br>total=%{y}<extra></extra>",
           "ids": [
            "A",
            "A",
            "A"
           ],
           "legendgroup": "Yangon",
           "marker": {
            "color": "#636efa",
            "pattern": {
             "shape": ""
            }
           },
           "name": "Yangon",
           "offsetgroup": "Yangon",
           "orientation": "v",
           "showlegend": true,
           "textposition": "auto",
           "type": "bar",
           "x": [
            "Yangon",
            "Yangon",
            "Yangon"
           ],
           "xaxis": "x",
           "y": [
            69.6675,
            87.234,
            431.256
           ],
           "yaxis": "y"
          },
          {
           "alignmentgroup": "True",
           "hovertemplate": "city=%{x}<br>date=1/31/2019<br>total=%{y}<extra></extra>",
           "ids": [
            "C",
            "C",
            "C",
            "C"
           ],
           "legendgroup": "Naypyitaw",
           "marker": {
            "color": "#EF553B",
            "pattern": {
             "shape": ""
            }
           },
           "name": "Naypyitaw",
           "offsetgroup": "Naypyitaw",
           "orientation": "v",
           "showlegend": true,
           "textposition": "auto",
           "type": "bar",
           "x": [
            "Naypyitaw",
            "Naypyitaw",
            "Naypyitaw",
            "Naypyitaw"
           ],
           "xaxis": "x",
           "y": [
            155.652,
            224.4375,
            829.08,
            652.89
           ],
           "yaxis": "y"
          },
          {
           "alignmentgroup": "True",
           "hovertemplate": "city=%{x}<br>date=1/31/2019<br>total=%{y}<extra></extra>",
           "ids": [
            "B",
            "B",
            "B",
            "B",
            "B",
            "B",
            "B"
           ],
           "legendgroup": "Mandalay",
           "marker": {
            "color": "#00cc96",
            "pattern": {
             "shape": ""
            }
           },
           "name": "Mandalay",
           "offsetgroup": "Mandalay",
           "orientation": "v",
           "showlegend": true,
           "textposition": "auto",
           "type": "bar",
           "x": [
            "Mandalay",
            "Mandalay",
            "Mandalay",
            "Mandalay",
            "Mandalay",
            "Mandalay",
            "Mandalay"
           ],
           "xaxis": "x",
           "y": [
            285.705,
            503.559,
            79.611,
            145.068,
            180.6,
            757.365,
            830.3715
           ],
           "yaxis": "y"
          }
         ],
         "name": "1/31/2019"
        },
        {
         "data": [
          {
           "alignmentgroup": "True",
           "hovertemplate": "city=%{x}<br>date=01/11/2019<br>total=%{y}<extra></extra>",
           "ids": [
            "A",
            "A",
            "A",
            "A",
            "A",
            "A"
           ],
           "legendgroup": "Yangon",
           "marker": {
            "color": "#636efa",
            "pattern": {
             "shape": ""
            }
           },
           "name": "Yangon",
           "offsetgroup": "Yangon",
           "orientation": "v",
           "showlegend": true,
           "textposition": "auto",
           "type": "bar",
           "x": [
            "Yangon",
            "Yangon",
            "Yangon",
            "Yangon",
            "Yangon",
            "Yangon"
           ],
           "xaxis": "x",
           "y": [
            94.1745,
            235.683,
            345.786,
            72.3975,
            305.55,
            608.076
           ],
           "yaxis": "y"
          },
          {
           "alignmentgroup": "True",
           "hovertemplate": "city=%{x}<br>date=01/11/2019<br>total=%{y}<extra></extra>",
           "ids": [
            "C",
            "C"
           ],
           "legendgroup": "Naypyitaw",
           "marker": {
            "color": "#EF553B",
            "pattern": {
             "shape": ""
            }
           },
           "name": "Naypyitaw",
           "offsetgroup": "Naypyitaw",
           "orientation": "v",
           "showlegend": true,
           "textposition": "auto",
           "type": "bar",
           "x": [
            "Naypyitaw",
            "Naypyitaw"
           ],
           "xaxis": "x",
           "y": [
            183.036,
            270.2595
           ],
           "yaxis": "y"
          }
         ],
         "name": "01/11/2019"
        },
        {
         "data": [
          {
           "alignmentgroup": "True",
           "hovertemplate": "city=%{x}<br>date=2/26/2019<br>total=%{y}<extra></extra>",
           "ids": [
            "A",
            "A"
           ],
           "legendgroup": "Yangon",
           "marker": {
            "color": "#636efa",
            "pattern": {
             "shape": ""
            }
           },
           "name": "Yangon",
           "offsetgroup": "Yangon",
           "orientation": "v",
           "showlegend": true,
           "textposition": "auto",
           "type": "bar",
           "x": [
            "Yangon",
            "Yangon"
           ],
           "xaxis": "x",
           "y": [
            58.2225,
            97.881
           ],
           "yaxis": "y"
          },
          {
           "alignmentgroup": "True",
           "hovertemplate": "city=%{x}<br>date=2/26/2019<br>total=%{y}<extra></extra>",
           "ids": [
            "C"
           ],
           "legendgroup": "Naypyitaw",
           "marker": {
            "color": "#EF553B",
            "pattern": {
             "shape": ""
            }
           },
           "name": "Naypyitaw",
           "offsetgroup": "Naypyitaw",
           "orientation": "v",
           "showlegend": true,
           "textposition": "auto",
           "type": "bar",
           "x": [
            "Naypyitaw"
           ],
           "xaxis": "x",
           "y": [
            216.6885
           ],
           "yaxis": "y"
          },
          {
           "alignmentgroup": "True",
           "hovertemplate": "city=%{x}<br>date=2/26/2019<br>total=%{y}<extra></extra>",
           "ids": [
            "B",
            "B",
            "B",
            "B",
            "B",
            "B"
           ],
           "legendgroup": "Mandalay",
           "marker": {
            "color": "#00cc96",
            "pattern": {
             "shape": ""
            }
           },
           "name": "Mandalay",
           "offsetgroup": "Mandalay",
           "orientation": "v",
           "showlegend": true,
           "textposition": "auto",
           "type": "bar",
           "x": [
            "Mandalay",
            "Mandalay",
            "Mandalay",
            "Mandalay",
            "Mandalay",
            "Mandalay"
           ],
           "xaxis": "x",
           "y": [
            571.41,
            57.1725,
            628.173,
            209.769,
            401.268,
            167.58
           ],
           "yaxis": "y"
          }
         ],
         "name": "2/26/2019"
        },
        {
         "data": [
          {
           "alignmentgroup": "True",
           "hovertemplate": "city=%{x}<br>date=3/17/2019<br>total=%{y}<extra></extra>",
           "ids": [
            "A",
            "A"
           ],
           "legendgroup": "Yangon",
           "marker": {
            "color": "#636efa",
            "pattern": {
             "shape": ""
            }
           },
           "name": "Yangon",
           "offsetgroup": "Yangon",
           "orientation": "v",
           "showlegend": true,
           "textposition": "auto",
           "type": "bar",
           "x": [
            "Yangon",
            "Yangon"
           ],
           "xaxis": "x",
           "y": [
            325.374,
            807.66
           ],
           "yaxis": "y"
          },
          {
           "alignmentgroup": "True",
           "hovertemplate": "city=%{x}<br>date=3/17/2019<br>total=%{y}<extra></extra>",
           "ids": [
            "C",
            "C"
           ],
           "legendgroup": "Naypyitaw",
           "marker": {
            "color": "#EF553B",
            "pattern": {
             "shape": ""
            }
           },
           "name": "Naypyitaw",
           "offsetgroup": "Naypyitaw",
           "orientation": "v",
           "showlegend": true,
           "textposition": "auto",
           "type": "bar",
           "x": [
            "Naypyitaw",
            "Naypyitaw"
           ],
           "xaxis": "x",
           "y": [
            369.495,
            23.751
           ],
           "yaxis": "y"
          },
          {
           "alignmentgroup": "True",
           "hovertemplate": "city=%{x}<br>date=3/17/2019<br>total=%{y}<extra></extra>",
           "ids": [
            "B",
            "B"
           ],
           "legendgroup": "Mandalay",
           "marker": {
            "color": "#00cc96",
            "pattern": {
             "shape": ""
            }
           },
           "name": "Mandalay",
           "offsetgroup": "Mandalay",
           "orientation": "v",
           "showlegend": true,
           "textposition": "auto",
           "type": "bar",
           "x": [
            "Mandalay",
            "Mandalay"
           ],
           "xaxis": "x",
           "y": [
            343.413,
            106.596
           ],
           "yaxis": "y"
          }
         ],
         "name": "3/17/2019"
        },
        {
         "data": [
          {
           "alignmentgroup": "True",
           "hovertemplate": "city=%{x}<br>date=3/14/2019<br>total=%{y}<extra></extra>",
           "ids": [
            "A",
            "A",
            "A",
            "A"
           ],
           "legendgroup": "Yangon",
           "marker": {
            "color": "#636efa",
            "pattern": {
             "shape": ""
            }
           },
           "name": "Yangon",
           "offsetgroup": "Yangon",
           "orientation": "v",
           "showlegend": true,
           "textposition": "auto",
           "type": "bar",
           "x": [
            "Yangon",
            "Yangon",
            "Yangon",
            "Yangon"
           ],
           "xaxis": "x",
           "y": [
            49.308,
            731.6925,
            49.4235,
            921.186
           ],
           "yaxis": "y"
          },
          {
           "alignmentgroup": "True",
           "hovertemplate": "city=%{x}<br>date=3/14/2019<br>total=%{y}<extra></extra>",
           "ids": [
            "C",
            "C",
            "C",
            "C",
            "C",
            "C",
            "C",
            "C",
            "C"
           ],
           "legendgroup": "Naypyitaw",
           "marker": {
            "color": "#EF553B",
            "pattern": {
             "shape": ""
            }
           },
           "name": "Naypyitaw",
           "offsetgroup": "Naypyitaw",
           "orientation": "v",
           "showlegend": true,
           "textposition": "auto",
           "type": "bar",
           "x": [
            "Naypyitaw",
            "Naypyitaw",
            "Naypyitaw",
            "Naypyitaw",
            "Naypyitaw",
            "Naypyitaw",
            "Naypyitaw",
            "Naypyitaw",
            "Naypyitaw"
           ],
           "xaxis": "x",
           "y": [
            148.974,
            204.6975,
            484.974,
            441.693,
            625.905,
            814.38,
            461.5275,
            44.9925,
            221.886
           ],
           "yaxis": "y"
          },
          {
           "alignmentgroup": "True",
           "hovertemplate": "city=%{x}<br>date=3/14/2019<br>total=%{y}<extra></extra>",
           "ids": [
            "B",
            "B",
            "B",
            "B",
            "B"
           ],
           "legendgroup": "Mandalay",
           "marker": {
            "color": "#00cc96",
            "pattern": {
             "shape": ""
            }
           },
           "name": "Mandalay",
           "offsetgroup": "Mandalay",
           "orientation": "v",
           "showlegend": true,
           "textposition": "auto",
           "type": "bar",
           "x": [
            "Mandalay",
            "Mandalay",
            "Mandalay",
            "Mandalay",
            "Mandalay"
           ],
           "xaxis": "x",
           "y": [
            402.2655,
            203.931,
            867.09,
            93.744,
            446.964
           ],
           "yaxis": "y"
          }
         ],
         "name": "3/14/2019"
        },
        {
         "data": [
          {
           "alignmentgroup": "True",
           "hovertemplate": "city=%{x}<br>date=02/04/2019<br>total=%{y}<extra></extra>",
           "ids": [
            "A",
            "A",
            "A",
            "A",
            "A"
           ],
           "legendgroup": "Yangon",
           "marker": {
            "color": "#636efa",
            "pattern": {
             "shape": ""
            }
           },
           "name": "Yangon",
           "offsetgroup": "Yangon",
           "orientation": "v",
           "showlegend": true,
           "textposition": "auto",
           "type": "bar",
           "x": [
            "Yangon",
            "Yangon",
            "Yangon",
            "Yangon",
            "Yangon"
           ],
           "xaxis": "x",
           "y": [
            75.5475,
            185.367,
            226.065,
            204.246,
            548.163
           ],
           "yaxis": "y"
          },
          {
           "alignmentgroup": "True",
           "hovertemplate": "city=%{x}<br>date=02/04/2019<br>total=%{y}<extra></extra>",
           "ids": [
            "C",
            "C"
           ],
           "legendgroup": "Naypyitaw",
           "marker": {
            "color": "#EF553B",
            "pattern": {
             "shape": ""
            }
           },
           "name": "Naypyitaw",
           "offsetgroup": "Naypyitaw",
           "orientation": "v",
           "showlegend": true,
           "textposition": "auto",
           "type": "bar",
           "x": [
            "Naypyitaw",
            "Naypyitaw"
           ],
           "xaxis": "x",
           "y": [
            14.679,
            130.8825
           ],
           "yaxis": "y"
          },
          {
           "alignmentgroup": "True",
           "hovertemplate": "city=%{x}<br>date=02/04/2019<br>total=%{y}<extra></extra>",
           "ids": [
            "B",
            "B",
            "B",
            "B"
           ],
           "legendgroup": "Mandalay",
           "marker": {
            "color": "#00cc96",
            "pattern": {
             "shape": ""
            }
           },
           "name": "Mandalay",
           "offsetgroup": "Mandalay",
           "orientation": "v",
           "showlegend": true,
           "textposition": "auto",
           "type": "bar",
           "x": [
            "Mandalay",
            "Mandalay",
            "Mandalay",
            "Mandalay"
           ],
           "xaxis": "x",
           "y": [
            734.076,
            151.284,
            98.028,
            71.1585
           ],
           "yaxis": "y"
          }
         ],
         "name": "02/04/2019"
        },
        {
         "data": [
          {
           "alignmentgroup": "True",
           "hovertemplate": "city=%{x}<br>date=2/19/2019<br>total=%{y}<extra></extra>",
           "ids": [
            "A",
            "A",
            "A",
            "A"
           ],
           "legendgroup": "Yangon",
           "marker": {
            "color": "#636efa",
            "pattern": {
             "shape": ""
            }
           },
           "name": "Yangon",
           "offsetgroup": "Yangon",
           "orientation": "v",
           "showlegend": true,
           "textposition": "auto",
           "type": "bar",
           "x": [
            "Yangon",
            "Yangon",
            "Yangon",
            "Yangon"
           ],
           "xaxis": "x",
           "y": [
            657.531,
            206.808,
            266.6475,
            932.337
           ],
           "yaxis": "y"
          },
          {
           "alignmentgroup": "True",
           "hovertemplate": "city=%{x}<br>date=2/19/2019<br>total=%{y}<extra></extra>",
           "ids": [
            "C",
            "C",
            "C",
            "C"
           ],
           "legendgroup": "Naypyitaw",
           "marker": {
            "color": "#EF553B",
            "pattern": {
             "shape": ""
            }
           },
           "name": "Naypyitaw",
           "offsetgroup": "Naypyitaw",
           "orientation": "v",
           "showlegend": true,
           "textposition": "auto",
           "type": "bar",
           "x": [
            "Naypyitaw",
            "Naypyitaw",
            "Naypyitaw",
            "Naypyitaw"
           ],
           "xaxis": "x",
           "y": [
            173.208,
            733.6035,
            183.12,
            603.876
           ],
           "yaxis": "y"
          },
          {
           "alignmentgroup": "True",
           "hovertemplate": "city=%{x}<br>date=2/19/2019<br>total=%{y}<extra></extra>",
           "ids": [
            "B"
           ],
           "legendgroup": "Mandalay",
           "marker": {
            "color": "#00cc96",
            "pattern": {
             "shape": ""
            }
           },
           "name": "Mandalay",
           "offsetgroup": "Mandalay",
           "orientation": "v",
           "showlegend": true,
           "textposition": "auto",
           "type": "bar",
           "x": [
            "Mandalay"
           ],
           "xaxis": "x",
           "y": [
            470.988
           ],
           "yaxis": "y"
          }
         ],
         "name": "2/19/2019"
        }
       ],
       "layout": {
        "barmode": "relative",
        "legend": {
         "title": {
          "text": "city"
         },
         "tracegroupgap": 0
        },
        "sliders": [
         {
          "active": 0,
          "currentvalue": {
           "prefix": "date="
          },
          "len": 0.9,
          "pad": {
           "b": 10,
           "t": 60
          },
          "steps": [
           {
            "args": [
             [
              "01/05/2019"
             ],
             {
              "frame": {
               "duration": 0,
               "redraw": true
              },
              "fromcurrent": true,
              "mode": "immediate",
              "transition": {
               "duration": 0,
               "easing": "linear"
              }
             }
            ],
            "label": "01/05/2019",
            "method": "animate"
           },
           {
            "args": [
             [
              "03/08/2019"
             ],
             {
              "frame": {
               "duration": 0,
               "redraw": true
              },
              "fromcurrent": true,
              "mode": "immediate",
              "transition": {
               "duration": 0,
               "easing": "linear"
              }
             }
            ],
            "label": "03/08/2019",
            "method": "animate"
           },
           {
            "args": [
             [
              "03/03/2019"
             ],
             {
              "frame": {
               "duration": 0,
               "redraw": true
              },
              "fromcurrent": true,
              "mode": "immediate",
              "transition": {
               "duration": 0,
               "easing": "linear"
              }
             }
            ],
            "label": "03/03/2019",
            "method": "animate"
           },
           {
            "args": [
             [
              "1/27/2019"
             ],
             {
              "frame": {
               "duration": 0,
               "redraw": true
              },
              "fromcurrent": true,
              "mode": "immediate",
              "transition": {
               "duration": 0,
               "easing": "linear"
              }
             }
            ],
            "label": "1/27/2019",
            "method": "animate"
           },
           {
            "args": [
             [
              "02/08/2019"
             ],
             {
              "frame": {
               "duration": 0,
               "redraw": true
              },
              "fromcurrent": true,
              "mode": "immediate",
              "transition": {
               "duration": 0,
               "easing": "linear"
              }
             }
            ],
            "label": "02/08/2019",
            "method": "animate"
           },
           {
            "args": [
             [
              "3/25/2019"
             ],
             {
              "frame": {
               "duration": 0,
               "redraw": true
              },
              "fromcurrent": true,
              "mode": "immediate",
              "transition": {
               "duration": 0,
               "easing": "linear"
              }
             }
            ],
            "label": "3/25/2019",
            "method": "animate"
           },
           {
            "args": [
             [
              "2/25/2019"
             ],
             {
              "frame": {
               "duration": 0,
               "redraw": true
              },
              "fromcurrent": true,
              "mode": "immediate",
              "transition": {
               "duration": 0,
               "easing": "linear"
              }
             }
            ],
            "label": "2/25/2019",
            "method": "animate"
           },
           {
            "args": [
             [
              "2/24/2019"
             ],
             {
              "frame": {
               "duration": 0,
               "redraw": true
              },
              "fromcurrent": true,
              "mode": "immediate",
              "transition": {
               "duration": 0,
               "easing": "linear"
              }
             }
            ],
            "label": "2/24/2019",
            "method": "animate"
           },
           {
            "args": [
             [
              "01/10/2019"
             ],
             {
              "frame": {
               "duration": 0,
               "redraw": true
              },
              "fromcurrent": true,
              "mode": "immediate",
              "transition": {
               "duration": 0,
               "easing": "linear"
              }
             }
            ],
            "label": "01/10/2019",
            "method": "animate"
           },
           {
            "args": [
             [
              "2/20/2019"
             ],
             {
              "frame": {
               "duration": 0,
               "redraw": true
              },
              "fromcurrent": true,
              "mode": "immediate",
              "transition": {
               "duration": 0,
               "easing": "linear"
              }
             }
            ],
            "label": "2/20/2019",
            "method": "animate"
           },
           {
            "args": [
             [
              "02/06/2019"
             ],
             {
              "frame": {
               "duration": 0,
               "redraw": true
              },
              "fromcurrent": true,
              "mode": "immediate",
              "transition": {
               "duration": 0,
               "easing": "linear"
              }
             }
            ],
            "label": "02/06/2019",
            "method": "animate"
           },
           {
            "args": [
             [
              "03/09/2019"
             ],
             {
              "frame": {
               "duration": 0,
               "redraw": true
              },
              "fromcurrent": true,
              "mode": "immediate",
              "transition": {
               "duration": 0,
               "easing": "linear"
              }
             }
            ],
            "label": "03/09/2019",
            "method": "animate"
           },
           {
            "args": [
             [
              "02/12/2019"
             ],
             {
              "frame": {
               "duration": 0,
               "redraw": true
              },
              "fromcurrent": true,
              "mode": "immediate",
              "transition": {
               "duration": 0,
               "easing": "linear"
              }
             }
            ],
            "label": "02/12/2019",
            "method": "animate"
           },
           {
            "args": [
             [
              "02/07/2019"
             ],
             {
              "frame": {
               "duration": 0,
               "redraw": true
              },
              "fromcurrent": true,
              "mode": "immediate",
              "transition": {
               "duration": 0,
               "easing": "linear"
              }
             }
            ],
            "label": "02/07/2019",
            "method": "animate"
           },
           {
            "args": [
             [
              "3/29/2019"
             ],
             {
              "frame": {
               "duration": 0,
               "redraw": true
              },
              "fromcurrent": true,
              "mode": "immediate",
              "transition": {
               "duration": 0,
               "easing": "linear"
              }
             }
            ],
            "label": "3/29/2019",
            "method": "animate"
           },
           {
            "args": [
             [
              "1/15/2019"
             ],
             {
              "frame": {
               "duration": 0,
               "redraw": true
              },
              "fromcurrent": true,
              "mode": "immediate",
              "transition": {
               "duration": 0,
               "easing": "linear"
              }
             }
            ],
            "label": "1/15/2019",
            "method": "animate"
           },
           {
            "args": [
             [
              "03/11/2019"
             ],
             {
              "frame": {
               "duration": 0,
               "redraw": true
              },
              "fromcurrent": true,
              "mode": "immediate",
              "transition": {
               "duration": 0,
               "easing": "linear"
              }
             }
            ],
            "label": "03/11/2019",
            "method": "animate"
           },
           {
            "args": [
             [
              "01/01/2019"
             ],
             {
              "frame": {
               "duration": 0,
               "redraw": true
              },
              "fromcurrent": true,
              "mode": "immediate",
              "transition": {
               "duration": 0,
               "easing": "linear"
              }
             }
            ],
            "label": "01/01/2019",
            "method": "animate"
           },
           {
            "args": [
             [
              "1/21/2019"
             ],
             {
              "frame": {
               "duration": 0,
               "redraw": true
              },
              "fromcurrent": true,
              "mode": "immediate",
              "transition": {
               "duration": 0,
               "easing": "linear"
              }
             }
            ],
            "label": "1/21/2019",
            "method": "animate"
           },
           {
            "args": [
             [
              "03/05/2019"
             ],
             {
              "frame": {
               "duration": 0,
               "redraw": true
              },
              "fromcurrent": true,
              "mode": "immediate",
              "transition": {
               "duration": 0,
               "easing": "linear"
              }
             }
            ],
            "label": "03/05/2019",
            "method": "animate"
           },
           {
            "args": [
             [
              "3/15/2019"
             ],
             {
              "frame": {
               "duration": 0,
               "redraw": true
              },
              "fromcurrent": true,
              "mode": "immediate",
              "transition": {
               "duration": 0,
               "easing": "linear"
              }
             }
            ],
            "label": "3/15/2019",
            "method": "animate"
           },
           {
            "args": [
             [
              "2/17/2019"
             ],
             {
              "frame": {
               "duration": 0,
               "redraw": true
              },
              "fromcurrent": true,
              "mode": "immediate",
              "transition": {
               "duration": 0,
               "easing": "linear"
              }
             }
            ],
            "label": "2/17/2019",
            "method": "animate"
           },
           {
            "args": [
             [
              "03/02/2019"
             ],
             {
              "frame": {
               "duration": 0,
               "redraw": true
              },
              "fromcurrent": true,
              "mode": "immediate",
              "transition": {
               "duration": 0,
               "easing": "linear"
              }
             }
            ],
            "label": "03/02/2019",
            "method": "animate"
           },
           {
            "args": [
             [
              "3/22/2019"
             ],
             {
              "frame": {
               "duration": 0,
               "redraw": true
              },
              "fromcurrent": true,
              "mode": "immediate",
              "transition": {
               "duration": 0,
               "easing": "linear"
              }
             }
            ],
            "label": "3/22/2019",
            "method": "animate"
           },
           {
            "args": [
             [
              "03/10/2019"
             ],
             {
              "frame": {
               "duration": 0,
               "redraw": true
              },
              "fromcurrent": true,
              "mode": "immediate",
              "transition": {
               "duration": 0,
               "easing": "linear"
              }
             }
            ],
            "label": "03/10/2019",
            "method": "animate"
           },
           {
            "args": [
             [
              "1/25/2019"
             ],
             {
              "frame": {
               "duration": 0,
               "redraw": true
              },
              "fromcurrent": true,
              "mode": "immediate",
              "transition": {
               "duration": 0,
               "easing": "linear"
              }
             }
            ],
            "label": "1/25/2019",
            "method": "animate"
           },
           {
            "args": [
             [
              "1/28/2019"
             ],
             {
              "frame": {
               "duration": 0,
               "redraw": true
              },
              "fromcurrent": true,
              "mode": "immediate",
              "transition": {
               "duration": 0,
               "easing": "linear"
              }
             }
            ],
            "label": "1/28/2019",
            "method": "animate"
           },
           {
            "args": [
             [
              "01/07/2019"
             ],
             {
              "frame": {
               "duration": 0,
               "redraw": true
              },
              "fromcurrent": true,
              "mode": "immediate",
              "transition": {
               "duration": 0,
               "easing": "linear"
              }
             }
            ],
            "label": "01/07/2019",
            "method": "animate"
           },
           {
            "args": [
             [
              "3/23/2019"
             ],
             {
              "frame": {
               "duration": 0,
               "redraw": true
              },
              "fromcurrent": true,
              "mode": "immediate",
              "transition": {
               "duration": 0,
               "easing": "linear"
              }
             }
            ],
            "label": "3/23/2019",
            "method": "animate"
           },
           {
            "args": [
             [
              "1/17/2019"
             ],
             {
              "frame": {
               "duration": 0,
               "redraw": true
              },
              "fromcurrent": true,
              "mode": "immediate",
              "transition": {
               "duration": 0,
               "easing": "linear"
              }
             }
            ],
            "label": "1/17/2019",
            "method": "animate"
           },
           {
            "args": [
             [
              "02/02/2019"
             ],
             {
              "frame": {
               "duration": 0,
               "redraw": true
              },
              "fromcurrent": true,
              "mode": "immediate",
              "transition": {
               "duration": 0,
               "easing": "linear"
              }
             }
            ],
            "label": "02/02/2019",
            "method": "animate"
           },
           {
            "args": [
             [
              "03/04/2019"
             ],
             {
              "frame": {
               "duration": 0,
               "redraw": true
              },
              "fromcurrent": true,
              "mode": "immediate",
              "transition": {
               "duration": 0,
               "easing": "linear"
              }
             }
            ],
            "label": "03/04/2019",
            "method": "animate"
           },
           {
            "args": [
             [
              "3/16/2019"
             ],
             {
              "frame": {
               "duration": 0,
               "redraw": true
              },
              "fromcurrent": true,
              "mode": "immediate",
              "transition": {
               "duration": 0,
               "easing": "linear"
              }
             }
            ],
            "label": "3/16/2019",
            "method": "animate"
           },
           {
            "args": [
             [
              "2/27/2019"
             ],
             {
              "frame": {
               "duration": 0,
               "redraw": true
              },
              "fromcurrent": true,
              "mode": "immediate",
              "transition": {
               "duration": 0,
               "easing": "linear"
              }
             }
            ],
            "label": "2/27/2019",
            "method": "animate"
           },
           {
            "args": [
             [
              "02/10/2019"
             ],
             {
              "frame": {
               "duration": 0,
               "redraw": true
              },
              "fromcurrent": true,
              "mode": "immediate",
              "transition": {
               "duration": 0,
               "easing": "linear"
              }
             }
            ],
            "label": "02/10/2019",
            "method": "animate"
           },
           {
            "args": [
             [
              "3/19/2019"
             ],
             {
              "frame": {
               "duration": 0,
               "redraw": true
              },
              "fromcurrent": true,
              "mode": "immediate",
              "transition": {
               "duration": 0,
               "easing": "linear"
              }
             }
            ],
            "label": "3/19/2019",
            "method": "animate"
           },
           {
            "args": [
             [
              "02/03/2019"
             ],
             {
              "frame": {
               "duration": 0,
               "redraw": true
              },
              "fromcurrent": true,
              "mode": "immediate",
              "transition": {
               "duration": 0,
               "easing": "linear"
              }
             }
            ],
            "label": "02/03/2019",
            "method": "animate"
           },
           {
            "args": [
             [
              "03/07/2019"
             ],
             {
              "frame": {
               "duration": 0,
               "redraw": true
              },
              "fromcurrent": true,
              "mode": "immediate",
              "transition": {
               "duration": 0,
               "easing": "linear"
              }
             }
            ],
            "label": "03/07/2019",
            "method": "animate"
           },
           {
            "args": [
             [
              "2/28/2019"
             ],
             {
              "frame": {
               "duration": 0,
               "redraw": true
              },
              "fromcurrent": true,
              "mode": "immediate",
              "transition": {
               "duration": 0,
               "easing": "linear"
              }
             }
            ],
            "label": "2/28/2019",
            "method": "animate"
           },
           {
            "args": [
             [
              "3/27/2019"
             ],
             {
              "frame": {
               "duration": 0,
               "redraw": true
              },
              "fromcurrent": true,
              "mode": "immediate",
              "transition": {
               "duration": 0,
               "easing": "linear"
              }
             }
            ],
            "label": "3/27/2019",
            "method": "animate"
           },
           {
            "args": [
             [
              "1/20/2019"
             ],
             {
              "frame": {
               "duration": 0,
               "redraw": true
              },
              "fromcurrent": true,
              "mode": "immediate",
              "transition": {
               "duration": 0,
               "easing": "linear"
              }
             }
            ],
            "label": "1/20/2019",
            "method": "animate"
           },
           {
            "args": [
             [
              "03/12/2019"
             ],
             {
              "frame": {
               "duration": 0,
               "redraw": true
              },
              "fromcurrent": true,
              "mode": "immediate",
              "transition": {
               "duration": 0,
               "easing": "linear"
              }
             }
            ],
            "label": "03/12/2019",
            "method": "animate"
           },
           {
            "args": [
             [
              "2/15/2019"
             ],
             {
              "frame": {
               "duration": 0,
               "redraw": true
              },
              "fromcurrent": true,
              "mode": "immediate",
              "transition": {
               "duration": 0,
               "easing": "linear"
              }
             }
            ],
            "label": "2/15/2019",
            "method": "animate"
           },
           {
            "args": [
             [
              "03/06/2019"
             ],
             {
              "frame": {
               "duration": 0,
               "redraw": true
              },
              "fromcurrent": true,
              "mode": "immediate",
              "transition": {
               "duration": 0,
               "easing": "linear"
              }
             }
            ],
            "label": "03/06/2019",
            "method": "animate"
           },
           {
            "args": [
             [
              "2/14/2019"
             ],
             {
              "frame": {
               "duration": 0,
               "redraw": true
              },
              "fromcurrent": true,
              "mode": "immediate",
              "transition": {
               "duration": 0,
               "easing": "linear"
              }
             }
            ],
            "label": "2/14/2019",
            "method": "animate"
           },
           {
            "args": [
             [
              "3/13/2019"
             ],
             {
              "frame": {
               "duration": 0,
               "redraw": true
              },
              "fromcurrent": true,
              "mode": "immediate",
              "transition": {
               "duration": 0,
               "easing": "linear"
              }
             }
            ],
            "label": "3/13/2019",
            "method": "animate"
           },
           {
            "args": [
             [
              "1/24/2019"
             ],
             {
              "frame": {
               "duration": 0,
               "redraw": true
              },
              "fromcurrent": true,
              "mode": "immediate",
              "transition": {
               "duration": 0,
               "easing": "linear"
              }
             }
            ],
            "label": "1/24/2019",
            "method": "animate"
           },
           {
            "args": [
             [
              "01/06/2019"
             ],
             {
              "frame": {
               "duration": 0,
               "redraw": true
              },
              "fromcurrent": true,
              "mode": "immediate",
              "transition": {
               "duration": 0,
               "easing": "linear"
              }
             }
            ],
            "label": "01/06/2019",
            "method": "animate"
           },
           {
            "args": [
             [
              "02/11/2019"
             ],
             {
              "frame": {
               "duration": 0,
               "redraw": true
              },
              "fromcurrent": true,
              "mode": "immediate",
              "transition": {
               "duration": 0,
               "easing": "linear"
              }
             }
            ],
            "label": "02/11/2019",
            "method": "animate"
           },
           {
            "args": [
             [
              "1/22/2019"
             ],
             {
              "frame": {
               "duration": 0,
               "redraw": true
              },
              "fromcurrent": true,
              "mode": "immediate",
              "transition": {
               "duration": 0,
               "easing": "linear"
              }
             }
            ],
            "label": "1/22/2019",
            "method": "animate"
           },
           {
            "args": [
             [
              "1/13/2019"
             ],
             {
              "frame": {
               "duration": 0,
               "redraw": true
              },
              "fromcurrent": true,
              "mode": "immediate",
              "transition": {
               "duration": 0,
               "easing": "linear"
              }
             }
            ],
            "label": "1/13/2019",
            "method": "animate"
           },
           {
            "args": [
             [
              "01/09/2019"
             ],
             {
              "frame": {
               "duration": 0,
               "redraw": true
              },
              "fromcurrent": true,
              "mode": "immediate",
              "transition": {
               "duration": 0,
               "easing": "linear"
              }
             }
            ],
            "label": "01/09/2019",
            "method": "animate"
           },
           {
            "args": [
             [
              "01/12/2019"
             ],
             {
              "frame": {
               "duration": 0,
               "redraw": true
              },
              "fromcurrent": true,
              "mode": "immediate",
              "transition": {
               "duration": 0,
               "easing": "linear"
              }
             }
            ],
            "label": "01/12/2019",
            "method": "animate"
           },
           {
            "args": [
             [
              "1/26/2019"
             ],
             {
              "frame": {
               "duration": 0,
               "redraw": true
              },
              "fromcurrent": true,
              "mode": "immediate",
              "transition": {
               "duration": 0,
               "easing": "linear"
              }
             }
            ],
            "label": "1/26/2019",
            "method": "animate"
           },
           {
            "args": [
             [
              "1/23/2019"
             ],
             {
              "frame": {
               "duration": 0,
               "redraw": true
              },
              "fromcurrent": true,
              "mode": "immediate",
              "transition": {
               "duration": 0,
               "easing": "linear"
              }
             }
            ],
            "label": "1/23/2019",
            "method": "animate"
           },
           {
            "args": [
             [
              "2/23/2019"
             ],
             {
              "frame": {
               "duration": 0,
               "redraw": true
              },
              "fromcurrent": true,
              "mode": "immediate",
              "transition": {
               "duration": 0,
               "easing": "linear"
              }
             }
            ],
            "label": "2/23/2019",
            "method": "animate"
           },
           {
            "args": [
             [
              "01/02/2019"
             ],
             {
              "frame": {
               "duration": 0,
               "redraw": true
              },
              "fromcurrent": true,
              "mode": "immediate",
              "transition": {
               "duration": 0,
               "easing": "linear"
              }
             }
            ],
            "label": "01/02/2019",
            "method": "animate"
           },
           {
            "args": [
             [
              "02/09/2019"
             ],
             {
              "frame": {
               "duration": 0,
               "redraw": true
              },
              "fromcurrent": true,
              "mode": "immediate",
              "transition": {
               "duration": 0,
               "easing": "linear"
              }
             }
            ],
            "label": "02/09/2019",
            "method": "animate"
           },
           {
            "args": [
             [
              "3/26/2019"
             ],
             {
              "frame": {
               "duration": 0,
               "redraw": true
              },
              "fromcurrent": true,
              "mode": "immediate",
              "transition": {
               "duration": 0,
               "easing": "linear"
              }
             }
            ],
            "label": "3/26/2019",
            "method": "animate"
           },
           {
            "args": [
             [
              "03/01/2019"
             ],
             {
              "frame": {
               "duration": 0,
               "redraw": true
              },
              "fromcurrent": true,
              "mode": "immediate",
              "transition": {
               "duration": 0,
               "easing": "linear"
              }
             }
            ],
            "label": "03/01/2019",
            "method": "animate"
           },
           {
            "args": [
             [
              "02/01/2019"
             ],
             {
              "frame": {
               "duration": 0,
               "redraw": true
              },
              "fromcurrent": true,
              "mode": "immediate",
              "transition": {
               "duration": 0,
               "easing": "linear"
              }
             }
            ],
            "label": "02/01/2019",
            "method": "animate"
           },
           {
            "args": [
             [
              "3/28/2019"
             ],
             {
              "frame": {
               "duration": 0,
               "redraw": true
              },
              "fromcurrent": true,
              "mode": "immediate",
              "transition": {
               "duration": 0,
               "easing": "linear"
              }
             }
            ],
            "label": "3/28/2019",
            "method": "animate"
           },
           {
            "args": [
             [
              "3/24/2019"
             ],
             {
              "frame": {
               "duration": 0,
               "redraw": true
              },
              "fromcurrent": true,
              "mode": "immediate",
              "transition": {
               "duration": 0,
               "easing": "linear"
              }
             }
            ],
            "label": "3/24/2019",
            "method": "animate"
           },
           {
            "args": [
             [
              "02/05/2019"
             ],
             {
              "frame": {
               "duration": 0,
               "redraw": true
              },
              "fromcurrent": true,
              "mode": "immediate",
              "transition": {
               "duration": 0,
               "easing": "linear"
              }
             }
            ],
            "label": "02/05/2019",
            "method": "animate"
           },
           {
            "args": [
             [
              "1/19/2019"
             ],
             {
              "frame": {
               "duration": 0,
               "redraw": true
              },
              "fromcurrent": true,
              "mode": "immediate",
              "transition": {
               "duration": 0,
               "easing": "linear"
              }
             }
            ],
            "label": "1/19/2019",
            "method": "animate"
           },
           {
            "args": [
             [
              "1/16/2019"
             ],
             {
              "frame": {
               "duration": 0,
               "redraw": true
              },
              "fromcurrent": true,
              "mode": "immediate",
              "transition": {
               "duration": 0,
               "easing": "linear"
              }
             }
            ],
            "label": "1/16/2019",
            "method": "animate"
           },
           {
            "args": [
             [
              "01/08/2019"
             ],
             {
              "frame": {
               "duration": 0,
               "redraw": true
              },
              "fromcurrent": true,
              "mode": "immediate",
              "transition": {
               "duration": 0,
               "easing": "linear"
              }
             }
            ],
            "label": "01/08/2019",
            "method": "animate"
           },
           {
            "args": [
             [
              "2/18/2019"
             ],
             {
              "frame": {
               "duration": 0,
               "redraw": true
              },
              "fromcurrent": true,
              "mode": "immediate",
              "transition": {
               "duration": 0,
               "easing": "linear"
              }
             }
            ],
            "label": "2/18/2019",
            "method": "animate"
           },
           {
            "args": [
             [
              "1/18/2019"
             ],
             {
              "frame": {
               "duration": 0,
               "redraw": true
              },
              "fromcurrent": true,
              "mode": "immediate",
              "transition": {
               "duration": 0,
               "easing": "linear"
              }
             }
            ],
            "label": "1/18/2019",
            "method": "animate"
           },
           {
            "args": [
             [
              "2/16/2019"
             ],
             {
              "frame": {
               "duration": 0,
               "redraw": true
              },
              "fromcurrent": true,
              "mode": "immediate",
              "transition": {
               "duration": 0,
               "easing": "linear"
              }
             }
            ],
            "label": "2/16/2019",
            "method": "animate"
           },
           {
            "args": [
             [
              "2/22/2019"
             ],
             {
              "frame": {
               "duration": 0,
               "redraw": true
              },
              "fromcurrent": true,
              "mode": "immediate",
              "transition": {
               "duration": 0,
               "easing": "linear"
              }
             }
            ],
            "label": "2/22/2019",
            "method": "animate"
           },
           {
            "args": [
             [
              "1/29/2019"
             ],
             {
              "frame": {
               "duration": 0,
               "redraw": true
              },
              "fromcurrent": true,
              "mode": "immediate",
              "transition": {
               "duration": 0,
               "easing": "linear"
              }
             }
            ],
            "label": "1/29/2019",
            "method": "animate"
           },
           {
            "args": [
             [
              "01/04/2019"
             ],
             {
              "frame": {
               "duration": 0,
               "redraw": true
              },
              "fromcurrent": true,
              "mode": "immediate",
              "transition": {
               "duration": 0,
               "easing": "linear"
              }
             }
            ],
            "label": "01/04/2019",
            "method": "animate"
           },
           {
            "args": [
             [
              "3/30/2019"
             ],
             {
              "frame": {
               "duration": 0,
               "redraw": true
              },
              "fromcurrent": true,
              "mode": "immediate",
              "transition": {
               "duration": 0,
               "easing": "linear"
              }
             }
            ],
            "label": "3/30/2019",
            "method": "animate"
           },
           {
            "args": [
             [
              "1/30/2019"
             ],
             {
              "frame": {
               "duration": 0,
               "redraw": true
              },
              "fromcurrent": true,
              "mode": "immediate",
              "transition": {
               "duration": 0,
               "easing": "linear"
              }
             }
            ],
            "label": "1/30/2019",
            "method": "animate"
           },
           {
            "args": [
             [
              "01/03/2019"
             ],
             {
              "frame": {
               "duration": 0,
               "redraw": true
              },
              "fromcurrent": true,
              "mode": "immediate",
              "transition": {
               "duration": 0,
               "easing": "linear"
              }
             }
            ],
            "label": "01/03/2019",
            "method": "animate"
           },
           {
            "args": [
             [
              "3/21/2019"
             ],
             {
              "frame": {
               "duration": 0,
               "redraw": true
              },
              "fromcurrent": true,
              "mode": "immediate",
              "transition": {
               "duration": 0,
               "easing": "linear"
              }
             }
            ],
            "label": "3/21/2019",
            "method": "animate"
           },
           {
            "args": [
             [
              "2/13/2019"
             ],
             {
              "frame": {
               "duration": 0,
               "redraw": true
              },
              "fromcurrent": true,
              "mode": "immediate",
              "transition": {
               "duration": 0,
               "easing": "linear"
              }
             }
            ],
            "label": "2/13/2019",
            "method": "animate"
           },
           {
            "args": [
             [
              "1/14/2019"
             ],
             {
              "frame": {
               "duration": 0,
               "redraw": true
              },
              "fromcurrent": true,
              "mode": "immediate",
              "transition": {
               "duration": 0,
               "easing": "linear"
              }
             }
            ],
            "label": "1/14/2019",
            "method": "animate"
           },
           {
            "args": [
             [
              "3/18/2019"
             ],
             {
              "frame": {
               "duration": 0,
               "redraw": true
              },
              "fromcurrent": true,
              "mode": "immediate",
              "transition": {
               "duration": 0,
               "easing": "linear"
              }
             }
            ],
            "label": "3/18/2019",
            "method": "animate"
           },
           {
            "args": [
             [
              "3/20/2019"
             ],
             {
              "frame": {
               "duration": 0,
               "redraw": true
              },
              "fromcurrent": true,
              "mode": "immediate",
              "transition": {
               "duration": 0,
               "easing": "linear"
              }
             }
            ],
            "label": "3/20/2019",
            "method": "animate"
           },
           {
            "args": [
             [
              "2/21/2019"
             ],
             {
              "frame": {
               "duration": 0,
               "redraw": true
              },
              "fromcurrent": true,
              "mode": "immediate",
              "transition": {
               "duration": 0,
               "easing": "linear"
              }
             }
            ],
            "label": "2/21/2019",
            "method": "animate"
           },
           {
            "args": [
             [
              "1/31/2019"
             ],
             {
              "frame": {
               "duration": 0,
               "redraw": true
              },
              "fromcurrent": true,
              "mode": "immediate",
              "transition": {
               "duration": 0,
               "easing": "linear"
              }
             }
            ],
            "label": "1/31/2019",
            "method": "animate"
           },
           {
            "args": [
             [
              "01/11/2019"
             ],
             {
              "frame": {
               "duration": 0,
               "redraw": true
              },
              "fromcurrent": true,
              "mode": "immediate",
              "transition": {
               "duration": 0,
               "easing": "linear"
              }
             }
            ],
            "label": "01/11/2019",
            "method": "animate"
           },
           {
            "args": [
             [
              "2/26/2019"
             ],
             {
              "frame": {
               "duration": 0,
               "redraw": true
              },
              "fromcurrent": true,
              "mode": "immediate",
              "transition": {
               "duration": 0,
               "easing": "linear"
              }
             }
            ],
            "label": "2/26/2019",
            "method": "animate"
           },
           {
            "args": [
             [
              "3/17/2019"
             ],
             {
              "frame": {
               "duration": 0,
               "redraw": true
              },
              "fromcurrent": true,
              "mode": "immediate",
              "transition": {
               "duration": 0,
               "easing": "linear"
              }
             }
            ],
            "label": "3/17/2019",
            "method": "animate"
           },
           {
            "args": [
             [
              "3/14/2019"
             ],
             {
              "frame": {
               "duration": 0,
               "redraw": true
              },
              "fromcurrent": true,
              "mode": "immediate",
              "transition": {
               "duration": 0,
               "easing": "linear"
              }
             }
            ],
            "label": "3/14/2019",
            "method": "animate"
           },
           {
            "args": [
             [
              "02/04/2019"
             ],
             {
              "frame": {
               "duration": 0,
               "redraw": true
              },
              "fromcurrent": true,
              "mode": "immediate",
              "transition": {
               "duration": 0,
               "easing": "linear"
              }
             }
            ],
            "label": "02/04/2019",
            "method": "animate"
           },
           {
            "args": [
             [
              "2/19/2019"
             ],
             {
              "frame": {
               "duration": 0,
               "redraw": true
              },
              "fromcurrent": true,
              "mode": "immediate",
              "transition": {
               "duration": 0,
               "easing": "linear"
              }
             }
            ],
            "label": "2/19/2019",
            "method": "animate"
           }
          ],
          "x": 0.1,
          "xanchor": "left",
          "y": 0,
          "yanchor": "top"
         }
        ],
        "template": {
         "data": {
          "bar": [
           {
            "error_x": {
             "color": "#2a3f5f"
            },
            "error_y": {
             "color": "#2a3f5f"
            },
            "marker": {
             "line": {
              "color": "#E5ECF6",
              "width": 0.5
             },
             "pattern": {
              "fillmode": "overlay",
              "size": 10,
              "solidity": 0.2
             }
            },
            "type": "bar"
           }
          ],
          "barpolar": [
           {
            "marker": {
             "line": {
              "color": "#E5ECF6",
              "width": 0.5
             },
             "pattern": {
              "fillmode": "overlay",
              "size": 10,
              "solidity": 0.2
             }
            },
            "type": "barpolar"
           }
          ],
          "carpet": [
           {
            "aaxis": {
             "endlinecolor": "#2a3f5f",
             "gridcolor": "white",
             "linecolor": "white",
             "minorgridcolor": "white",
             "startlinecolor": "#2a3f5f"
            },
            "baxis": {
             "endlinecolor": "#2a3f5f",
             "gridcolor": "white",
             "linecolor": "white",
             "minorgridcolor": "white",
             "startlinecolor": "#2a3f5f"
            },
            "type": "carpet"
           }
          ],
          "choropleth": [
           {
            "colorbar": {
             "outlinewidth": 0,
             "ticks": ""
            },
            "type": "choropleth"
           }
          ],
          "contour": [
           {
            "colorbar": {
             "outlinewidth": 0,
             "ticks": ""
            },
            "colorscale": [
             [
              0,
              "#0d0887"
             ],
             [
              0.1111111111111111,
              "#46039f"
             ],
             [
              0.2222222222222222,
              "#7201a8"
             ],
             [
              0.3333333333333333,
              "#9c179e"
             ],
             [
              0.4444444444444444,
              "#bd3786"
             ],
             [
              0.5555555555555556,
              "#d8576b"
             ],
             [
              0.6666666666666666,
              "#ed7953"
             ],
             [
              0.7777777777777778,
              "#fb9f3a"
             ],
             [
              0.8888888888888888,
              "#fdca26"
             ],
             [
              1,
              "#f0f921"
             ]
            ],
            "type": "contour"
           }
          ],
          "contourcarpet": [
           {
            "colorbar": {
             "outlinewidth": 0,
             "ticks": ""
            },
            "type": "contourcarpet"
           }
          ],
          "heatmap": [
           {
            "colorbar": {
             "outlinewidth": 0,
             "ticks": ""
            },
            "colorscale": [
             [
              0,
              "#0d0887"
             ],
             [
              0.1111111111111111,
              "#46039f"
             ],
             [
              0.2222222222222222,
              "#7201a8"
             ],
             [
              0.3333333333333333,
              "#9c179e"
             ],
             [
              0.4444444444444444,
              "#bd3786"
             ],
             [
              0.5555555555555556,
              "#d8576b"
             ],
             [
              0.6666666666666666,
              "#ed7953"
             ],
             [
              0.7777777777777778,
              "#fb9f3a"
             ],
             [
              0.8888888888888888,
              "#fdca26"
             ],
             [
              1,
              "#f0f921"
             ]
            ],
            "type": "heatmap"
           }
          ],
          "heatmapgl": [
           {
            "colorbar": {
             "outlinewidth": 0,
             "ticks": ""
            },
            "colorscale": [
             [
              0,
              "#0d0887"
             ],
             [
              0.1111111111111111,
              "#46039f"
             ],
             [
              0.2222222222222222,
              "#7201a8"
             ],
             [
              0.3333333333333333,
              "#9c179e"
             ],
             [
              0.4444444444444444,
              "#bd3786"
             ],
             [
              0.5555555555555556,
              "#d8576b"
             ],
             [
              0.6666666666666666,
              "#ed7953"
             ],
             [
              0.7777777777777778,
              "#fb9f3a"
             ],
             [
              0.8888888888888888,
              "#fdca26"
             ],
             [
              1,
              "#f0f921"
             ]
            ],
            "type": "heatmapgl"
           }
          ],
          "histogram": [
           {
            "marker": {
             "pattern": {
              "fillmode": "overlay",
              "size": 10,
              "solidity": 0.2
             }
            },
            "type": "histogram"
           }
          ],
          "histogram2d": [
           {
            "colorbar": {
             "outlinewidth": 0,
             "ticks": ""
            },
            "colorscale": [
             [
              0,
              "#0d0887"
             ],
             [
              0.1111111111111111,
              "#46039f"
             ],
             [
              0.2222222222222222,
              "#7201a8"
             ],
             [
              0.3333333333333333,
              "#9c179e"
             ],
             [
              0.4444444444444444,
              "#bd3786"
             ],
             [
              0.5555555555555556,
              "#d8576b"
             ],
             [
              0.6666666666666666,
              "#ed7953"
             ],
             [
              0.7777777777777778,
              "#fb9f3a"
             ],
             [
              0.8888888888888888,
              "#fdca26"
             ],
             [
              1,
              "#f0f921"
             ]
            ],
            "type": "histogram2d"
           }
          ],
          "histogram2dcontour": [
           {
            "colorbar": {
             "outlinewidth": 0,
             "ticks": ""
            },
            "colorscale": [
             [
              0,
              "#0d0887"
             ],
             [
              0.1111111111111111,
              "#46039f"
             ],
             [
              0.2222222222222222,
              "#7201a8"
             ],
             [
              0.3333333333333333,
              "#9c179e"
             ],
             [
              0.4444444444444444,
              "#bd3786"
             ],
             [
              0.5555555555555556,
              "#d8576b"
             ],
             [
              0.6666666666666666,
              "#ed7953"
             ],
             [
              0.7777777777777778,
              "#fb9f3a"
             ],
             [
              0.8888888888888888,
              "#fdca26"
             ],
             [
              1,
              "#f0f921"
             ]
            ],
            "type": "histogram2dcontour"
           }
          ],
          "mesh3d": [
           {
            "colorbar": {
             "outlinewidth": 0,
             "ticks": ""
            },
            "type": "mesh3d"
           }
          ],
          "parcoords": [
           {
            "line": {
             "colorbar": {
              "outlinewidth": 0,
              "ticks": ""
             }
            },
            "type": "parcoords"
           }
          ],
          "pie": [
           {
            "automargin": true,
            "type": "pie"
           }
          ],
          "scatter": [
           {
            "fillpattern": {
             "fillmode": "overlay",
             "size": 10,
             "solidity": 0.2
            },
            "type": "scatter"
           }
          ],
          "scatter3d": [
           {
            "line": {
             "colorbar": {
              "outlinewidth": 0,
              "ticks": ""
             }
            },
            "marker": {
             "colorbar": {
              "outlinewidth": 0,
              "ticks": ""
             }
            },
            "type": "scatter3d"
           }
          ],
          "scattercarpet": [
           {
            "marker": {
             "colorbar": {
              "outlinewidth": 0,
              "ticks": ""
             }
            },
            "type": "scattercarpet"
           }
          ],
          "scattergeo": [
           {
            "marker": {
             "colorbar": {
              "outlinewidth": 0,
              "ticks": ""
             }
            },
            "type": "scattergeo"
           }
          ],
          "scattergl": [
           {
            "marker": {
             "colorbar": {
              "outlinewidth": 0,
              "ticks": ""
             }
            },
            "type": "scattergl"
           }
          ],
          "scattermapbox": [
           {
            "marker": {
             "colorbar": {
              "outlinewidth": 0,
              "ticks": ""
             }
            },
            "type": "scattermapbox"
           }
          ],
          "scatterpolar": [
           {
            "marker": {
             "colorbar": {
              "outlinewidth": 0,
              "ticks": ""
             }
            },
            "type": "scatterpolar"
           }
          ],
          "scatterpolargl": [
           {
            "marker": {
             "colorbar": {
              "outlinewidth": 0,
              "ticks": ""
             }
            },
            "type": "scatterpolargl"
           }
          ],
          "scatterternary": [
           {
            "marker": {
             "colorbar": {
              "outlinewidth": 0,
              "ticks": ""
             }
            },
            "type": "scatterternary"
           }
          ],
          "surface": [
           {
            "colorbar": {
             "outlinewidth": 0,
             "ticks": ""
            },
            "colorscale": [
             [
              0,
              "#0d0887"
             ],
             [
              0.1111111111111111,
              "#46039f"
             ],
             [
              0.2222222222222222,
              "#7201a8"
             ],
             [
              0.3333333333333333,
              "#9c179e"
             ],
             [
              0.4444444444444444,
              "#bd3786"
             ],
             [
              0.5555555555555556,
              "#d8576b"
             ],
             [
              0.6666666666666666,
              "#ed7953"
             ],
             [
              0.7777777777777778,
              "#fb9f3a"
             ],
             [
              0.8888888888888888,
              "#fdca26"
             ],
             [
              1,
              "#f0f921"
             ]
            ],
            "type": "surface"
           }
          ],
          "table": [
           {
            "cells": {
             "fill": {
              "color": "#EBF0F8"
             },
             "line": {
              "color": "white"
             }
            },
            "header": {
             "fill": {
              "color": "#C8D4E3"
             },
             "line": {
              "color": "white"
             }
            },
            "type": "table"
           }
          ]
         },
         "layout": {
          "annotationdefaults": {
           "arrowcolor": "#2a3f5f",
           "arrowhead": 0,
           "arrowwidth": 1
          },
          "autotypenumbers": "strict",
          "coloraxis": {
           "colorbar": {
            "outlinewidth": 0,
            "ticks": ""
           }
          },
          "colorscale": {
           "diverging": [
            [
             0,
             "#8e0152"
            ],
            [
             0.1,
             "#c51b7d"
            ],
            [
             0.2,
             "#de77ae"
            ],
            [
             0.3,
             "#f1b6da"
            ],
            [
             0.4,
             "#fde0ef"
            ],
            [
             0.5,
             "#f7f7f7"
            ],
            [
             0.6,
             "#e6f5d0"
            ],
            [
             0.7,
             "#b8e186"
            ],
            [
             0.8,
             "#7fbc41"
            ],
            [
             0.9,
             "#4d9221"
            ],
            [
             1,
             "#276419"
            ]
           ],
           "sequential": [
            [
             0,
             "#0d0887"
            ],
            [
             0.1111111111111111,
             "#46039f"
            ],
            [
             0.2222222222222222,
             "#7201a8"
            ],
            [
             0.3333333333333333,
             "#9c179e"
            ],
            [
             0.4444444444444444,
             "#bd3786"
            ],
            [
             0.5555555555555556,
             "#d8576b"
            ],
            [
             0.6666666666666666,
             "#ed7953"
            ],
            [
             0.7777777777777778,
             "#fb9f3a"
            ],
            [
             0.8888888888888888,
             "#fdca26"
            ],
            [
             1,
             "#f0f921"
            ]
           ],
           "sequentialminus": [
            [
             0,
             "#0d0887"
            ],
            [
             0.1111111111111111,
             "#46039f"
            ],
            [
             0.2222222222222222,
             "#7201a8"
            ],
            [
             0.3333333333333333,
             "#9c179e"
            ],
            [
             0.4444444444444444,
             "#bd3786"
            ],
            [
             0.5555555555555556,
             "#d8576b"
            ],
            [
             0.6666666666666666,
             "#ed7953"
            ],
            [
             0.7777777777777778,
             "#fb9f3a"
            ],
            [
             0.8888888888888888,
             "#fdca26"
            ],
            [
             1,
             "#f0f921"
            ]
           ]
          },
          "colorway": [
           "#636efa",
           "#EF553B",
           "#00cc96",
           "#ab63fa",
           "#FFA15A",
           "#19d3f3",
           "#FF6692",
           "#B6E880",
           "#FF97FF",
           "#FECB52"
          ],
          "font": {
           "color": "#2a3f5f"
          },
          "geo": {
           "bgcolor": "white",
           "lakecolor": "white",
           "landcolor": "#E5ECF6",
           "showlakes": true,
           "showland": true,
           "subunitcolor": "white"
          },
          "hoverlabel": {
           "align": "left"
          },
          "hovermode": "closest",
          "mapbox": {
           "style": "light"
          },
          "paper_bgcolor": "white",
          "plot_bgcolor": "#E5ECF6",
          "polar": {
           "angularaxis": {
            "gridcolor": "white",
            "linecolor": "white",
            "ticks": ""
           },
           "bgcolor": "#E5ECF6",
           "radialaxis": {
            "gridcolor": "white",
            "linecolor": "white",
            "ticks": ""
           }
          },
          "scene": {
           "xaxis": {
            "backgroundcolor": "#E5ECF6",
            "gridcolor": "white",
            "gridwidth": 2,
            "linecolor": "white",
            "showbackground": true,
            "ticks": "",
            "zerolinecolor": "white"
           },
           "yaxis": {
            "backgroundcolor": "#E5ECF6",
            "gridcolor": "white",
            "gridwidth": 2,
            "linecolor": "white",
            "showbackground": true,
            "ticks": "",
            "zerolinecolor": "white"
           },
           "zaxis": {
            "backgroundcolor": "#E5ECF6",
            "gridcolor": "white",
            "gridwidth": 2,
            "linecolor": "white",
            "showbackground": true,
            "ticks": "",
            "zerolinecolor": "white"
           }
          },
          "shapedefaults": {
           "line": {
            "color": "#2a3f5f"
           }
          },
          "ternary": {
           "aaxis": {
            "gridcolor": "white",
            "linecolor": "white",
            "ticks": ""
           },
           "baxis": {
            "gridcolor": "white",
            "linecolor": "white",
            "ticks": ""
           },
           "bgcolor": "#E5ECF6",
           "caxis": {
            "gridcolor": "white",
            "linecolor": "white",
            "ticks": ""
           }
          },
          "title": {
           "x": 0.05
          },
          "xaxis": {
           "automargin": true,
           "gridcolor": "white",
           "linecolor": "white",
           "ticks": "",
           "title": {
            "standoff": 15
           },
           "zerolinecolor": "white",
           "zerolinewidth": 2
          },
          "yaxis": {
           "automargin": true,
           "gridcolor": "white",
           "linecolor": "white",
           "ticks": "",
           "title": {
            "standoff": 15
           },
           "zerolinecolor": "white",
           "zerolinewidth": 2
          }
         }
        },
        "title": {
         "text": "Change in the Total price of Country With regards to DATE"
        },
        "updatemenus": [
         {
          "buttons": [
           {
            "args": [
             null,
             {
              "frame": {
               "duration": 500,
               "redraw": true
              },
              "fromcurrent": true,
              "mode": "immediate",
              "transition": {
               "duration": 500,
               "easing": "linear"
              }
             }
            ],
            "label": "&#9654;",
            "method": "animate"
           },
           {
            "args": [
             [
              null
             ],
             {
              "frame": {
               "duration": 0,
               "redraw": true
              },
              "fromcurrent": true,
              "mode": "immediate",
              "transition": {
               "duration": 0,
               "easing": "linear"
              }
             }
            ],
            "label": "&#9724;",
            "method": "animate"
           }
          ],
          "direction": "left",
          "pad": {
           "r": 10,
           "t": 70
          },
          "showactive": false,
          "type": "buttons",
          "x": 0.1,
          "xanchor": "right",
          "y": 0,
          "yanchor": "top"
         }
        ],
        "xaxis": {
         "anchor": "y",
         "categoryarray": [
          "Yangon",
          "Naypyitaw",
          "Mandalay"
         ],
         "categoryorder": "array",
         "domain": [
          0,
          1
         ],
         "title": {
          "text": "city"
         }
        },
        "yaxis": {
         "anchor": "x",
         "domain": [
          0,
          1
         ],
         "range": [
          0,
          1000
         ],
         "title": {
          "text": "total"
         }
        }
       }
      }
     },
     "metadata": {},
     "output_type": "display_data"
    }
   ],
   "source": [
    "#Change in Total Price of Country With regards to DATE\n",
    "px.bar(sales_data,x='city', y='total', color='city', animation_frame='date', title='Change in the Total price of Country With regards to DATE', animation_group=\"branch\", range_y=[0,1000])"
   ]
  },
  {
   "cell_type": "code",
   "execution_count": 17,
   "metadata": {},
   "outputs": [
    {
     "data": {
      "image/png": "[encoded data removed]",
      "text/plain": [
       "<Figure size 1200x500 with 1 Axes>"
      ]
     },
     "metadata": {},
     "output_type": "display_data"
    }
   ],
   "source": [
    "#Products generating most income\n",
    "dat=sales_data[[\"product_line\", \"gross_income\"]].groupby(['product_line'], as_index=False).sum().sort_values(by='gross_income', ascending=False)\n",
    "plt.figure(figsize=(12, 5))\n",
    "sns.barplot(x='product_line', y='gross_income', data=dat)\n",
    "for i, v in enumerate(dat.gross_income):\n",
    "    plt.text(i,v,str(v),ha='center')"
   ]
  },
  {
   "cell_type": "markdown",
   "metadata": {},
   "source": [
    "## Strategic Decision-Making\n",
    "\n",
    "Based on the analysis of the significant difference in sales between product lines, here are some strategic decision-making options that can be considered:\n",
    "\n",
    "1. Resource allocation: Allocate more resources, such as budget, manpower, and marketing efforts, to the product line with higher sales. This decision ensures that the successful product line receives the necessary support to maintain and potentially further increase its market share.\n",
    "\n",
    "2. Product portfolio optimization: Evaluate the underperforming product lines and assess their viability. Consider whether any adjustments can be made to improve their sales performance or if it would be more strategic to discontinue or divest those lines. This decision allows for a more streamlined and focused product portfolio, concentrating resources on the most profitable and high-potential products.\n",
    "\n",
    "3. Market expansion: Explore opportunities to expand the successful product line into new markets or customer segments. Analyze whether the success of the product line in its current market can be replicated in other regions or target audiences. This decision can help diversify the customer base and reduce reliance on a single market or segment.\n",
    "\n",
    "4. Product line diversification: Evaluate the potential for diversifying the underperforming product lines by introducing new features, variants, or complementary products. This decision allows for expanding the product offerings and tapping into different customer needs and preferences.\n",
    "\n",
    "5. Competitive analysis: Conduct a thorough analysis of competitors' product lines to identify their strengths and weaknesses. Identify any gaps in the market that the underperforming product lines can fill with appropriate adjustments or enhancements. This decision helps position the product lines strategically against competitors and identify unique selling points.\n",
    "\n",
    "6. Marketing and promotional strategies: Assess the marketing and promotional strategies employed for the successful product line and identify best practices that can be applied to the other lines. This decision involves tailoring marketing messages, channels, and campaigns to improve the visibility and appeal of the underperforming product lines.\n",
    "\n",
    "7. Pricing and profitability analysis: Analyze the pricing structures and profit margins of each product line. Assess whether pricing adjustments can be made to improve the competitiveness and profitability of the underperforming lines. This decision involves considering pricing strategies such as bundling, discounts, or premium positioning based on the market dynamics and customer preferences.\n",
    "\n",
    "8. Customer feedback and research: Gather customer feedback, conduct market research, and utilize data analytics to gain deeper insights into customer needs and preferences. This decision supports informed product development and marketing strategies that align with customer expectations and enhance the performance of all product lines.\n"
   ]
  },
  {
   "cell_type": "code",
   "execution_count": 18,
   "metadata": {},
   "outputs": [
    {
     "data": {
      "text/plain": [
       "<Figure size 1300x700 with 0 Axes>"
      ]
     },
     "execution_count": 18,
     "metadata": {},
     "output_type": "execute_result"
    },
    {
     "data": {
      "image/png": "[encoded data removed]",
      "text/plain": [
       "<Figure size 640x480 with 1 Axes>"
      ]
     },
     "metadata": {},
     "output_type": "display_data"
    },
    {
     "data": {
      "text/plain": [
       "<Figure size 1300x700 with 0 Axes>"
      ]
     },
     "metadata": {},
     "output_type": "display_data"
    }
   ],
   "source": [
    "# Lets have a Quick peek at the variability of the data \n",
    "sns.boxplot(x=sales_data['branch'],y=sales_data['gross_income'])\n",
    "plt.title('Customers Gross Income per Branch')\n",
    "plt.figure(figsize=(13, 7))"
   ]
  },
  {
   "cell_type": "markdown",
   "metadata": {},
   "source": [
    "* *On average, there is little variation in gross income among the branches, with Branch C standing out slightly due to higher income compared to Branch A and B. Interestingly, despite Branch A having slightly higher sales, it is Branch C, located in Naypyitaw, that emerges as the most profitable branch in terms of gross income, confirming previous observations*"
   ]
  },
  {
   "cell_type": "code",
   "execution_count": 19,
   "metadata": {},
   "outputs": [
    {
     "data": {
      "text/html": [
       "<div>\n",
       "<style scoped>\n",
       "    .dataframe tbody tr th:only-of-type {\n",
       "        vertical-align: middle;\n",
       "    }\n",
       "\n",
       "    .dataframe tbody tr th {\n",
       "        vertical-align: top;\n",
       "    }\n",
       "\n",
       "    .dataframe thead th {\n",
       "        text-align: right;\n",
       "    }\n",
       "</style>\n",
       "<table border=\"1\" class=\"dataframe\">\n",
       "  <thead>\n",
       "    <tr style=\"text-align: right;\">\n",
       "      <th></th>\n",
       "      <th>unit_price</th>\n",
       "      <th>quantity</th>\n",
       "      <th>tax 5%</th>\n",
       "      <th>total</th>\n",
       "      <th>cogs</th>\n",
       "      <th>gross_margin_percentage</th>\n",
       "      <th>gross_income</th>\n",
       "      <th>rating</th>\n",
       "    </tr>\n",
       "  </thead>\n",
       "  <tbody>\n",
       "    <tr>\n",
       "      <th>0</th>\n",
       "      <td>74.69</td>\n",
       "      <td>7</td>\n",
       "      <td>26.1415</td>\n",
       "      <td>548.9715</td>\n",
       "      <td>522.83</td>\n",
       "      <td>4.761905</td>\n",
       "      <td>26.1415</td>\n",
       "      <td>9.1</td>\n",
       "    </tr>\n",
       "    <tr>\n",
       "      <th>1</th>\n",
       "      <td>15.28</td>\n",
       "      <td>5</td>\n",
       "      <td>3.8200</td>\n",
       "      <td>80.2200</td>\n",
       "      <td>76.40</td>\n",
       "      <td>4.761905</td>\n",
       "      <td>3.8200</td>\n",
       "      <td>9.6</td>\n",
       "    </tr>\n",
       "    <tr>\n",
       "      <th>2</th>\n",
       "      <td>46.33</td>\n",
       "      <td>7</td>\n",
       "      <td>16.2155</td>\n",
       "      <td>340.5255</td>\n",
       "      <td>324.31</td>\n",
       "      <td>4.761905</td>\n",
       "      <td>16.2155</td>\n",
       "      <td>7.4</td>\n",
       "    </tr>\n",
       "    <tr>\n",
       "      <th>3</th>\n",
       "      <td>58.22</td>\n",
       "      <td>8</td>\n",
       "      <td>23.2880</td>\n",
       "      <td>489.0480</td>\n",
       "      <td>465.76</td>\n",
       "      <td>4.761905</td>\n",
       "      <td>23.2880</td>\n",
       "      <td>8.4</td>\n",
       "    </tr>\n",
       "    <tr>\n",
       "      <th>4</th>\n",
       "      <td>86.31</td>\n",
       "      <td>7</td>\n",
       "      <td>30.2085</td>\n",
       "      <td>634.3785</td>\n",
       "      <td>604.17</td>\n",
       "      <td>4.761905</td>\n",
       "      <td>30.2085</td>\n",
       "      <td>5.3</td>\n",
       "    </tr>\n",
       "    <tr>\n",
       "      <th>...</th>\n",
       "      <td>...</td>\n",
       "      <td>...</td>\n",
       "      <td>...</td>\n",
       "      <td>...</td>\n",
       "      <td>...</td>\n",
       "      <td>...</td>\n",
       "      <td>...</td>\n",
       "      <td>...</td>\n",
       "    </tr>\n",
       "    <tr>\n",
       "      <th>995</th>\n",
       "      <td>40.35</td>\n",
       "      <td>1</td>\n",
       "      <td>2.0175</td>\n",
       "      <td>42.3675</td>\n",
       "      <td>40.35</td>\n",
       "      <td>4.761905</td>\n",
       "      <td>2.0175</td>\n",
       "      <td>6.2</td>\n",
       "    </tr>\n",
       "    <tr>\n",
       "      <th>996</th>\n",
       "      <td>97.38</td>\n",
       "      <td>10</td>\n",
       "      <td>48.6900</td>\n",
       "      <td>1022.4900</td>\n",
       "      <td>973.80</td>\n",
       "      <td>4.761905</td>\n",
       "      <td>48.6900</td>\n",
       "      <td>4.4</td>\n",
       "    </tr>\n",
       "    <tr>\n",
       "      <th>997</th>\n",
       "      <td>31.84</td>\n",
       "      <td>1</td>\n",
       "      <td>1.5920</td>\n",
       "      <td>33.4320</td>\n",
       "      <td>31.84</td>\n",
       "      <td>4.761905</td>\n",
       "      <td>1.5920</td>\n",
       "      <td>7.7</td>\n",
       "    </tr>\n",
       "    <tr>\n",
       "      <th>998</th>\n",
       "      <td>65.82</td>\n",
       "      <td>1</td>\n",
       "      <td>3.2910</td>\n",
       "      <td>69.1110</td>\n",
       "      <td>65.82</td>\n",
       "      <td>4.761905</td>\n",
       "      <td>3.2910</td>\n",
       "      <td>4.1</td>\n",
       "    </tr>\n",
       "    <tr>\n",
       "      <th>999</th>\n",
       "      <td>88.34</td>\n",
       "      <td>7</td>\n",
       "      <td>30.9190</td>\n",
       "      <td>649.2990</td>\n",
       "      <td>618.38</td>\n",
       "      <td>4.761905</td>\n",
       "      <td>30.9190</td>\n",
       "      <td>6.6</td>\n",
       "    </tr>\n",
       "  </tbody>\n",
       "</table>\n",
       "<p>1000 rows × 8 columns</p>\n",
       "</div>"
      ],
      "text/plain": [
       "     unit_price  quantity   tax 5%      total    cogs  \\\n",
       "0         74.69         7  26.1415   548.9715  522.83   \n",
       "1         15.28         5   3.8200    80.2200   76.40   \n",
       "2         46.33         7  16.2155   340.5255  324.31   \n",
       "3         58.22         8  23.2880   489.0480  465.76   \n",
       "4         86.31         7  30.2085   634.3785  604.17   \n",
       "..          ...       ...      ...        ...     ...   \n",
       "995       40.35         1   2.0175    42.3675   40.35   \n",
       "996       97.38        10  48.6900  1022.4900  973.80   \n",
       "997       31.84         1   1.5920    33.4320   31.84   \n",
       "998       65.82         1   3.2910    69.1110   65.82   \n",
       "999       88.34         7  30.9190   649.2990  618.38   \n",
       "\n",
       "     gross_margin_percentage  gross_income  rating  \n",
       "0                   4.761905       26.1415     9.1  \n",
       "1                   4.761905        3.8200     9.6  \n",
       "2                   4.761905       16.2155     7.4  \n",
       "3                   4.761905       23.2880     8.4  \n",
       "4                   4.761905       30.2085     5.3  \n",
       "..                       ...           ...     ...  \n",
       "995                 4.761905        2.0175     6.2  \n",
       "996                 4.761905       48.6900     4.4  \n",
       "997                 4.761905        1.5920     7.7  \n",
       "998                 4.761905        3.2910     4.1  \n",
       "999                 4.761905       30.9190     6.6  \n",
       "\n",
       "[1000 rows x 8 columns]"
      ]
     },
     "execution_count": 19,
     "metadata": {},
     "output_type": "execute_result"
    }
   ],
   "source": [
    "numerical_data = sales_data.select_dtypes(include=[np.number])\n",
    "numerical_data"
   ]
  },
  {
   "cell_type": "code",
   "execution_count": 20,
   "metadata": {},
   "outputs": [
    {
     "data": {
      "text/html": [
       "<div>\n",
       "<style scoped>\n",
       "    .dataframe tbody tr th:only-of-type {\n",
       "        vertical-align: middle;\n",
       "    }\n",
       "\n",
       "    .dataframe tbody tr th {\n",
       "        vertical-align: top;\n",
       "    }\n",
       "\n",
       "    .dataframe thead th {\n",
       "        text-align: right;\n",
       "    }\n",
       "</style>\n",
       "<table border=\"1\" class=\"dataframe\">\n",
       "  <thead>\n",
       "    <tr style=\"text-align: right;\">\n",
       "      <th></th>\n",
       "      <th>invoice_id</th>\n",
       "      <th>branch</th>\n",
       "      <th>city</th>\n",
       "      <th>customer_type</th>\n",
       "      <th>gender</th>\n",
       "      <th>product_line</th>\n",
       "      <th>date</th>\n",
       "      <th>time</th>\n",
       "      <th>payment</th>\n",
       "    </tr>\n",
       "  </thead>\n",
       "  <tbody>\n",
       "    <tr>\n",
       "      <th>0</th>\n",
       "      <td>750-67-8428</td>\n",
       "      <td>A</td>\n",
       "      <td>Yangon</td>\n",
       "      <td>Member</td>\n",
       "      <td>Female</td>\n",
       "      <td>Health and beauty</td>\n",
       "      <td>01/05/2019</td>\n",
       "      <td>13:08</td>\n",
       "      <td>Ewallet</td>\n",
       "    </tr>\n",
       "    <tr>\n",
       "      <th>1</th>\n",
       "      <td>226-31-3081</td>\n",
       "      <td>C</td>\n",
       "      <td>Naypyitaw</td>\n",
       "      <td>Normal</td>\n",
       "      <td>Female</td>\n",
       "      <td>Electronic accessories</td>\n",
       "      <td>03/08/2019</td>\n",
       "      <td>10:29</td>\n",
       "      <td>Cash</td>\n",
       "    </tr>\n",
       "    <tr>\n",
       "      <th>2</th>\n",
       "      <td>631-41-3108</td>\n",
       "      <td>A</td>\n",
       "      <td>Yangon</td>\n",
       "      <td>Normal</td>\n",
       "      <td>Male</td>\n",
       "      <td>Home and lifestyle</td>\n",
       "      <td>03/03/2019</td>\n",
       "      <td>13:23</td>\n",
       "      <td>Credit card</td>\n",
       "    </tr>\n",
       "    <tr>\n",
       "      <th>3</th>\n",
       "      <td>123-19-1176</td>\n",
       "      <td>A</td>\n",
       "      <td>Yangon</td>\n",
       "      <td>Member</td>\n",
       "      <td>Male</td>\n",
       "      <td>Health and beauty</td>\n",
       "      <td>1/27/2019</td>\n",
       "      <td>20:33</td>\n",
       "      <td>Ewallet</td>\n",
       "    </tr>\n",
       "    <tr>\n",
       "      <th>4</th>\n",
       "      <td>373-73-7910</td>\n",
       "      <td>A</td>\n",
       "      <td>Yangon</td>\n",
       "      <td>Normal</td>\n",
       "      <td>Male</td>\n",
       "      <td>Sports and travel</td>\n",
       "      <td>02/08/2019</td>\n",
       "      <td>10:37</td>\n",
       "      <td>Ewallet</td>\n",
       "    </tr>\n",
       "    <tr>\n",
       "      <th>...</th>\n",
       "      <td>...</td>\n",
       "      <td>...</td>\n",
       "      <td>...</td>\n",
       "      <td>...</td>\n",
       "      <td>...</td>\n",
       "      <td>...</td>\n",
       "      <td>...</td>\n",
       "      <td>...</td>\n",
       "      <td>...</td>\n",
       "    </tr>\n",
       "    <tr>\n",
       "      <th>995</th>\n",
       "      <td>233-67-5758</td>\n",
       "      <td>C</td>\n",
       "      <td>Naypyitaw</td>\n",
       "      <td>Normal</td>\n",
       "      <td>Male</td>\n",
       "      <td>Health and beauty</td>\n",
       "      <td>1/29/2019</td>\n",
       "      <td>13:46</td>\n",
       "      <td>Ewallet</td>\n",
       "    </tr>\n",
       "    <tr>\n",
       "      <th>996</th>\n",
       "      <td>303-96-2227</td>\n",
       "      <td>B</td>\n",
       "      <td>Mandalay</td>\n",
       "      <td>Normal</td>\n",
       "      <td>Female</td>\n",
       "      <td>Home and lifestyle</td>\n",
       "      <td>03/02/2019</td>\n",
       "      <td>17:16</td>\n",
       "      <td>Ewallet</td>\n",
       "    </tr>\n",
       "    <tr>\n",
       "      <th>997</th>\n",
       "      <td>727-02-1313</td>\n",
       "      <td>A</td>\n",
       "      <td>Yangon</td>\n",
       "      <td>Member</td>\n",
       "      <td>Male</td>\n",
       "      <td>Food and beverages</td>\n",
       "      <td>02/09/2019</td>\n",
       "      <td>13:22</td>\n",
       "      <td>Cash</td>\n",
       "    </tr>\n",
       "    <tr>\n",
       "      <th>998</th>\n",
       "      <td>347-56-2442</td>\n",
       "      <td>A</td>\n",
       "      <td>Yangon</td>\n",
       "      <td>Normal</td>\n",
       "      <td>Male</td>\n",
       "      <td>Home and lifestyle</td>\n",
       "      <td>2/22/2019</td>\n",
       "      <td>15:33</td>\n",
       "      <td>Cash</td>\n",
       "    </tr>\n",
       "    <tr>\n",
       "      <th>999</th>\n",
       "      <td>849-09-3807</td>\n",
       "      <td>A</td>\n",
       "      <td>Yangon</td>\n",
       "      <td>Member</td>\n",
       "      <td>Female</td>\n",
       "      <td>Fashion accessories</td>\n",
       "      <td>2/18/2019</td>\n",
       "      <td>13:28</td>\n",
       "      <td>Cash</td>\n",
       "    </tr>\n",
       "  </tbody>\n",
       "</table>\n",
       "<p>1000 rows × 9 columns</p>\n",
       "</div>"
      ],
      "text/plain": [
       "      invoice_id branch       city customer_type  gender  \\\n",
       "0    750-67-8428      A     Yangon        Member  Female   \n",
       "1    226-31-3081      C  Naypyitaw        Normal  Female   \n",
       "2    631-41-3108      A     Yangon        Normal    Male   \n",
       "3    123-19-1176      A     Yangon        Member    Male   \n",
       "4    373-73-7910      A     Yangon        Normal    Male   \n",
       "..           ...    ...        ...           ...     ...   \n",
       "995  233-67-5758      C  Naypyitaw        Normal    Male   \n",
       "996  303-96-2227      B   Mandalay        Normal  Female   \n",
       "997  727-02-1313      A     Yangon        Member    Male   \n",
       "998  347-56-2442      A     Yangon        Normal    Male   \n",
       "999  849-09-3807      A     Yangon        Member  Female   \n",
       "\n",
       "               product_line        date   time      payment  \n",
       "0         Health and beauty  01/05/2019  13:08      Ewallet  \n",
       "1    Electronic accessories  03/08/2019  10:29         Cash  \n",
       "2        Home and lifestyle  03/03/2019  13:23  Credit card  \n",
       "3         Health and beauty   1/27/2019  20:33      Ewallet  \n",
       "4         Sports and travel  02/08/2019  10:37      Ewallet  \n",
       "..                      ...         ...    ...          ...  \n",
       "995       Health and beauty   1/29/2019  13:46      Ewallet  \n",
       "996      Home and lifestyle  03/02/2019  17:16      Ewallet  \n",
       "997      Food and beverages  02/09/2019  13:22         Cash  \n",
       "998      Home and lifestyle   2/22/2019  15:33         Cash  \n",
       "999     Fashion accessories   2/18/2019  13:28         Cash  \n",
       "\n",
       "[1000 rows x 9 columns]"
      ]
     },
     "execution_count": 20,
     "metadata": {},
     "output_type": "execute_result"
    }
   ],
   "source": [
    "categorical_data = sales_data.select_dtypes(exclude=[np.number])\n",
    "categorical_data "
   ]
  },
  {
   "cell_type": "code",
   "execution_count": null,
   "metadata": {},
   "outputs": [],
   "source": []
  }
 ],
 "metadata": {
  "kernelspec": {
   "display_name": "Python 3",
   "language": "python",
   "name": "python3"
  },
  "language_info": {
   "codemirror_mode": {
    "name": "ipython",
    "version": 3
   },
   "file_extension": ".py",
   "mimetype": "text/x-python",
   "name": "python",
   "nbconvert_exporter": "python",
   "pygments_lexer": "ipython3",
   "version": "3.11.4"
  },
  "orig_nbformat": 4
 },
 "nbformat": 4,
 "nbformat_minor": 2
}
